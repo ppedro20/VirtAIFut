{
 "cells": [
  {
   "cell_type": "code",
   "execution_count": 1,
   "id": "18cfa593",
   "metadata": {},
   "outputs": [
    {
     "name": "stderr",
     "output_type": "stream",
     "text": [
      "\n",
      "[notice] A new release of pip is available: 25.0.1 -> 25.1.1\n",
      "[notice] To update, run: python.exe -m pip install --upgrade pip\n"
     ]
    },
    {
     "name": "stdout",
     "output_type": "stream",
     "text": [
      "Defaulting to user installation because normal site-packages is not writeable\n",
      "Requirement already satisfied: SoccerNet in c:\\users\\pedro\\appdata\\roaming\\python\\python312\\site-packages (0.1.62)\n",
      "Requirement already satisfied: tqdm in c:\\users\\pedro\\appdata\\roaming\\python\\python312\\site-packages (from SoccerNet) (4.67.1)\n",
      "Requirement already satisfied: scikit-video in c:\\users\\pedro\\appdata\\roaming\\python\\python312\\site-packages (from SoccerNet) (1.1.11)\n",
      "Requirement already satisfied: matplotlib in c:\\python312\\lib\\site-packages (from SoccerNet) (3.10.0)\n",
      "Requirement already satisfied: google-measurement-protocol in c:\\users\\pedro\\appdata\\roaming\\python\\python312\\site-packages (from SoccerNet) (1.1.0)\n",
      "Requirement already satisfied: pycocoevalcap in c:\\users\\pedro\\appdata\\roaming\\python\\python312\\site-packages (from SoccerNet) (1.2)\n",
      "Requirement already satisfied: huggingface_hub[cli] in c:\\users\\pedro\\appdata\\roaming\\python\\python312\\site-packages (from SoccerNet) (0.29.3)\n",
      "Requirement already satisfied: boto3 in c:\\users\\pedro\\appdata\\roaming\\python\\python312\\site-packages (from SoccerNet) (1.35.60)\n",
      "Requirement already satisfied: botocore<1.36.0,>=1.35.60 in c:\\users\\pedro\\appdata\\roaming\\python\\python312\\site-packages (from boto3->SoccerNet) (1.35.99)\n",
      "Requirement already satisfied: jmespath<2.0.0,>=0.7.1 in c:\\users\\pedro\\appdata\\roaming\\python\\python312\\site-packages (from boto3->SoccerNet) (1.0.1)\n",
      "Requirement already satisfied: s3transfer<0.11.0,>=0.10.0 in c:\\users\\pedro\\appdata\\roaming\\python\\python312\\site-packages (from boto3->SoccerNet) (0.10.4)\n",
      "Requirement already satisfied: requests<3.0a0,>=2.0 in c:\\python312\\lib\\site-packages (from google-measurement-protocol->SoccerNet) (2.32.3)\n",
      "Requirement already satisfied: prices>=1.0.0 in c:\\users\\pedro\\appdata\\roaming\\python\\python312\\site-packages (from google-measurement-protocol->SoccerNet) (1.1.1)\n",
      "Requirement already satisfied: filelock in c:\\users\\pedro\\appdata\\roaming\\python\\python312\\site-packages (from huggingface_hub[cli]->SoccerNet) (3.17.0)\n",
      "Requirement already satisfied: fsspec>=2023.5.0 in c:\\users\\pedro\\appdata\\roaming\\python\\python312\\site-packages (from huggingface_hub[cli]->SoccerNet) (2025.3.0)\n",
      "Requirement already satisfied: packaging>=20.9 in c:\\users\\pedro\\appdata\\roaming\\python\\python312\\site-packages (from huggingface_hub[cli]->SoccerNet) (24.2)\n",
      "Requirement already satisfied: pyyaml>=5.1 in c:\\users\\pedro\\appdata\\roaming\\python\\python312\\site-packages (from huggingface_hub[cli]->SoccerNet) (6.0.2)\n",
      "Requirement already satisfied: typing-extensions>=3.7.4.3 in c:\\python312\\lib\\site-packages (from huggingface_hub[cli]->SoccerNet) (4.12.2)\n",
      "Requirement already satisfied: InquirerPy==0.3.4 in c:\\users\\pedro\\appdata\\roaming\\python\\python312\\site-packages (from huggingface_hub[cli]->SoccerNet) (0.3.4)\n",
      "Requirement already satisfied: pfzy<0.4.0,>=0.3.1 in c:\\users\\pedro\\appdata\\roaming\\python\\python312\\site-packages (from InquirerPy==0.3.4->huggingface_hub[cli]->SoccerNet) (0.3.4)\n",
      "Requirement already satisfied: prompt-toolkit<4.0.0,>=3.0.1 in c:\\users\\pedro\\appdata\\roaming\\python\\python312\\site-packages (from InquirerPy==0.3.4->huggingface_hub[cli]->SoccerNet) (3.0.50)\n",
      "Requirement already satisfied: colorama in c:\\users\\pedro\\appdata\\roaming\\python\\python312\\site-packages (from tqdm->SoccerNet) (0.4.6)\n",
      "Requirement already satisfied: contourpy>=1.0.1 in c:\\python312\\lib\\site-packages (from matplotlib->SoccerNet) (1.3.1)\n",
      "Requirement already satisfied: cycler>=0.10 in c:\\python312\\lib\\site-packages (from matplotlib->SoccerNet) (0.12.1)\n",
      "Requirement already satisfied: fonttools>=4.22.0 in c:\\python312\\lib\\site-packages (from matplotlib->SoccerNet) (4.55.8)\n",
      "Requirement already satisfied: kiwisolver>=1.3.1 in c:\\python312\\lib\\site-packages (from matplotlib->SoccerNet) (1.4.8)\n",
      "Requirement already satisfied: numpy>=1.23 in c:\\users\\pedro\\appdata\\roaming\\python\\python312\\site-packages (from matplotlib->SoccerNet) (1.26.4)\n",
      "Requirement already satisfied: pillow>=8 in c:\\users\\pedro\\appdata\\roaming\\python\\python312\\site-packages (from matplotlib->SoccerNet) (10.4.0)\n",
      "Requirement already satisfied: pyparsing>=2.3.1 in c:\\python312\\lib\\site-packages (from matplotlib->SoccerNet) (3.2.1)\n",
      "Requirement already satisfied: python-dateutil>=2.7 in c:\\users\\pedro\\appdata\\roaming\\python\\python312\\site-packages (from matplotlib->SoccerNet) (2.9.0.post0)\n",
      "Requirement already satisfied: pycocotools>=2.0.2 in c:\\users\\pedro\\appdata\\roaming\\python\\python312\\site-packages (from pycocoevalcap->SoccerNet) (2.0.8)\n",
      "Requirement already satisfied: scipy in c:\\python312\\lib\\site-packages (from scikit-video->SoccerNet) (1.15.1)\n",
      "Requirement already satisfied: urllib3!=2.2.0,<3,>=1.25.4 in c:\\python312\\lib\\site-packages (from botocore<1.36.0,>=1.35.60->boto3->SoccerNet) (2.3.0)\n",
      "Requirement already satisfied: babel>=2.5.0 in c:\\users\\pedro\\appdata\\roaming\\python\\python312\\site-packages (from prices>=1.0.0->google-measurement-protocol->SoccerNet) (2.17.0)\n",
      "Requirement already satisfied: six>=1.5 in c:\\users\\pedro\\appdata\\roaming\\python\\python312\\site-packages (from python-dateutil>=2.7->matplotlib->SoccerNet) (1.17.0)\n",
      "Requirement already satisfied: charset-normalizer<4,>=2 in c:\\python312\\lib\\site-packages (from requests<3.0a0,>=2.0->google-measurement-protocol->SoccerNet) (3.4.1)\n",
      "Requirement already satisfied: idna<4,>=2.5 in c:\\users\\pedro\\appdata\\roaming\\python\\python312\\site-packages (from requests<3.0a0,>=2.0->google-measurement-protocol->SoccerNet) (3.7)\n",
      "Requirement already satisfied: certifi>=2017.4.17 in c:\\python312\\lib\\site-packages (from requests<3.0a0,>=2.0->google-measurement-protocol->SoccerNet) (2025.1.31)\n",
      "Requirement already satisfied: wcwidth in c:\\users\\pedro\\appdata\\roaming\\python\\python312\\site-packages (from prompt-toolkit<4.0.0,>=3.0.1->InquirerPy==0.3.4->huggingface_hub[cli]->SoccerNet) (0.2.13)\n"
     ]
    },
    {
     "name": "stderr",
     "output_type": "stream",
     "text": [
      "C:\\Users\\pedro\\AppData\\Roaming\\Python\\Python312\\site-packages\\tqdm\\auto.py:21: TqdmWarning: IProgress not found. Please update jupyter and ipywidgets. See https://ipywidgets.readthedocs.io/en/stable/user_install.html\n",
      "  from .autonotebook import tqdm as notebook_tqdm\n",
      "Downloading path/to/SoccerNet\\tracking\\train.zip...: : 9.58GiB [10:22, 15.4MiB/s]                           \n",
      "Downloading path/to/SoccerNet\\tracking\\test.zip...: : 8.71GiB [26:57, 5.39MiB/s]                           \n",
      "Downloading path/to/SoccerNet\\tracking\\challenge.zip...: : 11.0GiB [12:35, 14.5MiB/s]                           \n"
     ]
    }
   ],
   "source": [
    "!pip install SoccerNet --upgrade\n",
    "\n",
    "import SoccerNet\n",
    "from SoccerNet.Downloader import SoccerNetDownloader\n",
    "mySoccerNetDownloader=SoccerNetDownloader(LocalDirectory=\"path/to/SoccerNet\")\n",
    "\n",
    "mySoccerNetDownloader.password = \"s0cc3rn3t\"\n",
    "mySoccerNetDownloader.downloadDataTask(task=\"tracking\", split=[\"train\", \"test\", \"challenge\"])"
   ]
  }
 ],
 "metadata": {
  "kernelspec": {
   "display_name": "Python 3",
   "language": "python",
   "name": "python3"
  },
  "language_info": {
   "codemirror_mode": {
    "name": "ipython",
    "version": 3
   },
   "file_extension": ".py",
   "mimetype": "text/x-python",
   "name": "python",
   "nbconvert_exporter": "python",
   "pygments_lexer": "ipython3",
   "version": "3.12.6"
  }
 },
 "nbformat": 4,
 "nbformat_minor": 5
}
