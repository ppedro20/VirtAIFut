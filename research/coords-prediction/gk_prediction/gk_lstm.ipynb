{
 "cells": [
  {
   "cell_type": "code",
   "execution_count": 1,
   "id": "8fa539f9",
   "metadata": {},
   "outputs": [],
   "source": [
    "# --- 1. Imports ---\n",
    "import numpy as np\n",
    "import pandas as pd\n",
    "import tensorflow as tf\n",
    "from tensorflow.keras.models import Sequential\n",
    "from tensorflow.keras.layers import LSTM, Dense\n",
    "from sklearn.model_selection import train_test_split\n",
    "import matplotlib.pyplot as plt"
   ]
  },
  {
   "cell_type": "code",
   "execution_count": 5,
   "id": "73f8ff62",
   "metadata": {},
   "outputs": [
    {
     "data": {
      "text/html": [
       "<div>\n",
       "<style scoped>\n",
       "    .dataframe tbody tr th:only-of-type {\n",
       "        vertical-align: middle;\n",
       "    }\n",
       "\n",
       "    .dataframe tbody tr th {\n",
       "        vertical-align: top;\n",
       "    }\n",
       "\n",
       "    .dataframe thead th {\n",
       "        text-align: right;\n",
       "    }\n",
       "</style>\n",
       "<table border=\"1\" class=\"dataframe\">\n",
       "  <thead>\n",
       "    <tr style=\"text-align: right;\">\n",
       "      <th></th>\n",
       "      <th>frame_index</th>\n",
       "      <th>ball_coords</th>\n",
       "      <th>gk_t1_coords</th>\n",
       "      <th>gk_t2_coords</th>\n",
       "      <th>team_0_players</th>\n",
       "      <th>team_1_players</th>\n",
       "    </tr>\n",
       "  </thead>\n",
       "  <tbody>\n",
       "    <tr>\n",
       "      <th>0</th>\n",
       "      <td>0</td>\n",
       "      <td>NaN</td>\n",
       "      <td>NaN</td>\n",
       "      <td>NaN</td>\n",
       "      <td>[(803.5, 634.5), (1850.5, 723.0), (1411.5, 236...</td>\n",
       "      <td>[(652.0, 437.5), (473.5, 208.5), (340.0, 656.0...</td>\n",
       "    </tr>\n",
       "    <tr>\n",
       "      <th>1</th>\n",
       "      <td>1</td>\n",
       "      <td>(891.5, 209.0)</td>\n",
       "      <td>NaN</td>\n",
       "      <td>NaN</td>\n",
       "      <td>[(1128.0, 322.0), (1214.0, 817.5), (1534.0, 30...</td>\n",
       "      <td>[(1003.5, 282.5), (550.0, 458.0), (1080.0, 354...</td>\n",
       "    </tr>\n",
       "    <tr>\n",
       "      <th>2</th>\n",
       "      <td>2</td>\n",
       "      <td>(129.5, 595.5)</td>\n",
       "      <td>NaN</td>\n",
       "      <td>NaN</td>\n",
       "      <td>[(1110.0, 402.0), (1551.0, 233.5), (800.0, 283...</td>\n",
       "      <td>[(1312.5, 294.0), (598.0, 259.5), (1442.0, 367...</td>\n",
       "    </tr>\n",
       "    <tr>\n",
       "      <th>3</th>\n",
       "      <td>3</td>\n",
       "      <td>NaN</td>\n",
       "      <td>NaN</td>\n",
       "      <td>NaN</td>\n",
       "      <td>[(1132.0, 614.5), (1787.5, 407.5), (1489.5, 46...</td>\n",
       "      <td>[(573.5, 384.5), (263.5, 601.0), (1240.0, 430....</td>\n",
       "    </tr>\n",
       "    <tr>\n",
       "      <th>4</th>\n",
       "      <td>4</td>\n",
       "      <td>(1778.5, 756.0)</td>\n",
       "      <td>(115.5, 319.0)</td>\n",
       "      <td>(1314.5, 246.0)</td>\n",
       "      <td>[(138.5, 847.0), (1362.0, 557.0), (250.0, 662....</td>\n",
       "      <td>[(1159.0, 535.0), (782.5, 601.0), (1587.5, 413...</td>\n",
       "    </tr>\n",
       "  </tbody>\n",
       "</table>\n",
       "</div>"
      ],
      "text/plain": [
       "   frame_index      ball_coords    gk_t1_coords     gk_t2_coords  \\\n",
       "0            0              NaN             NaN              NaN   \n",
       "1            1   (891.5, 209.0)             NaN              NaN   \n",
       "2            2   (129.5, 595.5)             NaN              NaN   \n",
       "3            3              NaN             NaN              NaN   \n",
       "4            4  (1778.5, 756.0)  (115.5, 319.0)  (1314.5, 246.0)   \n",
       "\n",
       "                                      team_0_players  \\\n",
       "0  [(803.5, 634.5), (1850.5, 723.0), (1411.5, 236...   \n",
       "1  [(1128.0, 322.0), (1214.0, 817.5), (1534.0, 30...   \n",
       "2  [(1110.0, 402.0), (1551.0, 233.5), (800.0, 283...   \n",
       "3  [(1132.0, 614.5), (1787.5, 407.5), (1489.5, 46...   \n",
       "4  [(138.5, 847.0), (1362.0, 557.0), (250.0, 662....   \n",
       "\n",
       "                                      team_1_players  \n",
       "0  [(652.0, 437.5), (473.5, 208.5), (340.0, 656.0...  \n",
       "1  [(1003.5, 282.5), (550.0, 458.0), (1080.0, 354...  \n",
       "2  [(1312.5, 294.0), (598.0, 259.5), (1442.0, 367...  \n",
       "3  [(573.5, 384.5), (263.5, 601.0), (1240.0, 430....  \n",
       "4  [(1159.0, 535.0), (782.5, 601.0), (1587.5, 413...  "
      ]
     },
     "execution_count": 5,
     "metadata": {},
     "output_type": "execute_result"
    }
   ],
   "source": [
    "# --- 2. Data Preparation ---\n",
    "# Example: Suppose your data is in a CSV with columns:\n",
    "# ['gk_x', 'gk_y', 'ball_x', 'ball_y', 'p1_x', 'p1_y', ..., 'pn_x', 'pn_y']\n",
    "# Each row is a timestep; you need to create sequences.\n",
    "\n",
    "# Load your data\n",
    "data = pd.read_csv('all_coordinates-45min.csv') \n",
    "data.head()"
   ]
  },
  {
   "cell_type": "code",
   "execution_count": 6,
   "id": "61048342",
   "metadata": {},
   "outputs": [],
   "source": [
    "# Parameters\n",
    "sequence_length = 10  # Number of timesteps in each sequence\n",
    "num_players = (data.shape[1] - 4) // 2  # Exclude GK and ball coords\n",
    "\n",
    "# Build sequences\n",
    "def create_sequences(df, seq_len):\n",
    "    X, y = [], []\n",
    "    for i in range(len(df) - seq_len):\n",
    "        # Input: GK, ball, team 1 players (except GK)\n",
    "        seq_input = df.iloc[i:i+seq_len, 2:].values  # Exclude GK coords\n",
    "        # Output: GK position at next timestep\n",
    "        seq_output = df.iloc[i+seq_len, 0:2].values  # GK x, y\n",
    "        X.append(seq_input)\n",
    "        y.append(seq_output)\n",
    "    return np.array(X), np.array(y)\n",
    "\n",
    "X, y = create_sequences(data, sequence_length)\n",
    "\n",
    "# Split\n",
    "X_train, X_test, y_train, y_test = train_test_split(X, y, test_size=0.2, random_state=42)\n"
   ]
  },
  {
   "cell_type": "code",
   "execution_count": null,
   "id": "65f16697",
   "metadata": {},
   "outputs": [],
   "source": [
    "# --- 3. Model Definition ---\n",
    "model = Sequential([\n",
    "    LSTM(64, input_shape=(X.shape[1], X.shape[2]), return_sequences=False),\n",
    "    Dense(32, activation='relu'),\n",
    "    Dense(2)  # Predict GK x, y\n",
    "])\n",
    "\n",
    "model.compile(optimizer='adam', loss='mse')"
   ]
  },
  {
   "cell_type": "code",
   "execution_count": 9,
   "id": "f9e95b22",
   "metadata": {},
   "outputs": [
    {
     "ename": "ValueError",
     "evalue": "Invalid dtype: object",
     "output_type": "error",
     "traceback": [
      "\u001b[1;31m---------------------------------------------------------------------------\u001b[0m",
      "\u001b[1;31mValueError\u001b[0m                                Traceback (most recent call last)",
      "Cell \u001b[1;32mIn[9], line 2\u001b[0m\n\u001b[0;32m      1\u001b[0m \u001b[38;5;66;03m# --- 4. Training ---\u001b[39;00m\n\u001b[1;32m----> 2\u001b[0m history \u001b[38;5;241m=\u001b[39m \u001b[43mmodel\u001b[49m\u001b[38;5;241;43m.\u001b[39;49m\u001b[43mfit\u001b[49m\u001b[43m(\u001b[49m\u001b[43mX_train\u001b[49m\u001b[43m,\u001b[49m\u001b[43m \u001b[49m\u001b[43my_train\u001b[49m\u001b[43m,\u001b[49m\u001b[43m \u001b[49m\u001b[43mepochs\u001b[49m\u001b[38;5;241;43m=\u001b[39;49m\u001b[38;5;241;43m30\u001b[39;49m\u001b[43m,\u001b[49m\u001b[43m \u001b[49m\u001b[43mbatch_size\u001b[49m\u001b[38;5;241;43m=\u001b[39;49m\u001b[38;5;241;43m32\u001b[39;49m\u001b[43m,\u001b[49m\u001b[43m \u001b[49m\u001b[43mvalidation_split\u001b[49m\u001b[38;5;241;43m=\u001b[39;49m\u001b[38;5;241;43m0.2\u001b[39;49m\u001b[43m)\u001b[49m\n",
      "File \u001b[1;32mc:\\Python312\\Lib\\site-packages\\keras\\src\\utils\\traceback_utils.py:122\u001b[0m, in \u001b[0;36mfilter_traceback.<locals>.error_handler\u001b[1;34m(*args, **kwargs)\u001b[0m\n\u001b[0;32m    119\u001b[0m     filtered_tb \u001b[38;5;241m=\u001b[39m _process_traceback_frames(e\u001b[38;5;241m.\u001b[39m__traceback__)\n\u001b[0;32m    120\u001b[0m     \u001b[38;5;66;03m# To get the full stack trace, call:\u001b[39;00m\n\u001b[0;32m    121\u001b[0m     \u001b[38;5;66;03m# `keras.config.disable_traceback_filtering()`\u001b[39;00m\n\u001b[1;32m--> 122\u001b[0m     \u001b[38;5;28;01mraise\u001b[39;00m e\u001b[38;5;241m.\u001b[39mwith_traceback(filtered_tb) \u001b[38;5;28;01mfrom\u001b[39;00m\u001b[38;5;250m \u001b[39m\u001b[38;5;28;01mNone\u001b[39;00m\n\u001b[0;32m    123\u001b[0m \u001b[38;5;28;01mfinally\u001b[39;00m:\n\u001b[0;32m    124\u001b[0m     \u001b[38;5;28;01mdel\u001b[39;00m filtered_tb\n",
      "File \u001b[1;32mc:\\Python312\\Lib\\site-packages\\optree\\ops.py:766\u001b[0m, in \u001b[0;36mtree_map\u001b[1;34m(func, tree, is_leaf, none_is_leaf, namespace, *rests)\u001b[0m\n\u001b[0;32m    764\u001b[0m leaves, treespec \u001b[38;5;241m=\u001b[39m _C\u001b[38;5;241m.\u001b[39mflatten(tree, is_leaf, none_is_leaf, namespace)\n\u001b[0;32m    765\u001b[0m flat_args \u001b[38;5;241m=\u001b[39m [leaves] \u001b[38;5;241m+\u001b[39m [treespec\u001b[38;5;241m.\u001b[39mflatten_up_to(r) \u001b[38;5;28;01mfor\u001b[39;00m r \u001b[38;5;129;01min\u001b[39;00m rests]\n\u001b[1;32m--> 766\u001b[0m \u001b[38;5;28;01mreturn\u001b[39;00m \u001b[43mtreespec\u001b[49m\u001b[38;5;241;43m.\u001b[39;49m\u001b[43munflatten\u001b[49m\u001b[43m(\u001b[49m\u001b[38;5;28;43mmap\u001b[39;49m\u001b[43m(\u001b[49m\u001b[43mfunc\u001b[49m\u001b[43m,\u001b[49m\u001b[43m \u001b[49m\u001b[38;5;241;43m*\u001b[39;49m\u001b[43mflat_args\u001b[49m\u001b[43m)\u001b[49m\u001b[43m)\u001b[49m\n",
      "\u001b[1;31mValueError\u001b[0m: Invalid dtype: object"
     ]
    }
   ],
   "source": [
    "# --- 4. Training ---\n",
    "history = model.fit(X_train, y_train, epochs=30, batch_size=32, validation_split=0.2)\n"
   ]
  },
  {
   "cell_type": "code",
   "execution_count": null,
   "id": "76f663ad",
   "metadata": {},
   "outputs": [],
   "source": [
    "# --- 5. Evaluation ---\n",
    "loss = model.evaluate(X_test, y_test)\n",
    "print(f'Test Loss: {loss}')"
   ]
  },
  {
   "cell_type": "code",
   "execution_count": null,
   "id": "5170ecec",
   "metadata": {},
   "outputs": [],
   "source": [
    "# --- 6. Prediction Example ---\n",
    "y_pred = model.predict(X_test)\n",
    "\n",
    "# Plot true vs predicted GK positions (for first 100 samples)\n",
    "plt.figure(figsize=(10,5))\n",
    "plt.plot(y_test[:100,0], y_test[:100,1], 'bo-', label='True GK')\n",
    "plt.plot(y_pred[:100,0], y_pred[:100,1], 'rx-', label='Predicted GK')\n",
    "plt.legend()\n",
    "plt.xlabel('X')\n",
    "plt.ylabel('Y')\n",
    "plt.title('GK Position Prediction')\n",
    "plt.show()"
   ]
  }
 ],
 "metadata": {
  "kernelspec": {
   "display_name": "Python 3",
   "language": "python",
   "name": "python3"
  },
  "language_info": {
   "codemirror_mode": {
    "name": "ipython",
    "version": 3
   },
   "file_extension": ".py",
   "mimetype": "text/x-python",
   "name": "python",
   "nbconvert_exporter": "python",
   "pygments_lexer": "ipython3",
   "version": "3.12.6"
  }
 },
 "nbformat": 4,
 "nbformat_minor": 5
}
