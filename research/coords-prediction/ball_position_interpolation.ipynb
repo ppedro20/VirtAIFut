{
 "cells": [
  {
   "cell_type": "code",
   "execution_count": 2,
   "id": "075ace78",
   "metadata": {},
   "outputs": [],
   "source": [
    "import pandas as pd\n",
    "import numpy as np\n",
    "import torch\n",
    "import torch.nn as nn\n",
    "from torch.utils.data import DataLoader, TensorDataset\n",
    "import matplotlib.pyplot as plt\n",
    "import matplotlib.patches as patches"
   ]
  },
  {
   "cell_type": "code",
   "execution_count": 3,
   "id": "73986b33",
   "metadata": {},
   "outputs": [
    {
     "name": "stdout",
     "output_type": "stream",
     "text": [
      "Index(['Frame', ' ball_x', ' ball_y'], dtype='object')\n"
     ]
    }
   ],
   "source": [
    "# Read the CSV file\n",
    "ball_df = pd.read_csv('../data/raw/ball_positions.csv')\n",
    "print(ball_df.columns)"
   ]
  },
  {
   "cell_type": "code",
   "execution_count": 4,
   "id": "dc705ab5",
   "metadata": {},
   "outputs": [
    {
     "name": "stdout",
     "output_type": "stream",
     "text": [
      "Cleaned Columns: Index(['Frame', 'ball_x', 'ball_y'], dtype='object')\n",
      "After interpolation:\n",
      "    Frame       ball_x      ball_y\n",
      "0       0  1624.500000  492.000000\n",
      "1       1  1655.000000  496.000000\n",
      "2       2  1540.000000  392.500000\n",
      "3       3  1538.000000  393.500000\n",
      "4       4  1539.500000  387.500000\n",
      "..    ...          ...         ...\n",
      "74     74   292.666656  600.444458\n",
      "75     75   208.333328  564.722229\n",
      "76     76   124.000000  529.000000\n",
      "77     77   106.500000  507.500000\n",
      "78     78    90.000000  487.000000\n",
      "\n",
      "[79 rows x 3 columns]\n"
     ]
    }
   ],
   "source": [
    "# Strip leading/trailing spaces from column names\n",
    "ball_df.columns = ball_df.columns.str.strip()\n",
    "\n",
    "# Debugging: Print the cleaned column names\n",
    "print(\"Cleaned Columns:\", ball_df.columns)\n",
    "\n",
    "# Interpolate missing X and Y values\n",
    "ball_df[['ball_x', 'ball_y']] = ball_df[['ball_x', 'ball_y']].interpolate(limit_direction='both')\n",
    "\n",
    "# Drop rows where X or Y are still NaN\n",
    "ball_df = ball_df.dropna(subset=['ball_x', 'ball_y'])\n",
    "\n",
    "# Convert X and Y to float32\n",
    "ball_df[['ball_x', 'ball_y']] = ball_df[['ball_x', 'ball_y']].astype('float32')\n",
    "\n",
    "# Check result\n",
    "print(\"After interpolation:\")\n",
    "print(ball_df.head(150))\n",
    "\n",
    "# Save cleaned version (optional)\n",
    "ball_df.to_csv(\"../data/results/ball_positions_interpolated.csv\", index=False)"
   ]
  },
  {
   "cell_type": "code",
   "execution_count": 5,
   "id": "2497842c",
   "metadata": {},
   "outputs": [
    {
     "data": {
      "image/png": "[encoded data removed]",
      "text/plain": [
       "<Figure size 1000x600 with 1 Axes>"
      ]
     },
     "metadata": {},
     "output_type": "display_data"
    }
   ],
   "source": [
    "# Load the interpolated ball positions\n",
    "ball_df = pd.read_csv(\"../data/results/ball_positions_interpolated.csv\")\n",
    "\n",
    "# Function to draw the football pitch\n",
    "def draw_pitch(ax=None):\n",
    "    if ax is None:\n",
    "        fig, ax = plt.subplots(figsize=(10, 6))\n",
    "    \n",
    "    # Pitch Outline\n",
    "    pitch = patches.Rectangle([0, 0], 1, 0.7, edgecolor=\"black\", facecolor=\"none\", lw=2)\n",
    "    ax.add_patch(pitch)\n",
    "    \n",
    "    # Center Circle\n",
    "    center_circle = patches.Circle([0.5, 0.35], 0.1, edgecolor=\"black\", facecolor=\"none\", lw=2)\n",
    "    ax.add_patch(center_circle)\n",
    "    \n",
    "    # Halfway Line\n",
    "    ax.plot([0.5, 0.5], [0, 0.7], color=\"black\", lw=2)\n",
    "    \n",
    "    # Penalty Areas\n",
    "    penalty_area_left = patches.Rectangle([0, 0.2], 0.1, 0.3, edgecolor=\"black\", facecolor=\"none\", lw=2)\n",
    "    penalty_area_right = patches.Rectangle([0.9, 0.2], 0.1, 0.3, edgecolor=\"black\", facecolor=\"none\", lw=2)\n",
    "    ax.add_patch(penalty_area_left)\n",
    "    ax.add_patch(penalty_area_right)\n",
    "    \n",
    "    # Goals\n",
    "    goal_left = patches.Rectangle([-0.02, 0.3], 0.02, 0.1, edgecolor=\"black\", facecolor=\"none\", lw=2)\n",
    "    goal_right = patches.Rectangle([1, 0.3], 0.02, 0.1, edgecolor=\"black\", facecolor=\"none\", lw=2)\n",
    "    ax.add_patch(goal_left)\n",
    "    ax.add_patch(goal_right)\n",
    "    \n",
    "    # Add field dimensions as labels\n",
    "    ax.text(0.5, -0.05, \"Length: 100m\", ha=\"center\", va=\"center\", fontsize=10, color=\"black\")\n",
    "    ax.text(-0.05, 0.35, \"Width: 70m\", ha=\"center\", va=\"center\", fontsize=10, color=\"black\", rotation=90)\n",
    "        \n",
    "    # Set limits and aspect\n",
    "    ax.set_xlim(-0.05, 1.05)\n",
    "    ax.set_ylim(-0.05, 0.75)\n",
    "    ax.set_aspect(\"equal\")\n",
    "    ax.axis(\"off\")\n",
    "    return ax\n",
    "\n",
    "# Normalize positions to fit within the pitch dimensions\n",
    "ball_df[\"pitch_ball_x\"] = (ball_df[\"ball_x\"] - ball_df[\"ball_x\"].min()) / (ball_df[\"ball_x\"].max() - ball_df[\"ball_x\"].min())\n",
    "ball_df[\"pitch_ball_y\"] = (ball_df[\"ball_y\"] - ball_df[\"ball_y\"].min()) / (ball_df[\"ball_y\"].max() - ball_df[\"ball_y\"].min()) * 0.7\n",
    "\n",
    "# Plot the football pitch and positions\n",
    "ax = draw_pitch()\n",
    "ax.scatter(ball_df[\"pitch_ball_x\"], ball_df[\"pitch_ball_y\"], color=\"blue\", label=\"Ball\", alpha=0.7, s=10)\n",
    "\n",
    "# Add legend and title\n",
    "ax.legend(loc=\"upper right\")\n",
    "ax.set_title(\"Football Pitch: Ball Positions\")\n",
    "\n",
    "plt.show()"
   ]
  }
 ],
 "metadata": {
  "kernelspec": {
   "display_name": "Python 3",
   "language": "python",
   "name": "python3"
  },
  "language_info": {
   "codemirror_mode": {
    "name": "ipython",
    "version": 3
   },
   "file_extension": ".py",
   "mimetype": "text/x-python",
   "name": "python",
   "nbconvert_exporter": "python",
   "pygments_lexer": "ipython3",
   "version": "3.12.6"
  }
 },
 "nbformat": 4,
 "nbformat_minor": 5
}
