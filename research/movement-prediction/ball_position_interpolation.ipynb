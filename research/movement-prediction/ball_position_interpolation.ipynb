{
 "cells": [
  {
   "cell_type": "code",
   "execution_count": null,
   "id": "075ace78",
   "metadata": {},
   "outputs": [],
   "source": [
    "import pandas as pd\n",
    "import numpy as np"
   ]
  },
  {
   "cell_type": "code",
   "execution_count": null,
   "id": "73986b33",
   "metadata": {},
   "outputs": [],
   "source": [
    "print(ball_df.columns)"
   ]
  },
  {
   "cell_type": "code",
   "execution_count": null,
   "id": "dc705ab5",
   "metadata": {},
   "outputs": [],
   "source": [
    "# Read the CSV file\n",
    "ball_df = pd.read_csv('../data/raw/ball_positions.csv')\n",
    "\n",
    "# Strip leading/trailing spaces from column names\n",
    "ball_df.columns = ball_df.columns.str.strip()\n",
    "\n",
    "# Debugging: Print the cleaned column names\n",
    "print(\"Cleaned Columns:\", ball_df.columns)\n",
    "\n",
    "# Interpolate missing X and Y values\n",
    "ball_df[['X', 'Y']] = ball_df[['X', 'Y']].interpolate(limit_direction='both')\n",
    "\n",
    "# Drop rows where X or Y are still NaN\n",
    "ball_df = ball_df.dropna(subset=['X', 'Y'])\n",
    "\n",
    "# Convert X and Y to float32\n",
    "ball_df[['X', 'Y']] = ball_df[['X', 'Y']].astype('float32')\n",
    "\n",
    "# Check result\n",
    "print(\"After interpolation:\")\n",
    "print(ball_df.head(10))\n",
    "\n",
    "# Save cleaned version (optional)\n",
    "ball_df.to_csv(\"../data/results/ball_positions_interpolated.csv\", index=False)"
   ]
  }
 ],
 "metadata": {
  "kernelspec": {
   "display_name": "Python 3",
   "language": "python",
   "name": "python3"
  },
  "language_info": {
   "codemirror_mode": {
    "name": "ipython",
    "version": 3
   },
   "file_extension": ".py",
   "mimetype": "text/x-python",
   "name": "python",
   "nbconvert_exporter": "python",
   "pygments_lexer": "ipython3",
   "version": "3.12.6"
  }
 },
 "nbformat": 4,
 "nbformat_minor": 5
}
