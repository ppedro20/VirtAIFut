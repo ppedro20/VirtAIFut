{
 "cells": [
  {
   "cell_type": "code",
   "execution_count": 13,
   "id": "075ace78",
   "metadata": {},
   "outputs": [],
   "source": [
    "import pandas as pd\n",
    "import numpy as np"
   ]
  },
  {
   "cell_type": "code",
   "execution_count": 14,
   "id": "73986b33",
   "metadata": {},
   "outputs": [
    {
     "name": "stdout",
     "output_type": "stream",
     "text": [
      "Index(['Frame', 'X', 'Y'], dtype='object')\n"
     ]
    }
   ],
   "source": [
    "print(ball_df.columns)"
   ]
  },
  {
   "cell_type": "code",
   "execution_count": 16,
   "id": "dc705ab5",
   "metadata": {},
   "outputs": [
    {
     "name": "stdout",
     "output_type": "stream",
     "text": [
      "Cleaned Columns: Index(['Frame', 'X', 'Y'], dtype='object')\n",
      "After interpolation:\n",
      "    Frame        X       Y\n",
      "0       0  1195.50  857.50\n",
      "1       1  1240.00  898.00\n",
      "2       2  1177.50  909.00\n",
      "3       3  1034.00  908.00\n",
      "4       4   931.00  908.50\n",
      "..    ...      ...     ...\n",
      "70     70   652.50  661.50\n",
      "71     71   672.75  667.75\n",
      "72     72   693.00  674.00\n",
      "73     73   739.00  677.00\n",
      "74     74   785.00  680.00\n",
      "\n",
      "[75 rows x 3 columns]\n"
     ]
    }
   ],
   "source": [
    "# Read the CSV file\n",
    "ball_df = pd.read_csv('../data/raw/ball_positions.csv')\n",
    "\n",
    "# Strip leading/trailing spaces from column names\n",
    "ball_df.columns = ball_df.columns.str.strip()\n",
    "\n",
    "# Debugging: Print the cleaned column names\n",
    "print(\"Cleaned Columns:\", ball_df.columns)\n",
    "\n",
    "# Interpolate missing X and Y values\n",
    "ball_df[['X', 'Y']] = ball_df[['X', 'Y']].interpolate(limit_direction='both')\n",
    "\n",
    "# Drop rows where X or Y are still NaN\n",
    "ball_df = ball_df.dropna(subset=['X', 'Y'])\n",
    "\n",
    "# Convert X and Y to float32\n",
    "ball_df[['X', 'Y']] = ball_df[['X', 'Y']].astype('float32')\n",
    "\n",
    "# Check result\n",
    "print(\"After interpolation:\")\n",
    "print(ball_df.head(75))\n",
    "\n",
    "# Save cleaned version (optional)\n",
    "ball_df.to_csv(\"../data/results/ball_positions_interpolated.csv\", index=False)"
   ]
  }
 ],
 "metadata": {
  "kernelspec": {
   "display_name": "Python 3",
   "language": "python",
   "name": "python3"
  },
  "language_info": {
   "codemirror_mode": {
    "name": "ipython",
    "version": 3
   },
   "file_extension": ".py",
   "mimetype": "text/x-python",
   "name": "python",
   "nbconvert_exporter": "python",
   "pygments_lexer": "ipython3",
   "version": "3.12.6"
  }
 },
 "nbformat": 4,
 "nbformat_minor": 5
}
