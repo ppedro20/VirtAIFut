{
 "cells": [
  {
   "cell_type": "code",
   "execution_count": null,
   "id": "836adf47",
   "metadata": {},
   "outputs": [],
   "source": [
    "import pandas as pd\n",
    "import numpy as np\n",
    "import torch\n",
    "import torch.nn as nn\n",
    "from torch.utils.data import DataLoader, TensorDataset"
   ]
  },
  {
   "cell_type": "code",
   "execution_count": 28,
   "id": "0e028e80",
   "metadata": {},
   "outputs": [],
   "source": [
    "#load data\n",
    "ball_df = pd.read_csv('../data/results/ball_positions_interpolated.csv')\n",
    "gk_df = pd.read_csv('../data/raw/gk_positions.csv')\n",
    "\n",
    "ball_df = ball_df.rename(columns={\"X\": \"ball_x\", \"Y\": \"ball_y\"})\n",
    "gk_df.columns = gk_df.columns.str.strip()  # Remove leading/trailing spaces\n",
    "gk_df = gk_df.rename(columns={\"X\": \"gk_x\", \"Y\": \"gk_y\"})\n",
    "\n",
    "#merge by frame\n",
    "df = pd.merge(ball_df, gk_df, on=\"Frame\", how=\"inner\").sort_values(\"Frame\")\n",
    "\n",
    "#mark missing gk values\n",
    "df[\"gk_missing\"] = df[[\"gk_x\", \"gk_y\"]].isnull().any(axis=1)\n",
    "\n",
    "#Normalize\n",
    "ball_min = df[[\"ball_x\", \"ball_y\"]].min()\n",
    "ball_max = df[[\"ball_x\", \"ball_y\"]].max()\n",
    "df[[\"ball_x\", \"ball_y\"]] = (df[[\"ball_x\", \"ball_y\"]] - ball_min) / (ball_max - ball_min)\n",
    "\n",
    "gk_min = df[[\"gk_x\", \"gk_y\"]].min()\n",
    "gk_max = df[[\"gk_x\", \"gk_y\"]].max()\n",
    "df[[\"gk_x\", \"gk_y\"]] = (df[[\"gk_x\", \"gk_y\"]] - gk_min) / (gk_max - gk_min)"
   ]
  },
  {
   "cell_type": "code",
   "execution_count": 30,
   "id": "d3c95f6c",
   "metadata": {},
   "outputs": [],
   "source": [
    "#create sequences for training\n",
    "SEQ_LEN = 15\n",
    "X_train, y_train = [], []\n",
    "\n",
    "for i in range(SEQ_LEN, len(df)):\n",
    "    if not df[\"gk_missing\"].iloc[i]:  # only use frames where GK position is known\n",
    "        ball_seq = df[[\"ball_x\", \"ball_y\"]].iloc[i-SEQ_LEN:i].values\n",
    "        gk_target = df[[\"gk_x\", \"gk_y\"]].iloc[i].values\n",
    "        X_train.append(ball_seq)\n",
    "        y_train.append(gk_target)\n",
    "\n",
    "X_train = torch.tensor(X_train, dtype=torch.float32)\n",
    "y_train = torch.tensor(y_train, dtype=torch.float32)"
   ]
  },
  {
   "cell_type": "markdown",
   "id": "e12194a6",
   "metadata": {},
   "source": [
    "LSTM"
   ]
  },
  {
   "cell_type": "code",
   "execution_count": 31,
   "id": "4d1de1f3",
   "metadata": {},
   "outputs": [],
   "source": [
    "#define lstm model\n",
    "class BallToGK_LSTM(nn.Module):\n",
    "    def __init__(self, input_size=2, hidden_size=64, num_layers=2, output_size=2):\n",
    "        super().__init__()\n",
    "        self.lstm = nn.LSTM(input_size, hidden_size, num_layers, batch_first=True)\n",
    "        self.fc = nn.Linear(hidden_size, output_size)\n",
    "\n",
    "    def forward(self, x):\n",
    "        _, (hn, _) = self.lstm(x)\n",
    "        return self.fc(hn[-1])  # last layer's hidden state\n",
    "\n",
    "model = BallToGK_LSTM()\n",
    "optimizer = torch.optim.Adam(model.parameters(), lr=0.001)\n",
    "loss_fn = nn.MSELoss()"
   ]
  },
  {
   "cell_type": "code",
   "execution_count": 32,
   "id": "45be01dd",
   "metadata": {},
   "outputs": [
    {
     "name": "stdout",
     "output_type": "stream",
     "text": [
      "Epoch 0: Loss = 0.2208\n",
      "Epoch 10: Loss = 0.0763\n",
      "Epoch 20: Loss = 0.0573\n",
      "Epoch 30: Loss = 0.0577\n",
      "Epoch 40: Loss = 0.0526\n",
      "Epoch 50: Loss = 0.0438\n",
      "Epoch 60: Loss = 0.0281\n",
      "Epoch 70: Loss = 0.0175\n",
      "Epoch 80: Loss = 0.0156\n",
      "Epoch 90: Loss = 0.0145\n"
     ]
    }
   ],
   "source": [
    "#train model\n",
    "dataset = TensorDataset(X_train, y_train)\n",
    "dataloader = DataLoader(dataset, batch_size=32, shuffle=True)\n",
    "\n",
    "EPOCHS = 100\n",
    "for epoch in range(EPOCHS):\n",
    "    total_loss = 0\n",
    "    for xb, yb in dataloader:\n",
    "        pred = model(xb)\n",
    "        loss = loss_fn(pred, yb)\n",
    "        optimizer.zero_grad()\n",
    "        loss.backward()\n",
    "        optimizer.step()\n",
    "        total_loss += loss.item()\n",
    "    if epoch % 10 == 0:\n",
    "        print(f\"Epoch {epoch}: Loss = {total_loss:.4f}\")"
   ]
  },
  {
   "cell_type": "code",
   "execution_count": 33,
   "id": "681f0251",
   "metadata": {},
   "outputs": [],
   "source": [
    "#predict missing gk values\n",
    "df[\"gk_pred_x\"] = np.nan\n",
    "df[\"gk_pred_y\"] = np.nan\n",
    "\n",
    "for i in range(SEQ_LEN, len(df)):\n",
    "    if df[\"gk_missing\"].iloc[i]:  # if GK is missing, predict\n",
    "        ball_seq = df[[\"ball_x\", \"ball_y\"]].iloc[i-SEQ_LEN:i].values\n",
    "        ball_tensor = torch.tensor(ball_seq, dtype=torch.float32).unsqueeze(0)  # add batch dim\n",
    "        with torch.no_grad():\n",
    "            pred = model(ball_tensor).squeeze().numpy()\n",
    "        # De-normalize prediction\n",
    "        gk_x = pred[0] * (gk_max[\"gk_x\"] - gk_min[\"gk_x\"]) + gk_min[\"gk_x\"]\n",
    "        gk_y = pred[1] * (gk_max[\"gk_y\"] - gk_min[\"gk_y\"]) + gk_min[\"gk_y\"]\n",
    "        df.at[df.index[i], \"gk_pred_x\"] = gk_x\n",
    "        df.at[df.index[i], \"gk_pred_y\"] = gk_y"
   ]
  },
  {
   "cell_type": "code",
   "execution_count": 37,
   "id": "a8d959ef",
   "metadata": {},
   "outputs": [],
   "source": [
    "#merge predictions with original data\n",
    "# Replace missing GK positions with predictions\n",
    "df[\"gk_x\"] = df[\"gk_x\"].combine_first(df[\"gk_pred_x\"])\n",
    "df[\"gk_y\"] = df[\"gk_y\"].combine_first(df[\"gk_pred_y\"])\n",
    "\n",
    "# Drop the prediction columns if no longer needed\n",
    "df = df.drop(columns=[\"gk_pred_x\", \"gk_pred_y\"])"
   ]
  },
  {
   "cell_type": "code",
   "execution_count": 38,
   "id": "ec049765",
   "metadata": {},
   "outputs": [],
   "source": [
    "#save results\n",
    "df.to_csv(\"../data/results/gk_prediction_output.csv\", index=False)"
   ]
  },
  {
   "cell_type": "code",
   "execution_count": 39,
   "id": "a23d537e",
   "metadata": {},
   "outputs": [
    {
     "data": {
      "image/png": "[encoded data removed]",
      "text/plain": [
       "<Figure size 1000x600 with 1 Axes>"
      ]
     },
     "metadata": {},
     "output_type": "display_data"
    }
   ],
   "source": [
    "#on a 2d field, plot the ball and gk positions\n",
    "import matplotlib.pyplot as plt\n",
    "\n",
    "# Filter rows where GK positions are available\n",
    "gk_available = df[~df[\"gk_missing\"]]\n",
    "\n",
    "# Plot ball positions\n",
    "plt.figure(figsize=(10, 6))\n",
    "plt.scatter(df[\"ball_x\"], df[\"ball_y\"], color=\"blue\", label=\"Ball Position\", alpha=0.5, s=10)\n",
    "\n",
    "# Plot GK positions\n",
    "plt.scatter(gk_available[\"gk_x\"], gk_available[\"gk_y\"], color=\"red\", label=\"GK Position\", alpha=0.7, s=10)\n",
    "\n",
    "# Add labels and legend\n",
    "plt.title(\"Ball and Goalkeeper Positions on 2D Field\")\n",
    "plt.xlabel(\"X Coordinate\")\n",
    "plt.ylabel(\"Y Coordinate\")\n",
    "plt.legend()\n",
    "plt.grid(True)\n",
    "plt.show()"
   ]
  }
 ],
 "metadata": {
  "kernelspec": {
   "display_name": "Python 3",
   "language": "python",
   "name": "python3"
  },
  "language_info": {
   "codemirror_mode": {
    "name": "ipython",
    "version": 3
   },
   "file_extension": ".py",
   "mimetype": "text/x-python",
   "name": "python",
   "nbconvert_exporter": "python",
   "pygments_lexer": "ipython3",
   "version": "3.12.6"
  }
 },
 "nbformat": 4,
 "nbformat_minor": 5
}
