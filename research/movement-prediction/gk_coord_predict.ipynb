{
 "cells": [
  {
   "cell_type": "code",
   "execution_count": 2,
   "id": "836adf47",
   "metadata": {},
   "outputs": [],
   "source": [
    "import pandas as pd\n",
    "import numpy as np\n",
    "import torch\n",
    "import torch.nn as nn\n",
    "from torch.utils.data import DataLoader, TensorDataset"
   ]
  },
  {
   "cell_type": "code",
   "execution_count": 3,
   "id": "0e028e80",
   "metadata": {},
   "outputs": [],
   "source": [
    "#load data\n",
    "ball_df = pd.read_csv('../data/results/ball_positions_interpolated.csv')\n",
    "gk_df = pd.read_csv('../data/raw/gk_positions.csv')\n",
    "\n",
    "ball_df = ball_df.rename(columns={\"X\": \"ball_x\", \"Y\": \"ball_y\"})\n",
    "gk_df.columns = gk_df.columns.str.strip()  # Remove leading/trailing spaces\n",
    "gk_df = gk_df.rename(columns={\"X\": \"gk_x\", \"Y\": \"gk_y\"})\n",
    "\n",
    "#merge by frame\n",
    "df = pd.merge(ball_df, gk_df, on=\"Frame\", how=\"inner\").sort_values(\"Frame\")\n",
    "\n",
    "#mark missing gk values\n",
    "df[\"gk_missing\"] = df[[\"gk_x\", \"gk_y\"]].isnull().any(axis=1)\n",
    "\n",
    "#Normalize\n",
    "ball_min = df[[\"ball_x\", \"ball_y\"]].min()\n",
    "ball_max = df[[\"ball_x\", \"ball_y\"]].max()\n",
    "df[[\"ball_x\", \"ball_y\"]] = (df[[\"ball_x\", \"ball_y\"]] - ball_min) / (ball_max - ball_min)\n",
    "\n",
    "gk_min = df[[\"gk_x\", \"gk_y\"]].min()\n",
    "gk_max = df[[\"gk_x\", \"gk_y\"]].max()\n",
    "df[[\"gk_x\", \"gk_y\"]] = (df[[\"gk_x\", \"gk_y\"]] - gk_min) / (gk_max - gk_min)"
   ]
  },
  {
   "cell_type": "code",
   "execution_count": 4,
   "id": "d3c95f6c",
   "metadata": {},
   "outputs": [
    {
     "name": "stderr",
     "output_type": "stream",
     "text": [
      "C:\\Users\\pedro\\AppData\\Local\\Temp\\ipykernel_15752\\2605163169.py:12: UserWarning: Creating a tensor from a list of numpy.ndarrays is extremely slow. Please consider converting the list to a single numpy.ndarray with numpy.array() before converting to a tensor. (Triggered internally at C:\\actions-runner\\_work\\pytorch\\pytorch\\pytorch\\torch\\csrc\\utils\\tensor_new.cpp:257.)\n",
      "  X_train = torch.tensor(X_train, dtype=torch.float32)\n"
     ]
    }
   ],
   "source": [
    "#create sequences for training\n",
    "SEQ_LEN = 15\n",
    "X_train, y_train = [], []\n",
    "\n",
    "for i in range(SEQ_LEN, len(df)):\n",
    "    if not df[\"gk_missing\"].iloc[i]:  # only use frames where GK position is known\n",
    "        ball_seq = df[[\"ball_x\", \"ball_y\"]].iloc[i-SEQ_LEN:i].values\n",
    "        gk_target = df[[\"gk_x\", \"gk_y\"]].iloc[i].values\n",
    "        X_train.append(ball_seq)\n",
    "        y_train.append(gk_target)\n",
    "\n",
    "X_train = torch.tensor(X_train, dtype=torch.float32)\n",
    "y_train = torch.tensor(y_train, dtype=torch.float32)"
   ]
  },
  {
   "cell_type": "markdown",
   "id": "e12194a6",
   "metadata": {},
   "source": [
    "LSTM"
   ]
  },
  {
   "cell_type": "code",
   "execution_count": 5,
   "id": "4d1de1f3",
   "metadata": {},
   "outputs": [],
   "source": [
    "#define lstm model\n",
    "class BallToGK_LSTM(nn.Module):\n",
    "    def __init__(self, input_size=2, hidden_size=64, num_layers=2, output_size=2):\n",
    "        super().__init__()\n",
    "        self.lstm = nn.LSTM(input_size, hidden_size, num_layers, batch_first=True)\n",
    "        self.fc = nn.Linear(hidden_size, output_size)\n",
    "\n",
    "    def forward(self, x):\n",
    "        _, (hn, _) = self.lstm(x)\n",
    "        return self.fc(hn[-1])  # last layer's hidden state\n",
    "\n",
    "model = BallToGK_LSTM()\n",
    "optimizer = torch.optim.Adam(model.parameters(), lr=0.001)\n",
    "loss_fn = nn.MSELoss()"
   ]
  },
  {
   "cell_type": "code",
   "execution_count": 6,
   "id": "45be01dd",
   "metadata": {},
   "outputs": [
    {
     "name": "stdout",
     "output_type": "stream",
     "text": [
      "Epoch 0: Loss = 0.1906\n",
      "Epoch 10: Loss = 0.0739\n",
      "Epoch 20: Loss = 0.0605\n",
      "Epoch 30: Loss = 0.0571\n",
      "Epoch 40: Loss = 0.0537\n",
      "Epoch 50: Loss = 0.0464\n",
      "Epoch 60: Loss = 0.0321\n",
      "Epoch 70: Loss = 0.0163\n",
      "Epoch 80: Loss = 0.0149\n",
      "Epoch 90: Loss = 0.0141\n"
     ]
    }
   ],
   "source": [
    "#train model\n",
    "dataset = TensorDataset(X_train, y_train)\n",
    "dataloader = DataLoader(dataset, batch_size=32, shuffle=True)\n",
    "\n",
    "EPOCHS = 100\n",
    "for epoch in range(EPOCHS):\n",
    "    total_loss = 0\n",
    "    for xb, yb in dataloader:\n",
    "        pred = model(xb)\n",
    "        loss = loss_fn(pred, yb)\n",
    "        optimizer.zero_grad()\n",
    "        loss.backward()\n",
    "        optimizer.step()\n",
    "        total_loss += loss.item()\n",
    "    if epoch % 10 == 0:\n",
    "        print(f\"Epoch {epoch}: Loss = {total_loss:.4f}\")"
   ]
  },
  {
   "cell_type": "code",
   "execution_count": 7,
   "id": "681f0251",
   "metadata": {},
   "outputs": [],
   "source": [
    "#predict missing gk values\n",
    "df[\"gk_pred_x\"] = np.nan\n",
    "df[\"gk_pred_y\"] = np.nan\n",
    "\n",
    "for i in range(SEQ_LEN, len(df)):\n",
    "    if df[\"gk_missing\"].iloc[i]:  # if GK is missing, predict\n",
    "        ball_seq = df[[\"ball_x\", \"ball_y\"]].iloc[i-SEQ_LEN:i].values\n",
    "        ball_tensor = torch.tensor(ball_seq, dtype=torch.float32).unsqueeze(0)  # add batch dim\n",
    "        with torch.no_grad():\n",
    "            pred = model(ball_tensor).squeeze().numpy()\n",
    "        # De-normalize prediction\n",
    "        gk_x = pred[0] * (gk_max[\"gk_x\"] - gk_min[\"gk_x\"]) + gk_min[\"gk_x\"]\n",
    "        gk_y = pred[1] * (gk_max[\"gk_y\"] - gk_min[\"gk_y\"]) + gk_min[\"gk_y\"]\n",
    "        df.at[df.index[i], \"gk_pred_x\"] = gk_x\n",
    "        df.at[df.index[i], \"gk_pred_y\"] = gk_y"
   ]
  },
  {
   "cell_type": "code",
   "execution_count": 8,
   "id": "a8d959ef",
   "metadata": {},
   "outputs": [],
   "source": [
    "#merge predictions with original data\n",
    "# Replace missing GK positions with predictions\n",
    "df[\"gk_x\"] = df[\"gk_x\"].combine_first(df[\"gk_pred_x\"])\n",
    "df[\"gk_y\"] = df[\"gk_y\"].combine_first(df[\"gk_pred_y\"])\n",
    "\n",
    "# Drop the prediction columns if no longer needed\n",
    "df = df.drop(columns=[\"gk_pred_x\", \"gk_pred_y\"])"
   ]
  },
  {
   "cell_type": "code",
   "execution_count": 9,
   "id": "ec049765",
   "metadata": {},
   "outputs": [],
   "source": [
    "#save results\n",
    "df.to_csv(\"../data/results/gk_prediction_output.csv\", index=False)"
   ]
  },
  {
   "cell_type": "code",
   "execution_count": 13,
   "id": "e17402bf",
   "metadata": {},
   "outputs": [
    {
     "data": {
      "image/png": "[encoded data removed]",
      "text/plain": [
       "<Figure size 1000x600 with 1 Axes>"
      ]
     },
     "metadata": {},
     "output_type": "display_data"
    }
   ],
   "source": [
    "import matplotlib.pyplot as plt\n",
    "import matplotlib.patches as patches\n",
    "\n",
    "# Function to draw a football pitch\n",
    "def draw_pitch(ax=None):\n",
    "    if ax is None:\n",
    "        fig, ax = plt.subplots(figsize=(10, 6))\n",
    "    \n",
    "    # Pitch Outline\n",
    "    pitch = patches.Rectangle([0, 0], 1, 0.7, edgecolor=\"black\", facecolor=\"none\", lw=2)\n",
    "    ax.add_patch(pitch)\n",
    "    \n",
    "    # Center Circle\n",
    "    center_circle = patches.Circle([0.5, 0.35], 0.1, edgecolor=\"black\", facecolor=\"none\", lw=2)\n",
    "    ax.add_patch(center_circle)\n",
    "    \n",
    "    # Halfway Line\n",
    "    ax.plot([0.5, 0.5], [0, 0.7], color=\"black\", lw=2)\n",
    "    \n",
    "    # Penalty Areas\n",
    "    penalty_area_left = patches.Rectangle([0, 0.2], 0.1, 0.3, edgecolor=\"black\", facecolor=\"none\", lw=2)\n",
    "    penalty_area_right = patches.Rectangle([0.9, 0.2], 0.1, 0.3, edgecolor=\"black\", facecolor=\"none\", lw=2)\n",
    "    ax.add_patch(penalty_area_left)\n",
    "    ax.add_patch(penalty_area_right)\n",
    "    \n",
    "    # Goals\n",
    "    goal_left = patches.Rectangle([-0.02, 0.3], 0.02, 0.1, edgecolor=\"black\", facecolor=\"none\", lw=2)\n",
    "    goal_right = patches.Rectangle([1, 0.3], 0.02, 0.1, edgecolor=\"black\", facecolor=\"none\", lw=2)\n",
    "    ax.add_patch(goal_left)\n",
    "    ax.add_patch(goal_right)\n",
    "    \n",
    "    # Set limits and aspect\n",
    "    ax.set_xlim(-0.05, 1.05)\n",
    "    ax.set_ylim(-0.05, 0.75)\n",
    "    ax.set_aspect(\"equal\")\n",
    "    ax.axis(\"off\")\n",
    "    return ax\n",
    "\n",
    "# Normalize positions to fit within the pitch dimensions\n",
    "df[\"pitch_ball_x\"] = (df[\"ball_x\"] - df[\"ball_x\"].min()) / (df[\"ball_x\"].max() - df[\"ball_x\"].min())\n",
    "df[\"pitch_ball_y\"] = (df[\"ball_y\"] - df[\"ball_y\"].min()) / (df[\"ball_y\"].max() - df[\"ball_y\"].min()) * 0.7\n",
    "df[\"pitch_gk_x\"] = (df[\"gk_x\"] - df[\"gk_x\"].min()) / (df[\"gk_x\"].max() - df[\"gk_x\"].min())\n",
    "df[\"pitch_gk_y\"] = (df[\"gk_y\"] - df[\"gk_y\"].min()) / (df[\"gk_y\"].max() - df[\"gk_y\"].min()) * 0.7\n",
    "\n",
    "# Separate raw and predicted GK positions\n",
    "raw_gk = df[~df[\"gk_missing\"]]  # Rows where GK positions are not missing\n",
    "predicted_gk = df[df[\"gk_missing\"]]  # Rows where GK positions were predicted\n",
    "\n",
    "# Plot the football pitch and positions\n",
    "ax = draw_pitch()\n",
    "ax.scatter(df[\"pitch_ball_x\"], df[\"pitch_ball_y\"], color=\"blue\", label=\"Ball\", alpha=0.7, s=10)\n",
    "ax.scatter(raw_gk[\"pitch_gk_x\"], raw_gk[\"pitch_gk_y\"], color=\"red\", label=\"Raw GK\", alpha=0.7, s=10)\n",
    "ax.scatter(predicted_gk[\"pitch_gk_x\"], predicted_gk[\"pitch_gk_y\"], color=\"orange\", label=\"Predicted GK\", alpha=0.7, s=10)\n",
    "\n",
    "# Add legend and title\n",
    "ax.legend(loc=\"upper right\")\n",
    "ax.set_title(\"Football Pitch: Ball and Goalkeeper Positions (Raw vs Predicted)\")\n",
    "\n",
    "plt.show()"
   ]
  }
 ],
 "metadata": {
  "kernelspec": {
   "display_name": "Python 3",
   "language": "python",
   "name": "python3"
  },
  "language_info": {
   "codemirror_mode": {
    "name": "ipython",
    "version": 3
   },
   "file_extension": ".py",
   "mimetype": "text/x-python",
   "name": "python",
   "nbconvert_exporter": "python",
   "pygments_lexer": "ipython3",
   "version": "3.12.6"
  }
 },
 "nbformat": 4,
 "nbformat_minor": 5
}
