{
  "cells": [
    {
      "cell_type": "code",
      "execution_count": 1,
      "id": "fee06fa4",
      "metadata": {
        "id": "fee06fa4"
      },
      "outputs": [],
      "source": [
        "# 🏃‍♂️ Player Off-Frame Prediction with LSTM (YOLO Tracking Simulation)"
      ]
    },
    {
      "cell_type": "code",
      "execution_count": 2,
      "id": "68bc40f8",
      "metadata": {
        "id": "68bc40f8"
      },
      "outputs": [],
      "source": [
        "import torch\n",
        "import torch.nn as nn\n",
        "import matplotlib.pyplot as plt\n",
        "import random\n",
        "import numpy as np"
      ]
    },
    {
      "cell_type": "code",
      "execution_count": 3,
      "id": "b6973435",
      "metadata": {
        "id": "b6973435"
      },
      "outputs": [],
      "source": [
        "# --- CONFIGURATION ---\n",
        "SEQ_LEN = 10         # Number of past positions to feed the LSTM\n",
        "PREDICT_STEPS = 10   # Number of future positions to predict\n",
        "INPUT_SIZE = 2       # (x, y) coordinates\n",
        "HIDDEN_SIZE = 64\n",
        "DEVICE = \"cuda\" if torch.cuda.is_available() else \"cpu\"\n"
      ]
    },
    {
      "cell_type": "code",
      "execution_count": 4,
      "id": "a6e28996",
      "metadata": {
        "id": "a6e28996"
      },
      "outputs": [],
      "source": [
        "# --- SIMULATE PLAYER TRACKING DATA ---\n",
        "def simulate_player_movement(total_frames=50):\n",
        "    # Simulates a player running diagonally across a field\n",
        "    trajectory = []\n",
        "    x, y = 50, 50\n",
        "    for _ in range(total_frames):\n",
        "        dx = random.uniform(4.0, 6.0)\n",
        "        dy = random.uniform(1.0, 3.0)\n",
        "        x += dx\n",
        "        y += dy\n",
        "        trajectory.append([x, y])\n",
        "    return trajectory\n"
      ]
    },
    {
      "cell_type": "code",
      "execution_count": 5,
      "id": "fde372a8",
      "metadata": {
        "id": "fde372a8"
      },
      "outputs": [],
      "source": [
        "# --- LSTM MODEL ---\n",
        "class PositionPredictor(nn.Module):\n",
        "    def __init__(self):\n",
        "        super(PositionPredictor, self).__init__()\n",
        "        self.lstm = nn.LSTM(INPUT_SIZE, HIDDEN_SIZE, batch_first=True)\n",
        "        self.fc = nn.Linear(HIDDEN_SIZE, INPUT_SIZE)\n",
        "\n",
        "    def forward(self, x):\n",
        "        out, _ = self.lstm(x)\n",
        "        return self.fc(out[:, -1, :])  # predict next position"
      ]
    },
    {
      "cell_type": "code",
      "execution_count": 6,
      "id": "5df1e2d9",
      "metadata": {
        "id": "5df1e2d9"
      },
      "outputs": [],
      "source": [
        "# --- GENERATE TRAINING DATA FROM SIMULATED MOVEMENT ---\n",
        "def generate_training_data(traj, seq_len=SEQ_LEN):\n",
        "    X, Y = [], []\n",
        "    for i in range(len(traj) - seq_len - 1):\n",
        "        X.append(traj[i:i+seq_len])  # Sequence of length seq_len\n",
        "        Y.append(traj[i+seq_len])   # The next position after the sequence\n",
        "    return torch.tensor(X, dtype=torch.float32), torch.tensor(Y, dtype=torch.float32)"
      ]
    },
    {
      "cell_type": "code",
      "execution_count": 7,
      "id": "410f5896",
      "metadata": {
        "id": "410f5896"
      },
      "outputs": [],
      "source": [
        "# --- TRAINING ---\n",
        "full_trajectory = simulate_player_movement(100)\n",
        "train_X, train_Y = generate_training_data(full_trajectory)"
      ]
    },
    {
      "cell_type": "code",
      "execution_count": 8,
      "id": "8AR1THGQgENh",
      "metadata": {
        "id": "8AR1THGQgENh"
      },
      "outputs": [],
      "source": [
        "# --- MODEL INITIALIZATION ---\n",
        "model = PositionPredictor().to(DEVICE)\n",
        "optimizer = torch.optim.Adam(model.parameters(), lr=0.001)\n",
        "criterion = nn.MSELoss()"
      ]
    },
    {
      "cell_type": "code",
      "execution_count": 9,
      "id": "5aea1cac",
      "metadata": {
        "colab": {
          "base_uri": "https://localhost:8080/"
        },
        "id": "5aea1cac",
        "outputId": "bbf0cbe2-cc92-43ab-e651-8b92ed2d2d18"
      },
      "outputs": [
        {
          "name": "stdout",
          "output_type": "stream",
          "text": [
            "Epoch 50, Loss: 75040.5938\n",
            "Epoch 100, Loss: 72811.1484\n",
            "Epoch 150, Loss: 71116.1172\n",
            "Epoch 200, Loss: 69684.8438\n"
          ]
        }
      ],
      "source": [
        "# --- TRAIN THE MODEL ---\n",
        "model.train()\n",
        "for epoch in range(200):\n",
        "    inputs = train_X.to(DEVICE)\n",
        "    targets = train_Y.to(DEVICE)\n",
        "    optimizer.zero_grad()\n",
        "    outputs = model(inputs)\n",
        "    loss = criterion(outputs, targets)\n",
        "    loss.backward()\n",
        "    optimizer.step()\n",
        "    if (epoch+1) % 50 == 0:\n",
        "        print(f\"Epoch {epoch+1}, Loss: {loss.item():.4f}\")\n"
      ]
    },
    {
      "cell_type": "code",
      "execution_count": 10,
      "id": "1324b3d1",
      "metadata": {
        "id": "1324b3d1"
      },
      "outputs": [],
      "source": [
        "# --- SIMULATE TRACKING + PREDICTION WHEN OFF-FRAME ---\n",
        "tracked = full_trajectory[:-PREDICT_STEPS]\n",
        "offscreen_seed = full_trajectory[-SEQ_LEN - PREDICT_STEPS:-PREDICT_STEPS]\n",
        "\n",
        "predicted_positions = []\n",
        "model.eval()\n",
        "with torch.no_grad():\n",
        "    current_input = torch.tensor([offscreen_seed], dtype=torch.float32).to(DEVICE)\n",
        "    for _ in range(PREDICT_STEPS):\n",
        "        next_pos = model(current_input)\n",
        "        predicted_positions.append(next_pos.squeeze().cpu().numpy())\n",
        "        current_input = torch.cat((current_input[:, 1:, :], next_pos.unsqueeze(1)), dim=1)\n"
      ]
    },
    {
      "cell_type": "code",
      "execution_count": 11,
      "id": "7b35d84d",
      "metadata": {
        "id": "7b35d84d"
      },
      "outputs": [],
      "source": [
        "\n",
        "# --- PLOT RESULTS ---\n",
        "tracked_np = np.array(tracked)\n",
        "predicted_np = np.array(predicted_positions)"
      ]
    },
    {
      "cell_type": "code",
      "execution_count": 12,
      "id": "19793d8a",
      "metadata": {
        "colab": {
          "base_uri": "https://localhost:8080/",
          "height": 564
        },
        "id": "19793d8a",
        "outputId": "223a5d60-9ea3-42c7-fa8d-630b2eda2b60"
      },
      "outputs": [
        {
          "data": {
            "image/png": "[encoded data removed]",
            "text/plain": [
              "<Figure size 1000x600 with 1 Axes>"
            ]
          },
          "metadata": {},
          "output_type": "display_data"
        }
      ],
      "source": [
        "plt.figure(figsize=(10, 6))\n",
        "plt.plot(tracked_np[:, 0], tracked_np[:, 1], 'bo-', label=\"Tracked (YOLO)\")\n",
        "plt.plot(predicted_np[:, 0], predicted_np[:, 1], 'ro--', label=\"Predicted (LSTM)\")\n",
        "plt.title(\"Player Tracking with Off-Frame Prediction\")\n",
        "plt.xlabel(\"X\")\n",
        "plt.ylabel(\"Y\")\n",
        "plt.legend()\n",
        "plt.grid(True)\n",
        "plt.axis(\"equal\")\n",
        "plt.show()"
      ]
    }
  ],
  "metadata": {
    "colab": {
      "provenance": []
    },
    "kernelspec": {
      "display_name": "Python 3",
      "name": "python3"
    },
    "language_info": {
      "codemirror_mode": {
        "name": "ipython",
        "version": 3
      },
      "file_extension": ".py",
      "mimetype": "text/x-python",
      "name": "python",
      "nbconvert_exporter": "python",
      "pygments_lexer": "ipython3",
      "version": "3.12.6"
    }
  },
  "nbformat": 4,
  "nbformat_minor": 5
}
