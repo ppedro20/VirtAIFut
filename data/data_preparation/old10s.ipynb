{
 "cells": [
  {
   "cell_type": "code",
   "execution_count": null,
   "id": "a3144b39",
   "metadata": {},
   "outputs": [],
   "source": [
    "import pandas as pd\n",
    "import numpy as np\n",
    "\n",
    "filepath = '../coords/old10s-60f.csv'\n",
    "\n",
    "df = pd.read_csv(filepath)\n",
    "\n",
    "df.columns\n"
   ]
  },
  {
   "cell_type": "markdown",
   "id": "5f00f60d",
   "metadata": {},
   "source": [
    "Create good sequences of frames"
   ]
  },
  {
   "cell_type": "code",
   "execution_count": null,
   "id": "001d429e",
   "metadata": {},
   "outputs": [],
   "source": [
    "# Exclude the frame index column (assume it's the first column)\n",
    "data_cols = df.columns[1:]\n",
    "\n",
    "# Count non-empty (non-NaN) cells per row\n",
    "df['detection_count'] = df[data_cols].notnull().sum(axis=1)\n",
    "\n",
    "# Find indices of good frames\n",
    "good_mask = df['detection_count'] > 20\n",
    "\n",
    "# Find all consecutive sequences of good frames (no min length)\n",
    "sequences = []\n",
    "start = None\n",
    "for idx, is_good in enumerate(good_mask):\n",
    "    if is_good:\n",
    "        if start is None:\n",
    "            start = idx\n",
    "    else:\n",
    "        if start is not None:\n",
    "            sequences.append((start, idx))\n",
    "            start = None\n",
    "# Handle sequence that goes to the end\n",
    "if start is not None:\n",
    "    sequences.append((start, len(df)))\n",
    "\n",
    "# Save each sequence as a CSV\n",
    "import os\n",
    "os.makedirs('subsets', exist_ok=True)\n",
    "for i, (start, end) in enumerate(sequences):\n",
    "    subset = df.iloc[start:end]\n",
    "    subset.to_csv(f'subsets/subset{i+1}.csv', index=False)"
   ]
  },
  {
   "cell_type": "markdown",
   "id": "9d32b1fd",
   "metadata": {},
   "source": [
    "Work on best subsets"
   ]
  },
  {
   "cell_type": "code",
   "execution_count": null,
   "id": "28e4a38b",
   "metadata": {},
   "outputs": [],
   "source": [
    "subset = 'subsets/subset1.csv'\n",
    "\n",
    "df = pd.read_csv(subset)\n",
    "\n",
    "#drop empty columns\n",
    "df = df.dropna(axis=1, how='all')\n",
    "\n",
    "#drop extra columns\n",
    "df = df.drop(columns=['detection_count'])\n",
    "\n",
    "#save cleaned subset\n",
    "df.to_csv(subset, index=False)\n",
    "\n",
    "df.columns"
   ]
  },
  {
   "cell_type": "markdown",
   "id": "53d47995",
   "metadata": {},
   "source": [
    "Manually detect outliers and transition of ids per frame"
   ]
  },
  {
   "cell_type": "code",
   "execution_count": null,
   "id": "f9cd263a",
   "metadata": {},
   "outputs": [],
   "source": [
    "#Subset 1 - 20 frames\n",
    "# ids: 1,3,4,5,9,10,12,13,14,15,16,19 are fine\n",
    "# id6 lt f16 - no change\n",
    "# id22 lt f17 - no change\n",
    "\n",
    "#id 24 - referee -> delete cell\n",
    "df = df.drop(columns=['id_24'])\n",
    "#id 23 is goalkeeper -> drop gk0 -> rename to 'gk0' \n",
    "df = df.drop(columns=['gk0'])\n",
    "df = df.rename(columns={'id_23': 'gk0'})\n",
    "#id 11 is referee -> delete column\n",
    "df = df.drop(columns=['id_11'])\n",
    "\n",
    "# id2 lt f14 -> id43\n",
    "df.loc[14:, 'id_2'] = df.loc[14:, 'id_43']\n",
    "df = df.drop(columns=['id_43'])\n",
    "\n",
    "# id7 lt f3-6 -> id29\n",
    "df.loc[7:, 'id_7'] = df.loc[7:, 'id_29']\n",
    "df = df.drop(columns=['id_29'])\n",
    "\n",
    "# id8 lt f9 -> id34\n",
    "df.loc[9:, 'id_8'] = df.loc[9:, 'id_34']\n",
    "df = df.drop(columns=['id_34'])\n",
    "\n",
    "# id17 lt f5-6 -> id30 lt f8-12 -> id 39\n",
    "df.loc[6:, 'id_17'] = df.loc[6:, 'id_30']\n",
    "df.loc[12:, 'id_17'] = df.loc[12:, 'id_39']\n",
    "df = df.drop(columns=['id_30', 'id_39'])\n",
    "\n",
    "# id18 1stframe lt f1 -> id18 lt f9 -> id36 lt f12-15 -> id44\n",
    "df.loc[9:, 'id_18'] = df.loc[9:, 'id_36']\n",
    "df.loc[15:, 'id_18'] = df.loc[15:, 'id_44']\n",
    "df = df.drop(columns=['id_36', 'id_44'])\n",
    "\n",
    "# id18 2ndframe lt f2-5 -> id28\n",
    "df.loc[df['frame_index'] == 2, 'id_28'] = df.loc[df['frame_index'] == 2, 'id_18']\n",
    "df.loc[df['frame_index'] == 2, 'id_18'] = np.nan\n",
    "\n",
    "#save cleaned subset\n",
    "df.to_csv('subsets/subset1_cleaned.csv', index=False)"
   ]
  }
 ],
 "metadata": {
  "kernelspec": {
   "display_name": "Python 3",
   "language": "python",
   "name": "python3"
  },
  "language_info": {
   "codemirror_mode": {
    "name": "ipython",
    "version": 3
   },
   "file_extension": ".py",
   "mimetype": "text/x-python",
   "name": "python",
   "nbconvert_exporter": "python",
   "pygments_lexer": "ipython3",
   "version": "3.12.6"
  }
 },
 "nbformat": 4,
 "nbformat_minor": 5
}
