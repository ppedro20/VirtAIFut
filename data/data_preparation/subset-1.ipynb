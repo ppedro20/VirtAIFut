{
 "cells": [
  {
   "cell_type": "code",
   "execution_count": 17,
   "id": "a3144b39",
   "metadata": {},
   "outputs": [
    {
     "data": {
      "text/plain": [
       "Index(['frame_index', 'ball', 'gk0', 'gk1', 'id_1', 'id_2', 'id_3', 'id_4',\n",
       "       'id_5', 'id_6', 'id_7', 'id_8', 'id_9', 'id_10', 'id_11', 'id_12',\n",
       "       'id_13', 'id_14', 'id_15', 'id_16', 'id_17', 'id_18', 'id_19', 'id_22',\n",
       "       'id_23', 'id_24', 'id_28', 'id_29', 'id_30', 'id_34', 'id_36', 'id_39',\n",
       "       'id_43', 'id_44', 'id_53'],\n",
       "      dtype='object')"
      ]
     },
     "execution_count": 17,
     "metadata": {},
     "output_type": "execute_result"
    }
   ],
   "source": [
    "import pandas as pd\n",
    "import numpy as np\n",
    "\n",
    "subset = 'subsets/subset1.csv'\n",
    "\n",
    "df = pd.read_csv(subset)\n",
    "\n",
    "df.columns"
   ]
  },
  {
   "cell_type": "code",
   "execution_count": 18,
   "id": "28e4a38b",
   "metadata": {},
   "outputs": [
    {
     "data": {
      "text/plain": [
       "Index(['frame_index', 'ball', 'gk0', 'gk1', 'id_1', 'id_2', 'id_3', 'id_4',\n",
       "       'id_5', 'id_6', 'id_7', 'id_8', 'id_9', 'id_10', 'id_11', 'id_12',\n",
       "       'id_13', 'id_14', 'id_15', 'id_16', 'id_17', 'id_18', 'id_19', 'id_22',\n",
       "       'id_23', 'id_24', 'id_28', 'id_29', 'id_30', 'id_34', 'id_36', 'id_39',\n",
       "       'id_43', 'id_44', 'id_53'],\n",
       "      dtype='object')"
      ]
     },
     "execution_count": 18,
     "metadata": {},
     "output_type": "execute_result"
    }
   ],
   "source": [
    "#drop empty columns\n",
    "df = df.dropna(axis=1, how='all')\n",
    "\n",
    "#drop extra columns\n",
    "#df = df.drop(columns=['detection_count'])\n",
    "\n",
    "#save cleaned subset\n",
    "df.to_csv(subset, index=False)\n",
    "\n",
    "df.columns"
   ]
  },
  {
   "cell_type": "markdown",
   "id": "53d47995",
   "metadata": {},
   "source": [
    "Manually detect outliers and transition of ids per frame"
   ]
  },
  {
   "cell_type": "code",
   "execution_count": 19,
   "id": "f9cd263a",
   "metadata": {},
   "outputs": [],
   "source": [
    "#IDs to remove\n",
    "#ids: 11 - referee, 24 - referee\n",
    "df = df.drop(columns=['id_11'])\n",
    "df = df.drop(columns=['id_24'])\n",
    "df = df.drop(columns=['gk0'])\n",
    "df = df.drop(columns=['gk1'])\n",
    "df = df.rename(columns={'id_23': 'gk0'})\n",
    "\n",
    "#IDs with no Transitions\n",
    "#ids:1,3,4,5,6,9,10,12,13,14,15,19,22\n",
    "\n",
    "#IDs with Transitions\n",
    "#ids: 2,7,8,16,17,18\n",
    "\n",
    "#id2 lt f14 -> id43\n",
    "df.loc[14:, 'id_2'] = df.loc[14:, 'id_43']\n",
    "df = df.drop(columns=['id_43'])\n",
    "\n",
    "#id7 lt f3-6 -> id 29\n",
    "df.loc[7:, 'id_7'] = df.loc[7:, 'id_29']\n",
    "df = df.drop(columns=['id_29'])\n",
    "\n",
    "#id8 lt f9 -> id34\n",
    "df.loc[9:, 'id_8'] = df.loc[9:, 'id_34']\n",
    "df = df.drop(columns=['id_34'])\n",
    "\n",
    "#id16 lt f20 -> id53\n",
    "df.loc[20:, 'id_16'] = df.loc[20:, 'id_53']\n",
    "df = df.drop(columns=['id_53'])\n",
    "\n",
    "#id17 lt f5-6 -> id30 lt f8-12 -> id39\n",
    "df.loc[6:, 'id_17'] = df.loc[6:, 'id_30']\n",
    "df.loc[12:, 'id_17'] = df.loc[12:, 'id_39']\n",
    "df = df.drop(columns=['id_30', 'id_39'])\n",
    "\n",
    "#id18f1 lt f2 -> id18 lt f9-10 -> id36 lt f12-15 -> id44\n",
    "df.loc[10:, 'id_18'] = df.loc[10:, 'id_36']\n",
    "df.loc[15:, 'id_18'] = df.loc[15:, 'id_44']\n",
    "df = df.drop(columns=['id_36', 'id_44'])\n",
    "\n",
    "#id18f2 lt f3-5 -> id28\n",
    "df.loc[df['frame_index'] == 2, 'id_28'] = df.loc[df['frame_index'] == 2, 'id_18']\n",
    "df.loc[df['frame_index'] == 2, 'id_18'] = np.nan\n"
   ]
  },
  {
   "cell_type": "code",
   "execution_count": 20,
   "id": "f2530e2a",
   "metadata": {},
   "outputs": [],
   "source": [
    "#save cleaned subset\n",
    "df.to_csv('../to-pred-dfs/sequence1.csv', index=False)"
   ]
  }
 ],
 "metadata": {
  "kernelspec": {
   "display_name": "Python 3",
   "language": "python",
   "name": "python3"
  },
  "language_info": {
   "codemirror_mode": {
    "name": "ipython",
    "version": 3
   },
   "file_extension": ".py",
   "mimetype": "text/x-python",
   "name": "python",
   "nbconvert_exporter": "python",
   "pygments_lexer": "ipython3",
   "version": "3.12.6"
  }
 },
 "nbformat": 4,
 "nbformat_minor": 5
}
