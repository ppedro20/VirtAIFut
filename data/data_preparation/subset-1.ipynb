{
 "cells": [
  {
   "cell_type": "code",
   "execution_count": 8,
   "id": "a3144b39",
   "metadata": {},
   "outputs": [
    {
     "data": {
      "text/plain": [
       "Index(['frame_index', 'ball', 'gk0', 'gk1', 'id_1_team_1', 'id_2_team_1',\n",
       "       'id_3_team_1', 'id_4_team_0', 'id_5_team_1', 'id_6_team_0',\n",
       "       'id_7_team_1', 'id_8_team_1', 'id_9_team_1', 'id_10_team_0',\n",
       "       'id_11_team_1', 'id_12_team_0', 'id_13_team_1', 'id_14_team_0',\n",
       "       'id_15_team_0', 'id_16_team_0', 'id_17_team_1', 'id_18_team_1',\n",
       "       'id_19_team_0', 'id_22_team_0', 'id_23_team_1', 'id_24_team_1',\n",
       "       'id_28_team_0', 'id_29_team_1', 'id_30_team_1', 'id_34_team_1',\n",
       "       'id_36_team_1', 'id_39_team_1', 'id_43_team_1', 'id_44_team_1',\n",
       "       'id_53_team_0', 'id_61_team_0', 'id_82_team_1', 'id_83_team_1',\n",
       "       'id_99_team_0', 'id_105_team_1', 'id_117_team_1', 'id_137_team_0',\n",
       "       'id_146_team_0', 'id_147_team_1', 'id_149_team_1', 'id_151_team_0',\n",
       "       'id_157_team_1', 'id_162_team_1', 'id_163_team_0', 'id_164_team_1',\n",
       "       'id_165_team_0', 'id_168_team_1', 'id_169_team_1', 'id_170_team_1',\n",
       "       'id_171_team_1', 'id_173_team_0', 'id_174_team_1', 'id_182_team_1',\n",
       "       'id_183_team_1', 'id_185_team_1', 'id_186_team_1', 'id_188_team_1',\n",
       "       'id_193_team_1', 'id_196_team_0', 'id_199_team_1', 'id_200_team_0',\n",
       "       'id_201_team_0', 'id_204_team_1', 'id_205_team_0', 'detection_count'],\n",
       "      dtype='object')"
      ]
     },
     "execution_count": 8,
     "metadata": {},
     "output_type": "execute_result"
    }
   ],
   "source": [
    "import pandas as pd\n",
    "import numpy as np\n",
    "\n",
    "subset = 'subsets/subset1.csv'\n",
    "\n",
    "df = pd.read_csv(subset)\n",
    "\n",
    "df.columns"
   ]
  },
  {
   "cell_type": "code",
   "execution_count": 9,
   "id": "28e4a38b",
   "metadata": {},
   "outputs": [
    {
     "data": {
      "text/plain": [
       "Index(['frame_index', 'ball', 'gk0', 'gk1', 'id_1_team_1', 'id_2_team_1',\n",
       "       'id_3_team_1', 'id_4_team_0', 'id_5_team_1', 'id_6_team_0',\n",
       "       'id_7_team_1', 'id_8_team_1', 'id_9_team_1', 'id_10_team_0',\n",
       "       'id_11_team_1', 'id_12_team_0', 'id_13_team_1', 'id_14_team_0',\n",
       "       'id_15_team_0', 'id_16_team_0', 'id_17_team_1', 'id_18_team_1',\n",
       "       'id_19_team_0', 'id_22_team_0', 'id_23_team_1', 'id_24_team_1',\n",
       "       'id_28_team_0', 'id_29_team_1', 'id_30_team_1', 'id_34_team_1',\n",
       "       'id_36_team_1', 'id_39_team_1', 'id_43_team_1', 'id_44_team_1',\n",
       "       'id_53_team_0'],\n",
       "      dtype='object')"
      ]
     },
     "execution_count": 9,
     "metadata": {},
     "output_type": "execute_result"
    }
   ],
   "source": [
    "#drop empty columns\n",
    "df = df.dropna(axis=1, how='all')\n",
    "\n",
    "#drop extra columns\n",
    "df = df.drop(columns=['detection_count'])\n",
    "\n",
    "#save cleaned subset\n",
    "df.to_csv(subset, index=False)\n",
    "\n",
    "df.columns"
   ]
  },
  {
   "cell_type": "markdown",
   "id": "53d47995",
   "metadata": {},
   "source": [
    "Manually detect outliers and transition of ids per frame"
   ]
  },
  {
   "cell_type": "code",
   "execution_count": 10,
   "id": "f9cd263a",
   "metadata": {},
   "outputs": [],
   "source": [
    "#IDs to remove\n",
    "#ids: 11 - referee, 24 - referee\n",
    "df = df.drop(columns=['id_11_team_1'])\n",
    "df = df.drop(columns=['id_24_team_1'])\n",
    "df = df.drop(columns=['gk0'])\n",
    "df = df.drop(columns=['gk1'])\n",
    "df = df.rename(columns={'id_23_team_1': 'gk0'})\n",
    "\n",
    "#IDs with no Transitions\n",
    "#ids:1,3,4,5,6,9,10,12,13,14,15,19,22\n",
    "\n",
    "#IDs with Transitions\n",
    "#ids: 2,7,8,16,17,18\n",
    "\n",
    "#id2 lt f14 -> id43\n",
    "df.loc[14:, 'id_2_team_1'] = df.loc[14:, 'id_43_team_1']\n",
    "df = df.drop(columns=['id_43_team_1'])\n",
    "\n",
    "#id7 lt f3-6 -> id 29\n",
    "df.loc[7:, 'id_7_team_1'] = df.loc[7:, 'id_29_team_1']\n",
    "df = df.drop(columns=['id_29_team_1'])\n",
    "\n",
    "#id8 lt f9 -> id34\n",
    "df.loc[9:, 'id_8_team_1'] = df.loc[9:, 'id_34_team_1']\n",
    "df = df.drop(columns=['id_34_team_1'])\n",
    "\n",
    "#id16 lt f20 -> id53\n",
    "df.loc[20:, 'id_16_team_0'] = df.loc[20:, 'id_53_team_0']\n",
    "df = df.drop(columns=['id_53_team_0'])\n",
    "\n",
    "#id17 lt f5-6 -> id30 lt f8-12 -> id39\n",
    "df.loc[6:, 'id_17_team_1'] = df.loc[6:, 'id_30_team_1']\n",
    "df.loc[12:, 'id_17_team_1'] = df.loc[12:, 'id_39_team_1']\n",
    "df = df.drop(columns=['id_30_team_1', 'id_39_team_1'])\n",
    "\n",
    "#id18f1 lt f2 -> id18 lt f9-10 -> id36 lt f12-15 -> id44\n",
    "df.loc[10:, 'id_18_team_1'] = df.loc[10:, 'id_36_team_1']\n",
    "df.loc[15:, 'id_18_team_1'] = df.loc[15:, 'id_44_team_1']\n",
    "df = df.drop(columns=['id_36_team_1', 'id_44_team_1'])\n",
    "\n",
    "#id18f2 lt f3-5 -> id28\n",
    "df.loc[df['frame_index'] == 2, 'id_28_team_0'] = df.loc[df['frame_index'] == 2, 'id_18_team_1']\n",
    "df.loc[df['frame_index'] == 2, 'id_18_team_1'] = np.nan\n"
   ]
  },
  {
   "cell_type": "code",
   "execution_count": 11,
   "id": "f2530e2a",
   "metadata": {},
   "outputs": [],
   "source": [
    "#save cleaned subset\n",
    "df.to_csv('../train/ss1.csv', index=False)"
   ]
  }
 ],
 "metadata": {
  "kernelspec": {
   "display_name": "Python 3",
   "language": "python",
   "name": "python3"
  },
  "language_info": {
   "codemirror_mode": {
    "name": "ipython",
    "version": 3
   },
   "file_extension": ".py",
   "mimetype": "text/x-python",
   "name": "python",
   "nbconvert_exporter": "python",
   "pygments_lexer": "ipython3",
   "version": "3.12.6"
  }
 },
 "nbformat": 4,
 "nbformat_minor": 5
}
