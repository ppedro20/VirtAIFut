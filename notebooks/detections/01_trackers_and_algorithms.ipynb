{
 "cells": [
  {
   "cell_type": "markdown",
   "id": "8ce72010",
   "metadata": {},
   "source": [
    "Tracking Algorithms:\n",
    "- ByteTrack\n",
    "- Sort Tracker\n",
    "- DeepSort\n",
    "\n",
    "para testar futuramente:\n",
    "- FairMOT - Se quiseres uma rede única que detecta e trackeia ao mesmo tempo\n",
    "- TrackFormer - Baseado em Transformers, bom para tracking com atenção contextual\n",
    "- StrongSORT - Melhoria do DeepSORT, mais robusto a oclusões\n"
   ]
  }
 ],
 "metadata": {
  "language_info": {
   "name": "python"
  }
 },
 "nbformat": 4,
 "nbformat_minor": 5
}
