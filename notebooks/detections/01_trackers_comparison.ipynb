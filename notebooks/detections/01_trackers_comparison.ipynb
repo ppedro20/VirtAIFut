{
 "cells": [
  {
   "cell_type": "markdown",
   "id": "8ce72010",
   "metadata": {},
   "source": [
    "Tracking Algorithms:\n",
    "- ByteTrack\n",
    "- Sort Tracker\n",
    "- DeepSort\n",
    "\n",
    "- FairMOT\n",
    "- TrackFormer\n",
    "- StrongSORT\n"
   ]
  },
  {
   "cell_type": "code",
   "execution_count": null,
   "id": "7689e3bb",
   "metadata": {},
   "outputs": [],
   "source": [
    "#imports and paths\n",
    "import os\n",
    "from inference import get_model\n",
    "import supervision as sv\n",
    "from ultralytics import YOLO\n",
    "import numpy as np\n",
    "\n",
    "VIDEO_PATH = \"../../data/videos/old10s.mp4\"\n",
    "YOLO_PATH = \"../../utils/models/yolov8n.pt\"\n",
    "PLAYER_DETECTION_MODEL_ID = 'football-players-detection-3zvbc/2'\n",
    "ROBOFLOW_API_KEY = os.getenv(\"ROBOFLOW_API_KEY\")\n",
    "PLAYER_DETECTION_MODEL = get_model(PLAYER_DETECTION_MODEL_ID, ROBOFLOW_API_KEY)\n"
   ]
  },
  {
   "cell_type": "markdown",
   "id": "0b2a3934",
   "metadata": {},
   "source": [
    "ByteTracker"
   ]
  },
  {
   "cell_type": "code",
   "execution_count": null,
   "id": "821a5aba",
   "metadata": {},
   "outputs": [],
   "source": [
    "#without team assignment & gk assignment\n",
    "tracker = sv.ByteTrack() #supervision's implementation of ByteTrack\n",
    "\n",
    "bounding_box_annotator = sv.BoundingBoxAnnotator()\n",
    "label_annotator = sv.LabelAnnotator()\n",
    "\n",
    "def callback(frame: np.ndarray, index: int) -> np.ndarray:\n",
    "    results = PLAYER_DETECTION_MODEL.infer(frame,confidence=0.3)[0]\n",
    "    detections = sv.Detections.from_inference(results)\n",
    "    \n",
    "    detections = tracker.update_with_detections(detections)\n",
    "\n",
    "    labels = [f\"#{tracker_id}\" for tracker_id in detections.tracker_id]\n",
    "\n",
    "    annotated_frame = bounding_box_annotator.annotate(\n",
    "        scene=frame.copy(), detections=detections)\n",
    "    annotated_frame = label_annotator.annotate(\n",
    "        scene=annotated_frame, detections=detections, labels=labels)\n",
    "    return annotated_frame\n",
    "\n",
    "sv.process_video(\n",
    "    source_path= VIDEO_PATH,\n",
    "    target_path= \"../../data/tracker_outputs/bytetracker.mp4\",\n",
    "    callback=callback\n",
    ")"
   ]
  }
 ],
 "metadata": {
  "kernelspec": {
   "display_name": "Python 3",
   "language": "python",
   "name": "python3"
  },
  "language_info": {
   "codemirror_mode": {
    "name": "ipython",
    "version": 3
   },
   "file_extension": ".py",
   "mimetype": "text/x-python",
   "name": "python",
   "nbconvert_exporter": "python",
   "pygments_lexer": "ipython3",
   "version": "3.12.6"
  }
 },
 "nbformat": 4,
 "nbformat_minor": 5
}
