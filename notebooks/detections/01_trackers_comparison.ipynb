{
 "cells": [
  {
   "cell_type": "markdown",
   "id": "8ce72010",
   "metadata": {},
   "source": [
    "Tracking Algorithms:\n",
    "- ByteTrack\n",
    "- Sort Tracker\n",
    "- DeepSort\n",
    "\n",
    "- FairMOT\n",
    "- TrackFormer\n",
    "- StrongSORT\n"
   ]
  },
  {
   "cell_type": "code",
   "execution_count": null,
   "id": "7689e3bb",
   "metadata": {},
   "outputs": [],
   "source": [
    "#imports and paths\n",
    "import os\n",
    "from inference import get_model\n",
    "import supervision as sv\n",
    "from ultralytics import YOLO\n",
    "import numpy as np\n",
    "\n",
    "VIDEO_PATH = \"../../data/videos/old10s.mp4\"\n",
    "YOLO_PATH = \"../../utils/models/yolov8n.pt\"\n",
    "PLAYER_DETECTION_MODEL_ID = 'football-players-detection-3zvbc/2'\n",
    "ROBOFLOW_API_KEY = os.getenv(\"ROBOFLOW_API_KEY\")\n",
    "PLAYER_DETECTION_MODEL = get_model(PLAYER_DETECTION_MODEL_ID, ROBOFLOW_API_KEY)\n"
   ]
  },
  {
   "cell_type": "markdown",
   "id": "0b2a3934",
   "metadata": {},
   "source": [
    "ByteTracker"
   ]
  },
  {
   "cell_type": "code",
   "execution_count": null,
   "id": "821a5aba",
   "metadata": {},
   "outputs": [],
   "source": [
    "tracker = sv.ByteTrack() #supervision's implementation of ByteTrack\n",
    "\n",
    "bounding_box_annotator = sv.BoundingBoxAnnotator()\n",
    "label_annotator = sv.LabelAnnotator()\n",
    "\n",
    "def callback(frame: np.ndarray, index: int) -> np.ndarray:\n",
    "    results = PLAYER_DETECTION_MODEL.infer(frame,confidence=0.3)[0]\n",
    "    detections = sv.Detections.from_inference(results)\n",
    "    \n",
    "    detections = tracker.update_with_detections(detections)\n",
    "\n",
    "    labels = [f\"#{tracker_id}\" for tracker_id in detections.tracker_id]\n",
    "\n",
    "    annotated_frame = bounding_box_annotator.annotate(\n",
    "        scene=frame.copy(), detections=detections)\n",
    "    annotated_frame = label_annotator.annotate(\n",
    "        scene=annotated_frame, detections=detections, labels=labels)\n",
    "    return annotated_frame\n",
    "\n",
    "sv.process_video(\n",
    "    source_path= VIDEO_PATH,\n",
    "    target_path= \"../../data/tracker_outputs/bytetracker.mp4\",\n",
    "    callback=callback\n",
    ")"
   ]
  },
  {
   "cell_type": "markdown",
   "id": "e6ea51ce",
   "metadata": {},
   "source": [
    "DeepSORT"
   ]
  },
  {
   "cell_type": "code",
   "execution_count": null,
   "id": "9a054fce",
   "metadata": {},
   "outputs": [],
   "source": [
    "#comment after installation\n",
    "!pip install ikomia "
   ]
  },
  {
   "cell_type": "code",
   "execution_count": null,
   "id": "fe86547a",
   "metadata": {},
   "outputs": [],
   "source": [
    "from ikomia.dataprocess.workflow import Workflow\n",
    "from ikomia.utils.displayIO import display\n",
    "import cv2\n",
    "\n",
    "# Replace 'your_video_path.mp4' with the actual video file path\n",
    "input_video_path = VIDEO_PATH\n",
    "output_video_path = \"../../data/tracker_outputs/deepsort.mp4\"\n",
    "\n",
    "# Init your workflow\n",
    "wf = Workflow()\n",
    "\n",
    "# Add object detection algorithm\n",
    "detector = wf.add_task(name=\"infer_yolo_v7\", auto_connect=True)\n",
    "\n",
    "# Add ByteTrack tracking algorithm\n",
    "tracking = wf.add_task(name=\"infer_deepsort\", auto_connect=True)\n",
    "\n",
    "tracking.set_parameters({\n",
    "    \"categories\": \"all\",\n",
    "    \"conf_thres\": \"0.5\",\n",
    "})\n",
    "\n",
    "# Open the video file\n",
    "stream = cv2.VideoCapture(input_video_path)\n",
    "if not stream.isOpened():\n",
    "    print(\"Error: Could not open video.\")\n",
    "    exit()\n",
    "\n",
    "# Get video properties for the output\n",
    "frame_width = int(stream.get(cv2.CAP_PROP_FRAME_WIDTH))\n",
    "frame_height = int(stream.get(cv2.CAP_PROP_FRAME_HEIGHT))\n",
    "frame_rate = stream.get(cv2.CAP_PROP_FPS)\n",
    "\n",
    "# Define the codec and create VideoWriter object\n",
    "# The 'XVID' codec is widely supported and provides good quality\n",
    "fourcc = cv2.VideoWriter_fourcc(*'XVID')\n",
    "out = cv2.VideoWriter(output_video_path, fourcc, frame_rate, (frame_width, frame_height))\n",
    "\n",
    "while True:\n",
    "    # Read image from stream\n",
    "    ret, frame = stream.read()\n",
    "\n",
    "    # Test if the video has ended or there is an error\n",
    "    if not ret:\n",
    "        print(\"Info: End of video or error.\")\n",
    "        break\n",
    "\n",
    "    # Run the workflow on current frame\n",
    "    wf.run_on(array=frame)\n",
    "\n",
    "    # Get results\n",
    "    image_out = tracking.get_output(0)\n",
    "    obj_detect_out = tracking.get_output(1)\n",
    "\n",
    "    # Convert the result to BGR color space for displaying\n",
    "    img_out = image_out.get_image_with_graphics(obj_detect_out)\n",
    "    img_res = cv2.cvtColor(img_out, cv2.COLOR_RGB2BGR)\n",
    "\n",
    "    # Save the resulting frame\n",
    "    out.write(img_out)\n",
    "\n",
    "    # Display\n",
    "    display(img_res, title=\"DeepSORT\", viewer=\"opencv\")\n",
    "\n",
    "    # Press 'q' to quit the video processing\n",
    "    if cv2.waitKey(1) & 0xFF == ord('q'):\n",
    "        break\n",
    "\n",
    "# After the loop release everything\n",
    "stream.release()\n",
    "out.release()\n",
    "cv2.destroyAllWindows()"
   ]
  }
 ],
 "metadata": {
  "kernelspec": {
   "display_name": "Python 3",
   "language": "python",
   "name": "python3"
  },
  "language_info": {
   "codemirror_mode": {
    "name": "ipython",
    "version": 3
   },
   "file_extension": ".py",
   "mimetype": "text/x-python",
   "name": "python",
   "nbconvert_exporter": "python",
   "pygments_lexer": "ipython3",
   "version": "3.12.6"
  }
 },
 "nbformat": 4,
 "nbformat_minor": 5
}
