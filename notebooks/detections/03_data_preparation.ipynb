{
 "cells": [
  {
   "cell_type": "markdown",
   "id": "6e3fb4be",
   "metadata": {},
   "source": [
    "03. DATA PREPARATION"
   ]
  },
  {
   "cell_type": "code",
   "execution_count": 1,
   "id": "a3144b39",
   "metadata": {},
   "outputs": [
    {
     "data": {
      "text/plain": [
       "Index(['frame_index', 'ball', 'gk0', 'gk1', 'id_1_team_1', 'id_2_team_1',\n",
       "       'id_3_team_1', 'id_4_team_0', 'id_5_team_1', 'id_6_team_0',\n",
       "       'id_7_team_1', 'id_8_team_1', 'id_9_team_1', 'id_10_team_0',\n",
       "       'id_11_team_1', 'id_12_team_0', 'id_13_team_1', 'id_14_team_0',\n",
       "       'id_15_team_0', 'id_16_team_0', 'id_17_team_1', 'id_18_team_1',\n",
       "       'id_19_team_0', 'id_22_team_0', 'id_23_team_1', 'id_24_team_1',\n",
       "       'id_28_team_0', 'id_29_team_1', 'id_30_team_1', 'id_34_team_1',\n",
       "       'id_36_team_1', 'id_39_team_1', 'id_43_team_1', 'id_44_team_1',\n",
       "       'id_53_team_0', 'id_61_team_0', 'id_82_team_1', 'id_83_team_1',\n",
       "       'id_99_team_0', 'id_105_team_1', 'id_117_team_1', 'id_137_team_0',\n",
       "       'id_146_team_0', 'id_147_team_1', 'id_149_team_1', 'id_151_team_0',\n",
       "       'id_157_team_1', 'id_162_team_1', 'id_163_team_0', 'id_164_team_1',\n",
       "       'id_165_team_0', 'id_168_team_1', 'id_169_team_1', 'id_170_team_1',\n",
       "       'id_171_team_1', 'id_173_team_0', 'id_174_team_1', 'id_182_team_1',\n",
       "       'id_183_team_1', 'id_185_team_1', 'id_186_team_1', 'id_188_team_1',\n",
       "       'id_193_team_1', 'id_196_team_0', 'id_199_team_1', 'id_200_team_0',\n",
       "       'id_201_team_0', 'id_204_team_1', 'id_205_team_0'],\n",
       "      dtype='object')"
      ]
     },
     "execution_count": 1,
     "metadata": {},
     "output_type": "execute_result"
    }
   ],
   "source": [
    "import pandas as pd\n",
    "import numpy as np\n",
    "\n",
    "filepath = '../../data/coords/old10s-60f.csv'\n",
    "\n",
    "df = pd.read_csv(filepath)\n",
    "\n",
    "df.columns"
   ]
  },
  {
   "cell_type": "markdown",
   "id": "5f00f60d",
   "metadata": {},
   "source": [
    "Create good subsets of frames"
   ]
  },
  {
   "cell_type": "code",
   "execution_count": 2,
   "id": "001d429e",
   "metadata": {},
   "outputs": [],
   "source": [
    "# Exclude the frame index column (assume it's the first column)\n",
    "data_cols = df.columns[1:]\n",
    "\n",
    "# Count non-empty (non-NaN) cells per row\n",
    "df['detection_count'] = df[data_cols].notnull().sum(axis=1)\n",
    "\n",
    "# Find indices of good frames\n",
    "good_mask = df['detection_count'] > 18\n",
    "\n",
    "# Find all consecutive subsets of good frames (no min length)\n",
    "subsets = []\n",
    "start = None\n",
    "for idx, is_good in enumerate(good_mask):\n",
    "    if is_good:\n",
    "        if start is None:\n",
    "            start = idx\n",
    "    else:\n",
    "        if start is not None:\n",
    "            subsets.append((start, idx))\n",
    "            start = None\n",
    "# Handle sequence that goes to the end\n",
    "if start is not None:\n",
    "    subsets.append((start, len(df)))\n",
    "\n",
    "# Save each subset as a CSV\n",
    "import os\n",
    "os.makedirs('../../data/data_preparation/subsets', exist_ok=True)\n",
    "for i, (start, end) in enumerate(subsets):\n",
    "    if end - start >= 10:\n",
    "        subset = df.iloc[start:end]\n",
    "        subset.to_csv(f'../../data/data_preparation/subsets/subset{i+1}.csv', index=False)"
   ]
  },
  {
   "cell_type": "markdown",
   "id": "aa55eacd",
   "metadata": {},
   "source": [
    "Interpolate good subsets"
   ]
  },
  {
   "cell_type": "code",
   "execution_count": 12,
   "id": "a219c838",
   "metadata": {},
   "outputs": [],
   "source": [
    "import pandas as pd\n",
    "\n",
    "df = pd.read_csv('../../data/train/ss1.csv')\n",
    "\n",
    "# Convert all columns except the index (if any) to numeric, coercing errors to NaN\n",
    "for col in df.columns:\n",
    "    if col != 'frame':  # replace 'frame' with your index column if needed\n",
    "        df[col] = pd.to_numeric(df[col], errors='coerce')\n",
    "\n",
    "# Interpolate all numeric columns (coordinates)\n",
    "df.interpolate(method='linear', limit_direction='both', inplace=True)\n",
    "\n",
    "# Save the interpolated DataFrame\n",
    "df.to_csv('../../data/train/ss1_interpolated.csv', index=False)"
   ]
  }
 ],
 "metadata": {
  "kernelspec": {
   "display_name": "Python 3",
   "language": "python",
   "name": "python3"
  },
  "language_info": {
   "codemirror_mode": {
    "name": "ipython",
    "version": 3
   },
   "file_extension": ".py",
   "mimetype": "text/x-python",
   "name": "python",
   "nbconvert_exporter": "python",
   "pygments_lexer": "ipython3",
   "version": "3.12.6"
  }
 },
 "nbformat": 4,
 "nbformat_minor": 5
}
