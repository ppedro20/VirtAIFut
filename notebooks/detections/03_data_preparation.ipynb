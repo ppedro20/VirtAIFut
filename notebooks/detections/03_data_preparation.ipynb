{
 "cells": [
  {
   "cell_type": "markdown",
   "id": "6e3fb4be",
   "metadata": {},
   "source": [
    "03. DATA PREPARATION"
   ]
  },
  {
   "cell_type": "code",
   "execution_count": 1,
   "id": "a3144b39",
   "metadata": {},
   "outputs": [
    {
     "data": {
      "text/plain": [
       "Index(['frame_index', 'ball', 'gk0', 'gk1', 'id_1', 'id_2', 'id_3', 'id_4',\n",
       "       'id_5', 'id_6', 'id_7', 'id_8', 'id_9', 'id_10', 'id_11', 'id_12',\n",
       "       'id_13', 'id_14', 'id_15', 'id_16', 'id_17', 'id_18', 'id_19', 'id_22',\n",
       "       'id_23', 'id_24', 'id_28', 'id_29', 'id_30', 'id_34', 'id_36', 'id_39',\n",
       "       'id_43', 'id_44', 'id_53', 'id_61', 'id_82', 'id_83', 'id_99', 'id_105',\n",
       "       'id_117', 'id_137', 'id_146', 'id_147', 'id_149', 'id_151', 'id_157',\n",
       "       'id_162', 'id_163', 'id_164', 'id_165', 'id_168', 'id_169', 'id_170',\n",
       "       'id_171', 'id_173', 'id_174', 'id_182', 'id_183', 'id_185', 'id_186',\n",
       "       'id_188', 'id_193', 'id_196', 'id_199', 'id_200', 'id_201', 'id_204',\n",
       "       'id_205'],\n",
       "      dtype='object')"
      ]
     },
     "execution_count": 1,
     "metadata": {},
     "output_type": "execute_result"
    }
   ],
   "source": [
    "import pandas as pd\n",
    "import numpy as np\n",
    "\n",
    "filepath = '../../data/coords/old10s-60f.csv'\n",
    "\n",
    "df = pd.read_csv(filepath)\n",
    "\n",
    "df.columns"
   ]
  },
  {
   "cell_type": "markdown",
   "id": "5f00f60d",
   "metadata": {},
   "source": [
    "Create good subsets of frames"
   ]
  },
  {
   "cell_type": "code",
   "execution_count": 7,
   "id": "001d429e",
   "metadata": {},
   "outputs": [],
   "source": [
    "# Exclude the frame index column (assume it's the first column)\n",
    "data_cols = df.columns[1:]\n",
    "\n",
    "# Count non-empty (non-NaN) cells per row\n",
    "df['detection_count'] = df[data_cols].notnull().sum(axis=1)\n",
    "\n",
    "# Find indices of good frames\n",
    "good_mask = df['detection_count'] > 18\n",
    "\n",
    "# Find all consecutive sequences of good frames (no min length)\n",
    "sequences = []\n",
    "start = None\n",
    "for idx, is_good in enumerate(good_mask):\n",
    "    if is_good:\n",
    "        if start is None:\n",
    "            start = idx\n",
    "    else:\n",
    "        if start is not None:\n",
    "            sequences.append((start, idx))\n",
    "            start = None\n",
    "# Handle sequence that goes to the end\n",
    "if start is not None:\n",
    "    sequences.append((start, len(df)))\n",
    "\n",
    "# Save each sequence as a CSV\n",
    "import os\n",
    "os.makedirs('../../data/data_preparation/subsets', exist_ok=True)\n",
    "for i, (start, end) in enumerate(sequences):\n",
    "    if end - start >= 10:\n",
    "        subset = df.iloc[start:end]\n",
    "        subset.to_csv(f'../../data/data_preparation/subsets/subset{i+1}.csv', index=False)"
   ]
  }
 ],
 "metadata": {
  "kernelspec": {
   "display_name": "Python 3",
   "language": "python",
   "name": "python3"
  },
  "language_info": {
   "codemirror_mode": {
    "name": "ipython",
    "version": 3
   },
   "file_extension": ".py",
   "mimetype": "text/x-python",
   "name": "python",
   "nbconvert_exporter": "python",
   "pygments_lexer": "ipython3",
   "version": "3.12.6"
  }
 },
 "nbformat": 4,
 "nbformat_minor": 5
}
