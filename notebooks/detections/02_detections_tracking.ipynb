{
 "cells": [
  {
   "cell_type": "markdown",
   "id": "85a1fbf1",
   "metadata": {},
   "source": [
    "02. DETECTIONS TRACKING"
   ]
  },
  {
   "cell_type": "code",
   "execution_count": 1,
   "id": "327cf98d",
   "metadata": {},
   "outputs": [
    {
     "data": {
      "text/html": [
       "<pre style=\"white-space:pre;overflow-x:auto;line-height:normal;font-family:Menlo,'DejaVu Sans Mono',consolas,'Courier New',monospace\"><span style=\"color: #7fbfbf; text-decoration-color: #7fbfbf\">[05/30/25 17:52:53] </span><span style=\"color: #800000; text-decoration-color: #800000\">WARNING </span> Your inference package version <span style=\"color: #008080; text-decoration-color: #008080; font-weight: bold\">0.50</span>.<span style=\"color: #008080; text-decoration-color: #008080; font-weight: bold\">1</span> is out of date! Please upgrade to <a href=\"file://C:\\Users\\pedro\\AppData\\Roaming\\Python\\Python312\\site-packages\\inference\\core\\__init__.py\" target=\"_blank\"><span style=\"color: #7f7f7f; text-decoration-color: #7f7f7f\">__init__.py</span></a><span style=\"color: #7f7f7f; text-decoration-color: #7f7f7f\">:</span><a href=\"file://C:\\Users\\pedro\\AppData\\Roaming\\Python\\Python312\\site-packages\\inference\\core\\__init__.py#41\" target=\"_blank\"><span style=\"color: #7f7f7f; text-decoration-color: #7f7f7f\">41</span></a>\n",
       "<span style=\"color: #7fbfbf; text-decoration-color: #7fbfbf\">                    </span>         version <span style=\"color: #008080; text-decoration-color: #008080; font-weight: bold\">0.50</span>.<span style=\"color: #008080; text-decoration-color: #008080; font-weight: bold\">2</span> of inference for the latest features and bug fixes by    <span style=\"color: #7f7f7f; text-decoration-color: #7f7f7f\">              </span>\n",
       "<span style=\"color: #7fbfbf; text-decoration-color: #7fbfbf\">                    </span>         running `pip install --upgrade inference`.                              <span style=\"color: #7f7f7f; text-decoration-color: #7f7f7f\">              </span>\n",
       "</pre>\n"
      ],
      "text/plain": [
       "\u001b[2;36m[05/30/25 17:52:53]\u001b[0m\u001b[2;36m \u001b[0m\u001b[31mWARNING \u001b[0m Your inference package version \u001b[1;36m0.50\u001b[0m.\u001b[1;36m1\u001b[0m is out of date! Please upgrade to \u001b]8;id=573798;file://C:\\Users\\pedro\\AppData\\Roaming\\Python\\Python312\\site-packages\\inference\\core\\__init__.py\u001b\\\u001b[2m__init__.py\u001b[0m\u001b]8;;\u001b\\\u001b[2m:\u001b[0m\u001b]8;id=732694;file://C:\\Users\\pedro\\AppData\\Roaming\\Python\\Python312\\site-packages\\inference\\core\\__init__.py#41\u001b\\\u001b[2m41\u001b[0m\u001b]8;;\u001b\\\n",
       "\u001b[2;36m                    \u001b[0m         version \u001b[1;36m0.50\u001b[0m.\u001b[1;36m2\u001b[0m of inference for the latest features and bug fixes by    \u001b[2m              \u001b[0m\n",
       "\u001b[2;36m                    \u001b[0m         running `pip install --upgrade inference`.                              \u001b[2m              \u001b[0m\n"
      ]
     },
     "metadata": {},
     "output_type": "display_data"
    },
    {
     "name": "stderr",
     "output_type": "stream",
     "text": [
      "C:\\Users\\pedro\\AppData\\Roaming\\Python\\Python312\\site-packages\\tqdm\\auto.py:21: TqdmWarning: IProgress not found. Please update jupyter and ipywidgets. See https://ipywidgets.readthedocs.io/en/stable/user_install.html\n",
      "  from .autonotebook import tqdm as notebook_tqdm\n"
     ]
    }
   ],
   "source": [
    "import os\n",
    "os.environ[\"ONNXRUNTIME_EXECUTION_PROVIDERS\"] = \"[CUDAExecutionProvider]\"\n",
    "\n",
    "import sys\n",
    "sys.path.append(os.getenv(\"PROJECT_PATH\"))\n",
    "\n",
    "from inference import get_model\n",
    "import supervision as sv\n",
    "\n",
    "ROBOFLOW_API_KEY = os.getenv(\"ROBOFLOW_API_KEY\")\n",
    "\n",
    "PLAYER_DETECTION_MODEL_ID = 'football-players-detection-3zvbc/2'\n",
    "PLAYER_DETECTION_MODEL = get_model(PLAYER_DETECTION_MODEL_ID, ROBOFLOW_API_KEY)\n",
    "\n",
    "FIELD_DETECTION_MODEL_ID = \"football-field-detection-f07vi/14\"\n",
    "FIELD_DETECTION_MODEL = get_model(model_id=FIELD_DETECTION_MODEL_ID, api_key=ROBOFLOW_API_KEY)\n",
    "\n",
    "SOURCE_VIDEO_PATH = \"../../data/videos/new5s.mp4\""
   ]
  },
  {
   "cell_type": "code",
   "execution_count": 2,
   "id": "425f1626",
   "metadata": {},
   "outputs": [],
   "source": [
    "#Supervision annotators\n",
    "from utils.pitchconfig import SoccerPitchConfiguration\n",
    "\n",
    "CONFIG = SoccerPitchConfiguration()\n",
    "\n",
    "ellipse_annotator = sv.EllipseAnnotator(\n",
    "    color=sv.ColorPalette.from_hex(['#00BFFF', '#FF1493', '#FFD700']), #blue, pink, yellow\n",
    "    thickness=2\n",
    ")\n",
    "label_annotator = sv.LabelAnnotator(\n",
    "    color=sv.ColorPalette.from_hex(['#00BFFF', '#FF1493', '#FFD700']), #blue, pink, yellow\n",
    "    text_color=sv.Color.from_hex('#000000'),\n",
    "    text_position=sv.Position.BOTTOM_CENTER\n",
    ")\n",
    "triangle_annotator = sv.TriangleAnnotator(\n",
    "    color=sv.Color.from_hex('#FFD700'),\n",
    "    base=25,\n",
    "    height=21,\n",
    "    outline_thickness=1\n",
    ")\n",
    "\n",
    "#Supervision - virtualization\n",
    "edge_annotator = sv.EdgeAnnotator(\n",
    "    color=sv.Color.from_hex('#00BFFF'),\n",
    "    thickness=2, edges=CONFIG.edges)\n",
    "vertex_annotator = sv.VertexAnnotator(\n",
    "    color=sv.Color.from_hex('#FF1493'),\n",
    "    radius=8)\n",
    "vertex_annotator_2 = sv.VertexAnnotator(\n",
    "    color=sv.Color.from_hex('#00BFFF'),\n",
    "    radius=8)"
   ]
  },
  {
   "cell_type": "code",
   "execution_count": 3,
   "id": "77e793fe",
   "metadata": {},
   "outputs": [
    {
     "name": "stderr",
     "output_type": "stream",
     "text": [
      "collecting crops: 3it [00:03,  1.32s/it]\n",
      "Embedding extraction: 2it [00:21, 10.55s/it]\n"
     ]
    },
    {
     "name": "stdout",
     "output_type": "stream",
     "text": [
      "Number of players detected: 61\n"
     ]
    }
   ],
   "source": [
    "#Team Assignment based on colours\n",
    "#use of the SigLIP, UMAP, and KMeans combo\n",
    "import supervision as sv\n",
    "from tqdm import tqdm\n",
    "from utils.teamclassifier import TeamClassifier\n",
    "\n",
    "PLAYER_ID = 2\n",
    "STRIDE = 60\n",
    "frame_generator = sv.get_video_frames_generator(\n",
    "    source_path=SOURCE_VIDEO_PATH, stride=STRIDE\n",
    ")\n",
    "\n",
    "crops = []\n",
    "for frame in tqdm(frame_generator, desc=\"collecting crops\"):\n",
    "    result = PLAYER_DETECTION_MODEL.infer(frame, confidence=0.3)[0]\n",
    "    detections = sv.Detections.from_inference(result)\n",
    "    players_detections = detections[detections.class_id == PLAYER_ID]\n",
    "    \n",
    "    # Skip the frame if no players are detected\n",
    "    if len(players_detections.xyxy) == 0:\n",
    "        continue\n",
    "    \n",
    "    players_crops = [sv.crop_image(frame, xyxy) for xyxy in players_detections.xyxy]\n",
    "    crops += players_crops\n",
    "\n",
    "# Ensure there are enough crops for clustering\n",
    "if len(crops) < 2:\n",
    "    print(\"Not enough player crops detected. Skipping team classification.\")\n",
    "else:\n",
    "    team_classifier = TeamClassifier(device=\"cpu\")\n",
    "    team_classifier.fit(crops)\n",
    "    \n",
    "print(f\"Number of players detected: {len(crops)}\")"
   ]
  },
  {
   "cell_type": "code",
   "execution_count": 4,
   "id": "96389a7f",
   "metadata": {},
   "outputs": [],
   "source": [
    "#GK Assignment - calculate avg centroid of players and assign GK to the team with the closest centroid\n",
    "import numpy as np\n",
    "import supervision as sv\n",
    "\n",
    "def resolve_goalkeepers_team_id(\n",
    "    players: sv.Detections,\n",
    "    goalkeepers: sv.Detections\n",
    ") -> np.ndarray:\n",
    "    goalkeepers_xy = goalkeepers.get_anchors_coordinates(sv.Position.BOTTOM_CENTER)\n",
    "    players_xy = players.get_anchors_coordinates(sv.Position.BOTTOM_CENTER)\n",
    "    team_0_centroid = players_xy[players.class_id == 0].mean(axis=0)\n",
    "    team_1_centroid = players_xy[players.class_id == 1].mean(axis=0)\n",
    "    goalkeepers_team_id = []\n",
    "    for goalkeeper_xy in goalkeepers_xy:\n",
    "        dist_0 = np.linalg.norm(goalkeeper_xy - team_0_centroid)\n",
    "        dist_1 = np.linalg.norm(goalkeeper_xy - team_1_centroid)\n",
    "        goalkeepers_team_id.append(0 if dist_0 < dist_1 else 1)\n",
    "\n",
    "    return np.array(goalkeepers_team_id)"
   ]
  },
  {
   "cell_type": "code",
   "execution_count": 5,
   "id": "60775edb",
   "metadata": {},
   "outputs": [
    {
     "name": "stderr",
     "output_type": "stream",
     "text": [
      "Processing...: 152it [00:01, 89.22it/s]\n"
     ]
    },
    {
     "name": "stdout",
     "output_type": "stream",
     "text": [
      "Total frames collected: 31\n"
     ]
    }
   ],
   "source": [
    "#Frame collection for training\n",
    "from tqdm import tqdm\n",
    "\n",
    "frames = []\n",
    "\n",
    "for frame_index, frame in enumerate(tqdm(sv.get_video_frames_generator(SOURCE_VIDEO_PATH), desc=\"Processing...\")):\n",
    "    if frame_index % 5 == 0: #default: 5\n",
    "        frames.append(frame)\n",
    "\n",
    "print(f\"Total frames collected: {len(frames)}\")"
   ]
  },
  {
   "cell_type": "code",
   "execution_count": 7,
   "id": "b77e50ca",
   "metadata": {},
   "outputs": [
    {
     "name": "stderr",
     "output_type": "stream",
     "text": [
      "                                                     \r"
     ]
    },
    {
     "name": "stdout",
     "output_type": "stream",
     "text": [
      "... frame 0: \n"
     ]
    },
    {
     "name": "stderr",
     "output_type": "stream",
     "text": [
      "Processing...:   0%|          | 0/31 [00:00<?, ?it/s]\n",
      "Embedding extraction: 0it [00:00, ?it/s]\n",
      "Embedding extraction: 1it [00:08,  8.74s/it]\n",
      "                                                             \r"
     ]
    },
    {
     "name": "stdout",
     "output_type": "stream",
     "text": [
      "... frame 1: \n"
     ]
    },
    {
     "name": "stderr",
     "output_type": "stream",
     "text": [
      "Processing...:   3%|▎         | 1/31 [00:18<09:28, 18.95s/it]\n",
      "Embedding extraction: 0it [00:00, ?it/s]\n",
      "Embedding extraction: 1it [00:07,  7.38s/it]\n",
      "                                                             \r"
     ]
    },
    {
     "name": "stdout",
     "output_type": "stream",
     "text": [
      "... frame 2: \n"
     ]
    },
    {
     "name": "stderr",
     "output_type": "stream",
     "text": [
      "Processing...:   6%|▋         | 2/31 [00:30<07:03, 14.61s/it]\n",
      "Embedding extraction: 0it [00:00, ?it/s]\n",
      "Embedding extraction: 1it [00:06,  6.95s/it]\n",
      "                                                             \r"
     ]
    },
    {
     "name": "stdout",
     "output_type": "stream",
     "text": [
      "... frame 3: \n"
     ]
    },
    {
     "name": "stderr",
     "output_type": "stream",
     "text": [
      "Processing...:  10%|▉         | 3/31 [00:41<05:57, 12.78s/it]\n",
      "Embedding extraction: 0it [00:00, ?it/s]\n",
      "Embedding extraction: 1it [00:06,  6.26s/it]\n",
      "                                                             \r"
     ]
    },
    {
     "name": "stdout",
     "output_type": "stream",
     "text": [
      "... frame 4: \n"
     ]
    },
    {
     "name": "stderr",
     "output_type": "stream",
     "text": [
      "Processing...:  13%|█▎        | 4/31 [00:50<05:11, 11.54s/it]\n",
      "Embedding extraction: 0it [00:00, ?it/s]\n",
      "Embedding extraction: 1it [00:06,  6.20s/it]\n",
      "                                                             \r"
     ]
    },
    {
     "name": "stdout",
     "output_type": "stream",
     "text": [
      "... frame 5: \n"
     ]
    },
    {
     "name": "stderr",
     "output_type": "stream",
     "text": [
      "Processing...:  16%|█▌        | 5/31 [01:00<04:39, 10.73s/it]\n",
      "Embedding extraction: 0it [00:00, ?it/s]\n",
      "Embedding extraction: 1it [00:06,  6.20s/it]\n",
      "                                                             \r"
     ]
    },
    {
     "name": "stdout",
     "output_type": "stream",
     "text": [
      "... frame 6: \n"
     ]
    },
    {
     "name": "stderr",
     "output_type": "stream",
     "text": [
      "Processing...:  19%|█▉        | 6/31 [01:09<04:16, 10.24s/it]\n",
      "Embedding extraction: 0it [00:00, ?it/s]\n",
      "Embedding extraction: 1it [00:06,  6.03s/it]\n",
      "                                                             \r"
     ]
    },
    {
     "name": "stdout",
     "output_type": "stream",
     "text": [
      "... frame 7: \n"
     ]
    },
    {
     "name": "stderr",
     "output_type": "stream",
     "text": [
      "Processing...:  23%|██▎       | 7/31 [01:18<03:59,  9.96s/it]\n",
      "Embedding extraction: 0it [00:00, ?it/s]\n",
      "Embedding extraction: 1it [00:06,  6.35s/it]\n",
      "                                                             \r"
     ]
    },
    {
     "name": "stdout",
     "output_type": "stream",
     "text": [
      "... frame 8: \n"
     ]
    },
    {
     "name": "stderr",
     "output_type": "stream",
     "text": [
      "Processing...:  26%|██▌       | 8/31 [01:28<03:46,  9.83s/it]\n",
      "Embedding extraction: 0it [00:00, ?it/s]\n",
      "Embedding extraction: 1it [00:06,  6.21s/it]\n",
      "                                                             \r"
     ]
    },
    {
     "name": "stdout",
     "output_type": "stream",
     "text": [
      "... frame 9: \n"
     ]
    },
    {
     "name": "stderr",
     "output_type": "stream",
     "text": [
      "Processing...:  29%|██▉       | 9/31 [01:37<03:33,  9.73s/it]\n",
      "Embedding extraction: 0it [00:00, ?it/s]\n",
      "Embedding extraction: 1it [00:06,  6.76s/it]\n",
      "                                                              \r"
     ]
    },
    {
     "name": "stdout",
     "output_type": "stream",
     "text": [
      "... frame 10: \n"
     ]
    },
    {
     "name": "stderr",
     "output_type": "stream",
     "text": [
      "Processing...:  32%|███▏      | 10/31 [01:47<03:26,  9.84s/it]\n",
      "Embedding extraction: 0it [00:00, ?it/s]\n",
      "Embedding extraction: 1it [00:05,  5.55s/it]\n",
      "                                                              \r"
     ]
    },
    {
     "name": "stdout",
     "output_type": "stream",
     "text": [
      "... frame 11: \n"
     ]
    },
    {
     "name": "stderr",
     "output_type": "stream",
     "text": [
      "Processing...:  35%|███▌      | 11/31 [01:57<03:12,  9.63s/it]\n",
      "Embedding extraction: 0it [00:00, ?it/s]\n",
      "Embedding extraction: 1it [00:06,  6.47s/it]\n",
      "                                                              \r"
     ]
    },
    {
     "name": "stdout",
     "output_type": "stream",
     "text": [
      "... frame 12: \n"
     ]
    },
    {
     "name": "stderr",
     "output_type": "stream",
     "text": [
      "Processing...:  39%|███▊      | 12/31 [02:07<03:08,  9.95s/it]\n",
      "Embedding extraction: 0it [00:00, ?it/s]\n",
      "Embedding extraction: 1it [00:05,  5.97s/it]\n",
      "                                                              \r"
     ]
    },
    {
     "name": "stdout",
     "output_type": "stream",
     "text": [
      "... frame 13: \n"
     ]
    },
    {
     "name": "stderr",
     "output_type": "stream",
     "text": [
      "Processing...:  42%|████▏     | 13/31 [02:18<03:00, 10.05s/it]\n",
      "Embedding extraction: 0it [00:00, ?it/s]\n",
      "Embedding extraction: 1it [00:07,  7.89s/it]\n",
      "                                                              \r"
     ]
    },
    {
     "name": "stdout",
     "output_type": "stream",
     "text": [
      "... frame 14: \n"
     ]
    },
    {
     "name": "stderr",
     "output_type": "stream",
     "text": [
      "Processing...:  45%|████▌     | 14/31 [02:30<03:03, 10.78s/it]\n",
      "Embedding extraction: 0it [00:00, ?it/s]\n",
      "Embedding extraction: 1it [00:07,  7.70s/it]\n",
      "                                                              \r"
     ]
    },
    {
     "name": "stdout",
     "output_type": "stream",
     "text": [
      "... frame 15: \n"
     ]
    },
    {
     "name": "stderr",
     "output_type": "stream",
     "text": [
      "Processing...:  48%|████▊     | 15/31 [02:42<03:00, 11.29s/it]\n",
      "Embedding extraction: 0it [00:00, ?it/s]\n",
      "Embedding extraction: 1it [00:06,  6.06s/it]\n",
      "                                                              \r"
     ]
    },
    {
     "name": "stdout",
     "output_type": "stream",
     "text": [
      "... frame 16: \n"
     ]
    },
    {
     "name": "stderr",
     "output_type": "stream",
     "text": [
      "Processing...:  52%|█████▏    | 16/31 [02:52<02:42, 10.80s/it]\n",
      "Embedding extraction: 0it [00:00, ?it/s]\n",
      "Embedding extraction: 1it [00:06,  6.25s/it]\n",
      "                                                              \r"
     ]
    },
    {
     "name": "stdout",
     "output_type": "stream",
     "text": [
      "... frame 17: \n"
     ]
    },
    {
     "name": "stderr",
     "output_type": "stream",
     "text": [
      "Processing...:  55%|█████▍    | 17/31 [03:02<02:26, 10.43s/it]\n",
      "Embedding extraction: 0it [00:00, ?it/s]\n",
      "Embedding extraction: 1it [00:06,  7.00s/it]\n",
      "                                                              \r"
     ]
    },
    {
     "name": "stdout",
     "output_type": "stream",
     "text": [
      "... frame 18: \n"
     ]
    },
    {
     "name": "stderr",
     "output_type": "stream",
     "text": [
      "Processing...:  58%|█████▊    | 18/31 [03:13<02:17, 10.60s/it]\n",
      "Embedding extraction: 0it [00:00, ?it/s]\n",
      "Embedding extraction: 1it [00:07,  7.12s/it]\n",
      "                                                              \r"
     ]
    },
    {
     "name": "stdout",
     "output_type": "stream",
     "text": [
      "... frame 19: \n"
     ]
    },
    {
     "name": "stderr",
     "output_type": "stream",
     "text": [
      "Processing...:  61%|██████▏   | 19/31 [03:24<02:08, 10.72s/it]\n",
      "Embedding extraction: 0it [00:00, ?it/s]\n",
      "Embedding extraction: 1it [00:06,  6.09s/it]\n",
      "                                                              \r"
     ]
    },
    {
     "name": "stdout",
     "output_type": "stream",
     "text": [
      "... frame 20: \n"
     ]
    },
    {
     "name": "stderr",
     "output_type": "stream",
     "text": [
      "Processing...:  65%|██████▍   | 20/31 [03:34<01:56, 10.58s/it]\n",
      "Embedding extraction: 0it [00:00, ?it/s]\n",
      "Embedding extraction: 1it [00:06,  6.72s/it]\n",
      "                                                              \r"
     ]
    },
    {
     "name": "stdout",
     "output_type": "stream",
     "text": [
      "... frame 21: \n"
     ]
    },
    {
     "name": "stderr",
     "output_type": "stream",
     "text": [
      "Processing...:  68%|██████▊   | 21/31 [03:44<01:45, 10.54s/it]\n",
      "Embedding extraction: 0it [00:00, ?it/s]\n",
      "Embedding extraction: 1it [00:05,  5.72s/it]\n",
      "                                                              \r"
     ]
    },
    {
     "name": "stdout",
     "output_type": "stream",
     "text": [
      "... frame 22: \n"
     ]
    },
    {
     "name": "stderr",
     "output_type": "stream",
     "text": [
      "Processing...:  71%|███████   | 22/31 [03:53<01:31, 10.11s/it]\n",
      "Embedding extraction: 0it [00:00, ?it/s]\n",
      "Embedding extraction: 1it [00:06,  6.33s/it]\n",
      "                                                              \r"
     ]
    },
    {
     "name": "stdout",
     "output_type": "stream",
     "text": [
      "... frame 23: \n"
     ]
    },
    {
     "name": "stderr",
     "output_type": "stream",
     "text": [
      "Processing...:  74%|███████▍  | 23/31 [04:04<01:21, 10.23s/it]\n",
      "Embedding extraction: 0it [00:00, ?it/s]\n",
      "Embedding extraction: 1it [00:08,  8.30s/it]\n",
      "                                                              \r"
     ]
    },
    {
     "name": "stdout",
     "output_type": "stream",
     "text": [
      "... frame 24: \n"
     ]
    },
    {
     "name": "stderr",
     "output_type": "stream",
     "text": [
      "Processing...:  77%|███████▋  | 24/31 [04:18<01:19, 11.37s/it]\n",
      "Embedding extraction: 0it [00:00, ?it/s]\n",
      "Embedding extraction: 1it [00:07,  7.93s/it]\n",
      "                                                              \r"
     ]
    },
    {
     "name": "stdout",
     "output_type": "stream",
     "text": [
      "... frame 25: \n"
     ]
    },
    {
     "name": "stderr",
     "output_type": "stream",
     "text": [
      "Processing...:  81%|████████  | 25/31 [04:32<01:12, 12.16s/it]\n",
      "Embedding extraction: 0it [00:00, ?it/s]\n",
      "Embedding extraction: 1it [00:09,  9.44s/it]\n",
      "                                                              \r"
     ]
    },
    {
     "name": "stdout",
     "output_type": "stream",
     "text": [
      "... frame 26: \n"
     ]
    },
    {
     "name": "stderr",
     "output_type": "stream",
     "text": [
      "Processing...:  84%|████████▍ | 26/31 [04:47<01:05, 13.13s/it]\n",
      "Embedding extraction: 0it [00:00, ?it/s]\n",
      "Embedding extraction: 1it [00:14, 14.36s/it]\n",
      "                                                              \r"
     ]
    },
    {
     "name": "stdout",
     "output_type": "stream",
     "text": [
      "... frame 27: \n"
     ]
    },
    {
     "name": "stderr",
     "output_type": "stream",
     "text": [
      "Processing...:  87%|████████▋ | 27/31 [05:09<01:02, 15.54s/it]\n",
      "Embedding extraction: 0it [00:00, ?it/s]\n",
      "Embedding extraction: 1it [00:11, 11.77s/it]\n",
      "                                                              \r"
     ]
    },
    {
     "name": "stdout",
     "output_type": "stream",
     "text": [
      "... frame 28: \n"
     ]
    },
    {
     "name": "stderr",
     "output_type": "stream",
     "text": [
      "Processing...:  90%|█████████ | 28/31 [05:27<00:49, 16.46s/it]\n",
      "Embedding extraction: 0it [00:00, ?it/s]\n",
      "Embedding extraction: 1it [00:07,  7.61s/it]\n",
      "                                                              \r"
     ]
    },
    {
     "name": "stdout",
     "output_type": "stream",
     "text": [
      "... frame 29: \n"
     ]
    },
    {
     "name": "stderr",
     "output_type": "stream",
     "text": [
      "Processing...:  94%|█████████▎| 29/31 [05:40<00:30, 15.48s/it]\n",
      "Embedding extraction: 0it [00:00, ?it/s]\n",
      "Embedding extraction: 1it [00:06,  6.82s/it]\n",
      "                                                              \r"
     ]
    },
    {
     "name": "stdout",
     "output_type": "stream",
     "text": [
      "... frame 30: \n"
     ]
    },
    {
     "name": "stderr",
     "output_type": "stream",
     "text": [
      "Processing...:  97%|█████████▋| 30/31 [05:51<00:13, 13.88s/it]\n",
      "Embedding extraction: 0it [00:00, ?it/s]\n",
      "Embedding extraction: 1it [00:05,  5.52s/it]\n",
      "Processing...: 100%|██████████| 31/31 [05:59<00:00, 11.60s/it]\n"
     ]
    }
   ],
   "source": [
    "#Full tracking\n",
    "import supervision as sv\n",
    "from utils.viewtransformer import ViewTransformer\n",
    "from utils.drawpitch import draw_pitch, draw_points_on_pitch\n",
    "\n",
    "BALL_ID = 0\n",
    "PLAYER_ID = 2\n",
    "GOALKEEPER_ID = 1\n",
    "\n",
    "pitch_frames = []\n",
    "\n",
    "ball_coords = []\n",
    "gk_t1_coords = []\n",
    "gk_t2_coords = []\n",
    "\n",
    "player_coords_per_id = dict()\n",
    "player_team_per_id = {}\n",
    "\n",
    "# Tracker\n",
    "tracker = sv.ByteTrack()\n",
    "\n",
    "for frame_index, frame in enumerate(tqdm(frames, desc=\"Processing...\")):\n",
    "    tqdm.write(f\"... frame {frame_index}: \")\n",
    "    \n",
    "    # ball and players detections\n",
    "    result = PLAYER_DETECTION_MODEL.infer(frame, confidence=0.2)[0]\n",
    "    detections = sv.Detections.from_inference(result)\n",
    "\n",
    "    ball_detections = detections[detections.class_id == BALL_ID]\n",
    "    ball_detections.xyxy = sv.pad_boxes(xyxy=ball_detections.xyxy, px=10)\n",
    "    \n",
    "    all_detections = detections[detections.class_id != BALL_ID]\n",
    "    all_detections = all_detections.with_nms(threshold=0.5, class_agnostic=True)\n",
    "    all_detections = tracker.update_with_detections(detections=all_detections)\n",
    "\n",
    "    goalkeepers_detections = all_detections[all_detections.class_id == GOALKEEPER_ID]\n",
    "    players_detections = all_detections[all_detections.class_id == PLAYER_ID]\n",
    "\n",
    "    # team assignment\n",
    "    players_crops = [sv.crop_image(frame, xyxy) for xyxy in players_detections.xyxy]\n",
    "    players_detections.class_id = team_classifier.predict(players_crops)\n",
    "\n",
    "    if len(goalkeepers_detections.xyxy) > 0:\n",
    "        goalkeepers_detections.class_id = resolve_goalkeepers_team_id(\n",
    "            players_detections, goalkeepers_detections)\n",
    "    else:\n",
    "        #if no gk detected no need to resolve team id\n",
    "        goalkeepers_detections.class_id = np.array([])\n",
    "    \n",
    "    all_detections = sv.Detections.merge([players_detections, goalkeepers_detections])\n",
    "\n",
    "    # frame visualization\n",
    "    labels = []\n",
    "    for idx, tracker_id in enumerate(all_detections.tracker_id):\n",
    "        class_id = all_detections.class_id[idx]\n",
    "        if tracker_id in player_team_per_id:\n",
    "            team = player_team_per_id[tracker_id]\n",
    "        else:\n",
    "            team = class_id\n",
    "        labels.append(f\"id_{tracker_id}_t_{team}\")\n",
    "\n",
    "    all_detections.class_id = all_detections.class_id.astype(int)\n",
    "\n",
    "    annotated_frame = frame.copy()\n",
    "    annotated_frame = ellipse_annotator.annotate(\n",
    "        scene=annotated_frame,\n",
    "        detections=all_detections)\n",
    "    annotated_frame = label_annotator.annotate(\n",
    "        scene=annotated_frame,\n",
    "        detections=all_detections,\n",
    "        labels=labels)\n",
    "    annotated_frame = triangle_annotator.annotate(\n",
    "        scene=annotated_frame,\n",
    "        detections=ball_detections)\n",
    "\n",
    "    pitch_frames.append(annotated_frame.copy())\n",
    "    \n",
    "    players_detections = sv.Detections.merge([\n",
    "        players_detections, goalkeepers_detections\n",
    "    ])\n",
    "    \n",
    "    # Detect pitch key points\n",
    "    result = FIELD_DETECTION_MODEL.infer(frame, confidence=0.3)[0]\n",
    "    key_points = sv.KeyPoints.from_inference(result)\n",
    "    \n",
    "    # Ensure key_points is not None and contains valid data\n",
    "    if key_points is None or key_points.confidence is None:\n",
    "        print(f\"Skipping frame {frame_index} due to missing key points.\")\n",
    "        continue  # Skip this frame and move to the next one\n",
    "\n",
    "    # project ball, players and gk on pitch\n",
    "    filter = key_points.confidence[0] > 0.5\n",
    "    frame_reference_points = key_points.xy[0][filter]\n",
    "    pitch_reference_points = np.array(CONFIG.vertices)[filter]\n",
    "\n",
    "    # Ensure there are at least 4 points for homography calculation\n",
    "    if len(frame_reference_points) < 4 or len(pitch_reference_points) < 4:\n",
    "        print(f\"Skipping frame due to insufficient keypoints: {len(frame_reference_points)} found.\")\n",
    "        continue  # Skip this frame and move to the next one\n",
    "\n",
    "    # Proceed with homography calculation\n",
    "    transformer = ViewTransformer(\n",
    "        source = frame_reference_points,\n",
    "        target = pitch_reference_points\n",
    "    )\n",
    "\n",
    "    frame_ball_xy = ball_detections.get_anchors_coordinates(sv.Position.BOTTOM_CENTER)\n",
    "    pitch_ball_xy = transformer.transform_points(points=frame_ball_xy)\n",
    "\n",
    "    players_xy = players_detections.get_anchors_coordinates(sv.Position.BOTTOM_CENTER)\n",
    "    pitch_players_xy = transformer.transform_points(points=players_xy)\n",
    "    \n",
    "    # --- Save player coordinates per ID in pitch space ---\n",
    "    for idx, tracker_id in enumerate(players_detections.tracker_id):\n",
    "        if tracker_id is not None:\n",
    "            if tracker_id not in player_coords_per_id:\n",
    "                player_coords_per_id[tracker_id] = []\n",
    "                # Save the team assignment for this tracker_id\n",
    "                player_team_per_id[tracker_id] = int(players_detections.class_id[idx])\n",
    "            x, y = pitch_players_xy[idx]\n",
    "            player_coords_per_id[tracker_id].append((frame_index, x, y))\n",
    "\n",
    "    # --- Save ball coordinates in pitch space ---\n",
    "    if len(pitch_ball_xy) > 0:\n",
    "        x, y = pitch_ball_xy[0]\n",
    "        ball_coords.append((frame_index, x, y))\n",
    "    else:\n",
    "        ball_coords.append((frame_index, None, None))\n",
    "\n",
    "    # --- Save goalkeeper coordinates for each team in pitch space ---\n",
    "    # Find goalkeepers in players_detections (merged with goalkeepers)\n",
    "    gk_indices = np.where(players_detections.class_id == GOALKEEPER_ID)[0]\n",
    "    for idx in gk_indices:\n",
    "        x, y = pitch_players_xy[idx]\n",
    "        # Use the original team assignment for GKs\n",
    "        team_id = resolve_goalkeepers_team_id(players_detections, players_detections[idx:idx+1])[0]\n",
    "        if team_id == 0:\n",
    "            gk_t1_coords.append((frame_index, x, y))\n",
    "        elif team_id == 1:\n",
    "            gk_t2_coords.append((frame_index, x, y)) \n",
    "    \n",
    "    if frame_index > 30: #bytetrack memory is 30 frames\n",
    "        tracker.reset()"
   ]
  },
  {
   "cell_type": "code",
   "execution_count": null,
   "id": "1de79c73",
   "metadata": {},
   "outputs": [],
   "source": [
    "#Save frames with detections to folder\n",
    "import cv2\n",
    "import numpy as np\n",
    "import os\n",
    "\n",
    "video_name = os.path.splitext(os.path.basename(SOURCE_VIDEO_PATH))[0]\n",
    "\n",
    "frames_len = len(frames)\n",
    "\n",
    "output_dir = f\"../../data/frames/{video_name}-{frames_len}f\"\n",
    "os.makedirs(output_dir, exist_ok=True)\n",
    "\n",
    "for idx, frame in enumerate(pitch_frames):\n",
    "    frame_path = os.path.join(output_dir, f\"frame_{idx:04d}.png\")\n",
    "    \n",
    "    cv2.imwrite(frame_path,np.array(frame))"
   ]
  },
  {
   "cell_type": "code",
   "execution_count": null,
   "id": "25b4ef8a",
   "metadata": {},
   "outputs": [
    {
     "name": "stdout",
     "output_type": "stream",
     "text": [
      "Coordinates per frame saved to ../../data/coords/new5s-31f.csv\n"
     ]
    }
   ],
   "source": [
    "#Save coordinates per frame to CSV\n",
    "import csv\n",
    "import numpy as np\n",
    "import os\n",
    "\n",
    "video_name = os.path.splitext(os.path.basename(SOURCE_VIDEO_PATH))[0]\n",
    "\n",
    "output_csv_path = f\"../../data/coords/{video_name}-{frames_len}f.csv\" \n",
    "all_ids = sorted(player_coords_per_id.keys())\n",
    "\n",
    "# Build lookups\n",
    "frame_lookup = {}\n",
    "for tracker_id, coords in player_coords_per_id.items():\n",
    "    for frame_index, x, y in coords:\n",
    "        if frame_index not in frame_lookup:\n",
    "            frame_lookup[frame_index] = {}\n",
    "        frame_lookup[frame_index][tracker_id] = [x, y]\n",
    "\n",
    "ball_lookup = {f: [x, y] for f, x, y in ball_coords}\n",
    "\n",
    "header = (\n",
    "    [\"frame_index\", \"ball\"] +\n",
    "    [f\"id_{id}_team_{player_team_per_id[id]}\" for id in all_ids]\n",
    ")\n",
    "\n",
    "all_frames = sorted(set(\n",
    "    list(frame_lookup.keys()) +\n",
    "    list(ball_lookup.keys())\n",
    "))\n",
    "\n",
    "with open(output_csv_path, mode=\"w\", newline=\"\") as file:\n",
    "    writer = csv.writer(file)\n",
    "    writer.writerow(header)\n",
    "    for frame_index in all_frames:\n",
    "        row = [frame_index]\n",
    "        # Ball\n",
    "        ball = ball_lookup.get(frame_index, None)\n",
    "        if ball and None not in ball:\n",
    "            row.append(f\"{ball[0]:.2f},{ball[1]:.2f}\")\n",
    "        else:\n",
    "            row.append(\"\")\n",
    "        # Players by id\n",
    "        for id in all_ids:\n",
    "            coord = frame_lookup.get(frame_index, {}).get(id, None)\n",
    "            if coord and None not in coord:\n",
    "                row.append(f\"{coord[0]:.2f},{coord[1]:.2f}\")\n",
    "            else:\n",
    "                row.append(\"\")\n",
    "        writer.writerow(row)\n",
    "\n",
    "print(f\"Coordinates per frame saved to {output_csv_path}\")"
   ]
  }
 ],
 "metadata": {
  "kernelspec": {
   "display_name": "Python 3",
   "language": "python",
   "name": "python3"
  },
  "language_info": {
   "codemirror_mode": {
    "name": "ipython",
    "version": 3
   },
   "file_extension": ".py",
   "mimetype": "text/x-python",
   "name": "python",
   "nbconvert_exporter": "python",
   "pygments_lexer": "ipython3",
   "version": "3.12.6"
  }
 },
 "nbformat": 4,
 "nbformat_minor": 5
}
