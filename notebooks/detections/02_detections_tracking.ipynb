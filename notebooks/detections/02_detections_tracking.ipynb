{
 "cells": [
  {
   "cell_type": "markdown",
   "id": "85a1fbf1",
   "metadata": {},
   "source": [
    "02. DETECTIONS TRACKING"
   ]
  },
  {
   "cell_type": "code",
   "execution_count": null,
   "id": "327cf98d",
   "metadata": {},
   "outputs": [],
   "source": [
    "import os\n",
    "os.environ[\"ONNXRUNTIME_EXECUTION_PROVIDERS\"] = \"[CUDAExecutionProvider]\"\n",
    "\n",
    "import sys\n",
    "sys.path.append(os.getenv(\"PROJECT_PATH\"))\n",
    "\n",
    "from inference import get_model\n",
    "import supervision as sv\n",
    "\n",
    "ROBOFLOW_API_KEY = os.getenv(\"ROBOFLOW_API_KEY\")\n",
    "\n",
    "PLAYER_DETECTION_MODEL_ID = 'football-players-detection-3zvbc/2'\n",
    "PLAYER_DETECTION_MODEL = get_model(PLAYER_DETECTION_MODEL_ID, ROBOFLOW_API_KEY)\n",
    "\n",
    "FIELD_DETECTION_MODEL_ID = \"football-field-detection-f07vi/14\"\n",
    "FIELD_DETECTION_MODEL = get_model(model_id=FIELD_DETECTION_MODEL_ID, api_key=ROBOFLOW_API_KEY)\n",
    "\n",
    "SOURCE_VIDEO_PATH = \"../../data/videos/2-last30s.mp4\""
   ]
  },
  {
   "cell_type": "code",
   "execution_count": 3,
   "id": "425f1626",
   "metadata": {},
   "outputs": [],
   "source": [
    "#Supervision annotators\n",
    "from utils.pitchconfig import SoccerPitchConfiguration\n",
    "\n",
    "CONFIG = SoccerPitchConfiguration()\n",
    "\n",
    "ellipse_annotator = sv.EllipseAnnotator(\n",
    "    color=sv.ColorPalette.from_hex(['#00BFFF', '#FF1493', '#FFD700']), #blue, pink, yellow\n",
    "    thickness=2\n",
    ")\n",
    "label_annotator = sv.LabelAnnotator(\n",
    "    color=sv.ColorPalette.from_hex(['#00BFFF', '#FF1493', '#FFD700']), #blue, pink, yellow\n",
    "    text_color=sv.Color.from_hex('#000000'),\n",
    "    text_position=sv.Position.BOTTOM_CENTER\n",
    ")\n",
    "triangle_annotator = sv.TriangleAnnotator(\n",
    "    color=sv.Color.from_hex('#FFD700'),\n",
    "    base=25,\n",
    "    height=21,\n",
    "    outline_thickness=1\n",
    ")\n",
    "\n",
    "#Supervision - virtualization\n",
    "edge_annotator = sv.EdgeAnnotator(\n",
    "    color=sv.Color.from_hex('#00BFFF'),\n",
    "    thickness=2, edges=CONFIG.edges)\n",
    "vertex_annotator = sv.VertexAnnotator(\n",
    "    color=sv.Color.from_hex('#FF1493'),\n",
    "    radius=8)\n",
    "vertex_annotator_2 = sv.VertexAnnotator(\n",
    "    color=sv.Color.from_hex('#00BFFF'),\n",
    "    radius=8)"
   ]
  },
  {
   "cell_type": "code",
   "execution_count": 4,
   "id": "77e793fe",
   "metadata": {},
   "outputs": [
    {
     "name": "stderr",
     "output_type": "stream",
     "text": [
      "collecting crops: 31it [00:33,  1.08s/it]\n",
      "Embedding extraction: 21it [02:47,  7.98s/it]\n"
     ]
    },
    {
     "name": "stdout",
     "output_type": "stream",
     "text": [
      "Number of players detected: 650\n"
     ]
    }
   ],
   "source": [
    "#Team Assignment based on colours\n",
    "#use of the SigLIP, UMAP, and KMeans combo\n",
    "import supervision as sv\n",
    "from tqdm import tqdm\n",
    "from utils.teamclassifier import TeamClassifier\n",
    "\n",
    "PLAYER_ID = 2\n",
    "STRIDE = 60\n",
    "frame_generator = sv.get_video_frames_generator(\n",
    "    source_path=SOURCE_VIDEO_PATH, stride=STRIDE\n",
    ")\n",
    "\n",
    "crops = []\n",
    "for frame in tqdm(frame_generator, desc=\"collecting crops\"):\n",
    "    result = PLAYER_DETECTION_MODEL.infer(frame, confidence=0.3)[0]\n",
    "    detections = sv.Detections.from_inference(result)\n",
    "    players_detections = detections[detections.class_id == PLAYER_ID]\n",
    "    \n",
    "    # Skip the frame if no players are detected\n",
    "    if len(players_detections.xyxy) == 0:\n",
    "        continue\n",
    "    \n",
    "    players_crops = [sv.crop_image(frame, xyxy) for xyxy in players_detections.xyxy]\n",
    "    crops += players_crops\n",
    "\n",
    "# Ensure there are enough crops for clustering\n",
    "if len(crops) < 2:\n",
    "    print(\"Not enough player crops detected. Skipping team classification.\")\n",
    "else:\n",
    "    team_classifier = TeamClassifier(device=\"cpu\")\n",
    "    team_classifier.fit(crops)\n",
    "    \n",
    "print(f\"Number of players detected: {len(crops)}\")"
   ]
  },
  {
   "cell_type": "code",
   "execution_count": 5,
   "id": "96389a7f",
   "metadata": {},
   "outputs": [],
   "source": [
    "#GK Assignment - calculate avg centroid of players and assign GK to the team with the closest centroid\n",
    "import numpy as np\n",
    "import supervision as sv\n",
    "\n",
    "def resolve_goalkeepers_team_id(\n",
    "    players: sv.Detections,\n",
    "    goalkeepers: sv.Detections\n",
    ") -> np.ndarray:\n",
    "    goalkeepers_xy = goalkeepers.get_anchors_coordinates(sv.Position.BOTTOM_CENTER)\n",
    "    players_xy = players.get_anchors_coordinates(sv.Position.BOTTOM_CENTER)\n",
    "    team_0_centroid = players_xy[players.class_id == 0].mean(axis=0)\n",
    "    team_1_centroid = players_xy[players.class_id == 1].mean(axis=0)\n",
    "    goalkeepers_team_id = []\n",
    "    for goalkeeper_xy in goalkeepers_xy:\n",
    "        dist_0 = np.linalg.norm(goalkeeper_xy - team_0_centroid)\n",
    "        dist_1 = np.linalg.norm(goalkeeper_xy - team_1_centroid)\n",
    "        goalkeepers_team_id.append(0 if dist_0 < dist_1 else 1)\n",
    "\n",
    "    return np.array(goalkeepers_team_id)"
   ]
  },
  {
   "cell_type": "code",
   "execution_count": 6,
   "id": "60775edb",
   "metadata": {},
   "outputs": [
    {
     "name": "stderr",
     "output_type": "stream",
     "text": [
      "Processing...: 1802it [00:25, 69.72it/s] \n"
     ]
    },
    {
     "name": "stdout",
     "output_type": "stream",
     "text": [
      "Total frames collected: 361\n"
     ]
    }
   ],
   "source": [
    "#Frame collection for training\n",
    "from tqdm import tqdm\n",
    "\n",
    "frames = []\n",
    "\n",
    "for frame_index, frame in enumerate(tqdm(sv.get_video_frames_generator(SOURCE_VIDEO_PATH), desc=\"Processing...\")):\n",
    "    if frame_index % 5 == 0: #default: 5\n",
    "        frames.append(frame)\n",
    "\n",
    "print(f\"Total frames collected: {len(frames)}\")"
   ]
  },
  {
   "cell_type": "code",
   "execution_count": 7,
   "id": "b77e50ca",
   "metadata": {},
   "outputs": [
    {
     "name": "stderr",
     "output_type": "stream",
     "text": [
      "                                                      \r"
     ]
    },
    {
     "name": "stdout",
     "output_type": "stream",
     "text": [
      "... frame 0: \n"
     ]
    },
    {
     "name": "stderr",
     "output_type": "stream",
     "text": [
      "Processing...:   0%|          | 0/361 [00:00<?, ?it/s]\n",
      "Embedding extraction: 0it [00:00, ?it/s]\n",
      "Embedding extraction: 1it [00:05,  5.58s/it]\n",
      "                                                                \r"
     ]
    },
    {
     "name": "stdout",
     "output_type": "stream",
     "text": [
      "... frame 1: \n"
     ]
    },
    {
     "name": "stderr",
     "output_type": "stream",
     "text": [
      "Processing...:   0%|          | 1/361 [00:13<1:23:49, 13.97s/it]\n",
      "Embedding extraction: 0it [00:00, ?it/s]\n",
      "Embedding extraction: 1it [00:06,  6.29s/it]\n",
      "                                                                \r"
     ]
    },
    {
     "name": "stdout",
     "output_type": "stream",
     "text": [
      "... frame 2: \n"
     ]
    },
    {
     "name": "stderr",
     "output_type": "stream",
     "text": [
      "Processing...:   1%|          | 2/361 [00:23<1:08:28, 11.45s/it]\n",
      "Embedding extraction: 0it [00:00, ?it/s]\n",
      "Embedding extraction: 1it [00:05,  5.60s/it]\n",
      "                                                                \r"
     ]
    },
    {
     "name": "stdout",
     "output_type": "stream",
     "text": [
      "... frame 3: \n"
     ]
    },
    {
     "name": "stderr",
     "output_type": "stream",
     "text": [
      "Processing...:   1%|          | 3/361 [00:32<1:00:38, 10.16s/it]\n",
      "Embedding extraction: 0it [00:00, ?it/s]\n",
      "Embedding extraction: 1it [00:05,  5.61s/it]\n",
      "                                                                \r"
     ]
    },
    {
     "name": "stdout",
     "output_type": "stream",
     "text": [
      "... frame 4: \n"
     ]
    },
    {
     "name": "stderr",
     "output_type": "stream",
     "text": [
      "Processing...:   1%|          | 4/361 [00:40<56:53,  9.56s/it]\n",
      "Embedding extraction: 0it [00:00, ?it/s]\n",
      "Embedding extraction: 1it [00:06,  6.24s/it]\n",
      "                                                              \r"
     ]
    },
    {
     "name": "stdout",
     "output_type": "stream",
     "text": [
      "... frame 5: \n"
     ]
    },
    {
     "name": "stderr",
     "output_type": "stream",
     "text": [
      "Processing...:   1%|▏         | 5/361 [00:50<56:30,  9.53s/it]\n",
      "Embedding extraction: 0it [00:00, ?it/s]\n",
      "Embedding extraction: 1it [00:05,  5.54s/it]\n",
      "                                                              \r"
     ]
    },
    {
     "name": "stdout",
     "output_type": "stream",
     "text": [
      "... frame 6: \n"
     ]
    },
    {
     "name": "stderr",
     "output_type": "stream",
     "text": [
      "Processing...:   2%|▏         | 6/361 [00:59<54:43,  9.25s/it]\n",
      "Embedding extraction: 0it [00:00, ?it/s]\n",
      "Embedding extraction: 1it [00:06,  6.06s/it]\n",
      "                                                              \r"
     ]
    },
    {
     "name": "stdout",
     "output_type": "stream",
     "text": [
      "... frame 7: \n"
     ]
    },
    {
     "name": "stderr",
     "output_type": "stream",
     "text": [
      "Processing...:   2%|▏         | 7/361 [01:08<54:28,  9.23s/it]\n",
      "Embedding extraction: 0it [00:00, ?it/s]\n",
      "Embedding extraction: 1it [00:05,  5.22s/it]\n",
      "                                                              \r"
     ]
    },
    {
     "name": "stdout",
     "output_type": "stream",
     "text": [
      "... frame 8: \n"
     ]
    },
    {
     "name": "stderr",
     "output_type": "stream",
     "text": [
      "Processing...:   2%|▏         | 8/361 [01:16<51:58,  8.83s/it]\n",
      "Embedding extraction: 0it [00:00, ?it/s]\n",
      "Embedding extraction: 1it [00:05,  5.25s/it]\n",
      "                                                              \r"
     ]
    },
    {
     "name": "stdout",
     "output_type": "stream",
     "text": [
      "... frame 9: \n"
     ]
    },
    {
     "name": "stderr",
     "output_type": "stream",
     "text": [
      "Processing...:   2%|▏         | 9/361 [01:24<50:20,  8.58s/it]\n",
      "Embedding extraction: 0it [00:00, ?it/s]\n",
      "Embedding extraction: 1it [00:05,  5.24s/it]\n",
      "                                                               \r"
     ]
    },
    {
     "name": "stdout",
     "output_type": "stream",
     "text": [
      "... frame 10: \n"
     ]
    },
    {
     "name": "stderr",
     "output_type": "stream",
     "text": [
      "Processing...:   3%|▎         | 10/361 [01:32<49:19,  8.43s/it]\n",
      "Embedding extraction: 0it [00:00, ?it/s]\n",
      "Embedding extraction: 1it [00:05,  5.24s/it]\n",
      "                                                               \r"
     ]
    },
    {
     "name": "stdout",
     "output_type": "stream",
     "text": [
      "... frame 11: \n"
     ]
    },
    {
     "name": "stderr",
     "output_type": "stream",
     "text": [
      "Processing...:   3%|▎         | 11/361 [01:40<48:22,  8.29s/it]\n",
      "Embedding extraction: 0it [00:00, ?it/s]\n",
      "Embedding extraction: 1it [00:05,  5.05s/it]\n",
      "                                                               \r"
     ]
    },
    {
     "name": "stdout",
     "output_type": "stream",
     "text": [
      "... frame 12: \n"
     ]
    },
    {
     "name": "stderr",
     "output_type": "stream",
     "text": [
      "Processing...:   3%|▎         | 12/361 [01:48<47:27,  8.16s/it]\n",
      "Embedding extraction: 0it [00:00, ?it/s]\n",
      "Embedding extraction: 1it [00:05,  5.95s/it]\n",
      "                                                               \r"
     ]
    },
    {
     "name": "stdout",
     "output_type": "stream",
     "text": [
      "... frame 13: \n"
     ]
    },
    {
     "name": "stderr",
     "output_type": "stream",
     "text": [
      "Processing...:   4%|▎         | 13/361 [01:56<48:14,  8.32s/it]\n",
      "Embedding extraction: 0it [00:00, ?it/s]\n",
      "Embedding extraction: 1it [00:05,  5.13s/it]\n",
      "                                                               \r"
     ]
    },
    {
     "name": "stdout",
     "output_type": "stream",
     "text": [
      "... frame 14: \n"
     ]
    },
    {
     "name": "stderr",
     "output_type": "stream",
     "text": [
      "Processing...:   4%|▍         | 14/361 [02:05<48:14,  8.34s/it]\n",
      "Embedding extraction: 0it [00:00, ?it/s]\n",
      "Embedding extraction: 1it [00:05,  5.30s/it]\n",
      "                                                               \r"
     ]
    },
    {
     "name": "stdout",
     "output_type": "stream",
     "text": [
      "... frame 15: \n"
     ]
    },
    {
     "name": "stderr",
     "output_type": "stream",
     "text": [
      "Processing...:   4%|▍         | 15/361 [02:13<47:31,  8.24s/it]\n",
      "Embedding extraction: 0it [00:00, ?it/s]\n",
      "Embedding extraction: 1it [00:05,  5.70s/it]\n",
      "                                                               \r"
     ]
    },
    {
     "name": "stdout",
     "output_type": "stream",
     "text": [
      "... frame 16: \n"
     ]
    },
    {
     "name": "stderr",
     "output_type": "stream",
     "text": [
      "Processing...:   4%|▍         | 16/361 [02:22<48:56,  8.51s/it]\n",
      "Embedding extraction: 0it [00:00, ?it/s]\n",
      "Embedding extraction: 1it [00:05,  5.24s/it]\n",
      "                                                               \r"
     ]
    },
    {
     "name": "stdout",
     "output_type": "stream",
     "text": [
      "... frame 17: \n"
     ]
    },
    {
     "name": "stderr",
     "output_type": "stream",
     "text": [
      "Processing...:   5%|▍         | 17/361 [02:30<48:19,  8.43s/it]\n",
      "Embedding extraction: 0it [00:00, ?it/s]\n",
      "Embedding extraction: 1it [00:04,  4.96s/it]\n",
      "                                                               \r"
     ]
    },
    {
     "name": "stdout",
     "output_type": "stream",
     "text": [
      "... frame 18: \n"
     ]
    },
    {
     "name": "stderr",
     "output_type": "stream",
     "text": [
      "Processing...:   5%|▍         | 18/361 [02:38<46:54,  8.20s/it]\n",
      "Embedding extraction: 0it [00:00, ?it/s]\n",
      "Embedding extraction: 1it [00:04,  4.94s/it]\n",
      "                                                               \r"
     ]
    },
    {
     "name": "stdout",
     "output_type": "stream",
     "text": [
      "... frame 19: \n"
     ]
    },
    {
     "name": "stderr",
     "output_type": "stream",
     "text": [
      "Processing...:   5%|▌         | 19/361 [02:46<46:05,  8.09s/it]\n",
      "Embedding extraction: 0it [00:00, ?it/s]\n",
      "Embedding extraction: 1it [00:04,  4.60s/it]\n",
      "                                                               \r"
     ]
    },
    {
     "name": "stdout",
     "output_type": "stream",
     "text": [
      "... frame 20: \n"
     ]
    },
    {
     "name": "stderr",
     "output_type": "stream",
     "text": [
      "Processing...:   6%|▌         | 20/361 [02:53<44:20,  7.80s/it]\n",
      "Embedding extraction: 0it [00:00, ?it/s]\n",
      "Embedding extraction: 1it [00:04,  4.78s/it]\n",
      "                                                               \r"
     ]
    },
    {
     "name": "stdout",
     "output_type": "stream",
     "text": [
      "... frame 21: \n"
     ]
    },
    {
     "name": "stderr",
     "output_type": "stream",
     "text": [
      "Processing...:   6%|▌         | 21/361 [03:00<43:15,  7.63s/it]\n",
      "Embedding extraction: 0it [00:00, ?it/s]\n",
      "Embedding extraction: 1it [00:04,  4.55s/it]\n",
      "                                                               \r"
     ]
    },
    {
     "name": "stdout",
     "output_type": "stream",
     "text": [
      "... frame 22: \n"
     ]
    },
    {
     "name": "stderr",
     "output_type": "stream",
     "text": [
      "Processing...:   6%|▌         | 22/361 [03:07<42:01,  7.44s/it]\n",
      "Embedding extraction: 0it [00:00, ?it/s]\n",
      "Embedding extraction: 1it [00:04,  4.50s/it]\n",
      "                                                               \r"
     ]
    },
    {
     "name": "stdout",
     "output_type": "stream",
     "text": [
      "... frame 23: \n"
     ]
    },
    {
     "name": "stderr",
     "output_type": "stream",
     "text": [
      "Processing...:   6%|▋         | 23/361 [03:14<41:22,  7.35s/it]\n",
      "Embedding extraction: 0it [00:00, ?it/s]\n",
      "Embedding extraction: 1it [00:04,  4.95s/it]\n",
      "                                                               \r"
     ]
    },
    {
     "name": "stdout",
     "output_type": "stream",
     "text": [
      "... frame 24: \n"
     ]
    },
    {
     "name": "stderr",
     "output_type": "stream",
     "text": [
      "Processing...:   7%|▋         | 24/361 [03:22<41:26,  7.38s/it]\n",
      "Embedding extraction: 0it [00:00, ?it/s]\n",
      "Embedding extraction: 1it [00:04,  4.55s/it]\n",
      "                                                               \r"
     ]
    },
    {
     "name": "stdout",
     "output_type": "stream",
     "text": [
      "... frame 25: \n"
     ]
    },
    {
     "name": "stderr",
     "output_type": "stream",
     "text": [
      "Processing...:   7%|▋         | 25/361 [03:29<40:40,  7.26s/it]\n",
      "Embedding extraction: 0it [00:00, ?it/s]\n",
      "Embedding extraction: 1it [00:04,  4.46s/it]\n",
      "                                                               \r"
     ]
    },
    {
     "name": "stdout",
     "output_type": "stream",
     "text": [
      "... frame 26: \n"
     ]
    },
    {
     "name": "stderr",
     "output_type": "stream",
     "text": [
      "Processing...:   7%|▋         | 26/361 [03:35<39:49,  7.13s/it]\n",
      "Embedding extraction: 0it [00:00, ?it/s]\n",
      "Embedding extraction: 1it [00:04,  4.40s/it]\n",
      "                                                               \r"
     ]
    },
    {
     "name": "stdout",
     "output_type": "stream",
     "text": [
      "... frame 27: \n"
     ]
    },
    {
     "name": "stderr",
     "output_type": "stream",
     "text": [
      "Processing...:   7%|▋         | 27/361 [03:42<39:15,  7.05s/it]\n",
      "Embedding extraction: 0it [00:00, ?it/s]\n",
      "Embedding extraction: 1it [00:04,  4.49s/it]\n",
      "                                                               \r"
     ]
    },
    {
     "name": "stdout",
     "output_type": "stream",
     "text": [
      "... frame 28: \n"
     ]
    },
    {
     "name": "stderr",
     "output_type": "stream",
     "text": [
      "Processing...:   8%|▊         | 28/361 [03:50<39:20,  7.09s/it]\n",
      "Embedding extraction: 0it [00:00, ?it/s]\n",
      "Embedding extraction: 1it [00:04,  4.99s/it]\n",
      "                                                               \r"
     ]
    },
    {
     "name": "stdout",
     "output_type": "stream",
     "text": [
      "... frame 29: \n"
     ]
    },
    {
     "name": "stderr",
     "output_type": "stream",
     "text": [
      "Processing...:   8%|▊         | 29/361 [03:57<40:13,  7.27s/it]\n",
      "Embedding extraction: 0it [00:00, ?it/s]\n",
      "Embedding extraction: 1it [00:04,  4.64s/it]\n",
      "                                                               \r"
     ]
    },
    {
     "name": "stdout",
     "output_type": "stream",
     "text": [
      "... frame 30: \n"
     ]
    },
    {
     "name": "stderr",
     "output_type": "stream",
     "text": [
      "Processing...:   8%|▊         | 30/361 [04:04<40:00,  7.25s/it]\n",
      "Embedding extraction: 0it [00:00, ?it/s]\n",
      "Embedding extraction: 1it [00:04,  4.65s/it]\n",
      "                                                               \r"
     ]
    },
    {
     "name": "stdout",
     "output_type": "stream",
     "text": [
      "... frame 31: \n"
     ]
    },
    {
     "name": "stderr",
     "output_type": "stream",
     "text": [
      "Processing...:   9%|▊         | 31/361 [04:11<39:30,  7.18s/it]\n",
      "Embedding extraction: 0it [00:00, ?it/s]\n",
      "Embedding extraction: 1it [00:04,  4.51s/it]\n",
      "                                                               \r"
     ]
    },
    {
     "name": "stdout",
     "output_type": "stream",
     "text": [
      "... frame 32: \n"
     ]
    },
    {
     "name": "stderr",
     "output_type": "stream",
     "text": [
      "Processing...:   9%|▉         | 32/361 [04:18<38:53,  7.09s/it]\n",
      "Embedding extraction: 0it [00:00, ?it/s]\n",
      "Embedding extraction: 1it [00:04,  4.61s/it]\n",
      "                                                               \r"
     ]
    },
    {
     "name": "stdout",
     "output_type": "stream",
     "text": [
      "... frame 33: \n"
     ]
    },
    {
     "name": "stderr",
     "output_type": "stream",
     "text": [
      "Processing...:   9%|▉         | 33/361 [04:25<38:38,  7.07s/it]\n",
      "Embedding extraction: 0it [00:00, ?it/s]\n",
      "Embedding extraction: 1it [00:04,  4.84s/it]\n",
      "                                                               \r"
     ]
    },
    {
     "name": "stdout",
     "output_type": "stream",
     "text": [
      "... frame 34: \n"
     ]
    },
    {
     "name": "stderr",
     "output_type": "stream",
     "text": [
      "Processing...:   9%|▉         | 34/361 [04:33<38:43,  7.11s/it]\n",
      "Embedding extraction: 0it [00:00, ?it/s]\n",
      "Embedding extraction: 1it [00:04,  4.62s/it]\n",
      "                                                               \r"
     ]
    },
    {
     "name": "stdout",
     "output_type": "stream",
     "text": [
      "... frame 35: \n"
     ]
    },
    {
     "name": "stderr",
     "output_type": "stream",
     "text": [
      "Processing...:  10%|▉         | 35/361 [04:40<38:29,  7.08s/it]\n",
      "Embedding extraction: 0it [00:00, ?it/s]\n",
      "Embedding extraction: 1it [00:04,  4.58s/it]\n",
      "                                                               \r"
     ]
    },
    {
     "name": "stdout",
     "output_type": "stream",
     "text": [
      "... frame 36: \n"
     ]
    },
    {
     "name": "stderr",
     "output_type": "stream",
     "text": [
      "Processing...:  10%|▉         | 36/361 [04:46<38:09,  7.04s/it]\n",
      "Embedding extraction: 0it [00:00, ?it/s]\n",
      "Embedding extraction: 1it [00:04,  4.86s/it]\n",
      "                                                               \r"
     ]
    },
    {
     "name": "stdout",
     "output_type": "stream",
     "text": [
      "... frame 37: \n"
     ]
    },
    {
     "name": "stderr",
     "output_type": "stream",
     "text": [
      "Processing...:  10%|█         | 37/361 [04:54<38:25,  7.12s/it]\n",
      "Embedding extraction: 0it [00:00, ?it/s]\n",
      "Embedding extraction: 1it [00:04,  4.81s/it]\n",
      "                                                               \r"
     ]
    },
    {
     "name": "stdout",
     "output_type": "stream",
     "text": [
      "... frame 38: \n"
     ]
    },
    {
     "name": "stderr",
     "output_type": "stream",
     "text": [
      "Processing...:  11%|█         | 38/361 [05:01<38:21,  7.12s/it]\n",
      "Embedding extraction: 0it [00:00, ?it/s]\n",
      "Embedding extraction: 1it [00:04,  4.60s/it]\n",
      "                                                               \r"
     ]
    },
    {
     "name": "stdout",
     "output_type": "stream",
     "text": [
      "... frame 39: \n"
     ]
    },
    {
     "name": "stderr",
     "output_type": "stream",
     "text": [
      "Processing...:  11%|█         | 39/361 [05:08<37:52,  7.06s/it]\n",
      "Embedding extraction: 0it [00:00, ?it/s]\n",
      "Embedding extraction: 1it [00:04,  4.90s/it]\n",
      "                                                               \r"
     ]
    },
    {
     "name": "stdout",
     "output_type": "stream",
     "text": [
      "... frame 40: \n"
     ]
    },
    {
     "name": "stderr",
     "output_type": "stream",
     "text": [
      "Processing...:  11%|█         | 40/361 [05:15<38:07,  7.13s/it]\n",
      "Embedding extraction: 0it [00:00, ?it/s]\n",
      "Embedding extraction: 1it [00:04,  4.60s/it]\n",
      "                                                               \r"
     ]
    },
    {
     "name": "stdout",
     "output_type": "stream",
     "text": [
      "... frame 41: \n"
     ]
    },
    {
     "name": "stderr",
     "output_type": "stream",
     "text": [
      "Processing...:  11%|█▏        | 41/361 [05:22<37:48,  7.09s/it]\n",
      "Embedding extraction: 0it [00:00, ?it/s]\n",
      "Embedding extraction: 1it [00:04,  4.60s/it]\n",
      "                                                               \r"
     ]
    },
    {
     "name": "stdout",
     "output_type": "stream",
     "text": [
      "... frame 42: \n"
     ]
    },
    {
     "name": "stderr",
     "output_type": "stream",
     "text": [
      "Processing...:  12%|█▏        | 42/361 [05:29<37:22,  7.03s/it]\n",
      "Embedding extraction: 0it [00:00, ?it/s]\n",
      "Embedding extraction: 1it [00:04,  4.66s/it]\n",
      "                                                               \r"
     ]
    },
    {
     "name": "stdout",
     "output_type": "stream",
     "text": [
      "... frame 43: \n"
     ]
    },
    {
     "name": "stderr",
     "output_type": "stream",
     "text": [
      "Processing...:  12%|█▏        | 43/361 [05:36<37:13,  7.02s/it]\n",
      "Embedding extraction: 0it [00:00, ?it/s]\n",
      "Embedding extraction: 1it [00:05,  5.10s/it]\n",
      "                                                               \r"
     ]
    },
    {
     "name": "stdout",
     "output_type": "stream",
     "text": [
      "... frame 44: \n"
     ]
    },
    {
     "name": "stderr",
     "output_type": "stream",
     "text": [
      "Processing...:  12%|█▏        | 44/361 [05:44<38:19,  7.25s/it]\n",
      "Embedding extraction: 0it [00:00, ?it/s]\n",
      "Embedding extraction: 1it [00:05,  5.00s/it]\n",
      "                                                               \r"
     ]
    },
    {
     "name": "stdout",
     "output_type": "stream",
     "text": [
      "... frame 45: \n"
     ]
    },
    {
     "name": "stderr",
     "output_type": "stream",
     "text": [
      "Processing...:  12%|█▏        | 45/361 [05:51<38:52,  7.38s/it]\n",
      "Embedding extraction: 0it [00:00, ?it/s]\n",
      "Embedding extraction: 1it [00:05,  5.34s/it]\n",
      "                                                               \r"
     ]
    },
    {
     "name": "stdout",
     "output_type": "stream",
     "text": [
      "... frame 46: \n"
     ]
    },
    {
     "name": "stderr",
     "output_type": "stream",
     "text": [
      "Processing...:  13%|█▎        | 46/361 [06:00<39:51,  7.59s/it]\n",
      "Embedding extraction: 0it [00:00, ?it/s]\n",
      "Embedding extraction: 1it [00:04,  4.92s/it]\n",
      "                                                               \r"
     ]
    },
    {
     "name": "stdout",
     "output_type": "stream",
     "text": [
      "... frame 47: \n"
     ]
    },
    {
     "name": "stderr",
     "output_type": "stream",
     "text": [
      "Processing...:  13%|█▎        | 47/361 [06:07<39:27,  7.54s/it]\n",
      "Embedding extraction: 0it [00:00, ?it/s]\n",
      "Embedding extraction: 1it [00:04,  4.62s/it]\n",
      "                                                               \r"
     ]
    },
    {
     "name": "stdout",
     "output_type": "stream",
     "text": [
      "... frame 48: \n"
     ]
    },
    {
     "name": "stderr",
     "output_type": "stream",
     "text": [
      "Processing...:  13%|█▎        | 48/361 [06:14<39:06,  7.50s/it]\n",
      "Embedding extraction: 0it [00:00, ?it/s]\n",
      "Embedding extraction: 1it [00:04,  4.67s/it]\n",
      "                                                               \r"
     ]
    },
    {
     "name": "stdout",
     "output_type": "stream",
     "text": [
      "... frame 49: \n"
     ]
    },
    {
     "name": "stderr",
     "output_type": "stream",
     "text": [
      "Processing...:  14%|█▎        | 49/361 [06:21<38:12,  7.35s/it]\n",
      "Embedding extraction: 0it [00:00, ?it/s]\n",
      "Embedding extraction: 1it [00:04,  4.65s/it]\n",
      "                                                               \r"
     ]
    },
    {
     "name": "stdout",
     "output_type": "stream",
     "text": [
      "... frame 50: \n"
     ]
    },
    {
     "name": "stderr",
     "output_type": "stream",
     "text": [
      "Processing...:  14%|█▍        | 50/361 [06:29<38:05,  7.35s/it]\n",
      "Embedding extraction: 0it [00:00, ?it/s]\n",
      "Embedding extraction: 1it [00:04,  4.68s/it]\n",
      "                                                               \r"
     ]
    },
    {
     "name": "stdout",
     "output_type": "stream",
     "text": [
      "... frame 51: \n"
     ]
    },
    {
     "name": "stderr",
     "output_type": "stream",
     "text": [
      "Processing...:  14%|█▍        | 51/361 [06:36<37:31,  7.26s/it]\n",
      "Embedding extraction: 0it [00:00, ?it/s]\n",
      "Embedding extraction: 1it [00:04,  4.48s/it]\n",
      "                                                               \r"
     ]
    },
    {
     "name": "stdout",
     "output_type": "stream",
     "text": [
      "... frame 52: \n"
     ]
    },
    {
     "name": "stderr",
     "output_type": "stream",
     "text": [
      "Processing...:  14%|█▍        | 52/361 [06:43<37:21,  7.25s/it]\n",
      "Embedding extraction: 0it [00:00, ?it/s]\n",
      "Embedding extraction: 1it [00:05,  5.37s/it]\n",
      "                                                               \r"
     ]
    },
    {
     "name": "stdout",
     "output_type": "stream",
     "text": [
      "... frame 53: \n"
     ]
    },
    {
     "name": "stderr",
     "output_type": "stream",
     "text": [
      "Processing...:  15%|█▍        | 53/361 [06:51<38:29,  7.50s/it]\n",
      "Embedding extraction: 0it [00:00, ?it/s]\n",
      "Embedding extraction: 1it [00:06,  6.51s/it]\n",
      "                                                               \r"
     ]
    },
    {
     "name": "stdout",
     "output_type": "stream",
     "text": [
      "... frame 54: \n"
     ]
    },
    {
     "name": "stderr",
     "output_type": "stream",
     "text": [
      "Processing...:  15%|█▍        | 54/361 [07:01<42:35,  8.32s/it]\n",
      "Embedding extraction: 0it [00:00, ?it/s]\n",
      "Embedding extraction: 1it [00:05,  5.21s/it]\n",
      "                                                               \r"
     ]
    },
    {
     "name": "stdout",
     "output_type": "stream",
     "text": [
      "... frame 55: \n"
     ]
    },
    {
     "name": "stderr",
     "output_type": "stream",
     "text": [
      "Processing...:  15%|█▌        | 55/361 [07:10<42:20,  8.30s/it]\n",
      "Embedding extraction: 0it [00:00, ?it/s]\n",
      "Embedding extraction: 1it [00:05,  5.23s/it]\n",
      "                                                               \r"
     ]
    },
    {
     "name": "stdout",
     "output_type": "stream",
     "text": [
      "... frame 56: \n"
     ]
    },
    {
     "name": "stderr",
     "output_type": "stream",
     "text": [
      "Processing...:  16%|█▌        | 56/361 [07:18<41:41,  8.20s/it]\n",
      "Embedding extraction: 0it [00:00, ?it/s]\n",
      "Embedding extraction: 1it [00:05,  5.46s/it]\n",
      "                                                               \r"
     ]
    },
    {
     "name": "stdout",
     "output_type": "stream",
     "text": [
      "... frame 57: \n"
     ]
    },
    {
     "name": "stderr",
     "output_type": "stream",
     "text": [
      "Processing...:  16%|█▌        | 57/361 [07:26<41:39,  8.22s/it]\n",
      "Embedding extraction: 0it [00:00, ?it/s]\n",
      "Embedding extraction: 1it [00:05,  5.07s/it]\n",
      "                                                               \r"
     ]
    },
    {
     "name": "stdout",
     "output_type": "stream",
     "text": [
      "... frame 58: \n"
     ]
    },
    {
     "name": "stderr",
     "output_type": "stream",
     "text": [
      "Processing...:  16%|█▌        | 58/361 [07:34<41:01,  8.12s/it]\n",
      "Embedding extraction: 0it [00:00, ?it/s]\n",
      "Embedding extraction: 1it [00:04,  4.39s/it]\n",
      "                                                               \r"
     ]
    },
    {
     "name": "stdout",
     "output_type": "stream",
     "text": [
      "... frame 59: \n"
     ]
    },
    {
     "name": "stderr",
     "output_type": "stream",
     "text": [
      "Processing...:  16%|█▋        | 59/361 [07:41<39:24,  7.83s/it]\n",
      "Embedding extraction: 0it [00:00, ?it/s]\n",
      "Embedding extraction: 1it [00:05,  5.62s/it]\n",
      "                                                               \r"
     ]
    },
    {
     "name": "stdout",
     "output_type": "stream",
     "text": [
      "... frame 60: \n"
     ]
    },
    {
     "name": "stderr",
     "output_type": "stream",
     "text": [
      "Processing...:  17%|█▋        | 60/361 [07:50<40:39,  8.10s/it]\n",
      "Embedding extraction: 0it [00:00, ?it/s]\n",
      "Embedding extraction: 1it [00:04,  4.76s/it]\n",
      "                                                               \r"
     ]
    },
    {
     "name": "stdout",
     "output_type": "stream",
     "text": [
      "... frame 61: \n"
     ]
    },
    {
     "name": "stderr",
     "output_type": "stream",
     "text": [
      "Processing...:  17%|█▋        | 61/361 [07:57<39:31,  7.91s/it]\n",
      "Embedding extraction: 0it [00:00, ?it/s]\n",
      "Embedding extraction: 1it [00:04,  4.44s/it]\n",
      "                                                               \r"
     ]
    },
    {
     "name": "stdout",
     "output_type": "stream",
     "text": [
      "... frame 62: \n"
     ]
    },
    {
     "name": "stderr",
     "output_type": "stream",
     "text": [
      "Processing...:  17%|█▋        | 62/361 [08:04<38:07,  7.65s/it]\n",
      "Embedding extraction: 0it [00:00, ?it/s]\n",
      "Embedding extraction: 1it [00:04,  4.51s/it]\n",
      "                                                               \r"
     ]
    },
    {
     "name": "stdout",
     "output_type": "stream",
     "text": [
      "... frame 63: \n"
     ]
    },
    {
     "name": "stderr",
     "output_type": "stream",
     "text": [
      "Processing...:  17%|█▋        | 63/361 [08:11<37:01,  7.45s/it]\n",
      "Embedding extraction: 0it [00:00, ?it/s]\n",
      "Embedding extraction: 1it [00:06,  6.18s/it]\n",
      "                                                               \r"
     ]
    },
    {
     "name": "stdout",
     "output_type": "stream",
     "text": [
      "... frame 64: \n"
     ]
    },
    {
     "name": "stderr",
     "output_type": "stream",
     "text": [
      "Processing...:  18%|█▊        | 64/361 [08:20<39:33,  7.99s/it]\n",
      "Embedding extraction: 0it [00:00, ?it/s]\n",
      "Embedding extraction: 1it [00:04,  4.78s/it]\n",
      "                                                               \r"
     ]
    },
    {
     "name": "stdout",
     "output_type": "stream",
     "text": [
      "... frame 65: \n"
     ]
    },
    {
     "name": "stderr",
     "output_type": "stream",
     "text": [
      "Processing...:  18%|█▊        | 65/361 [08:28<38:44,  7.85s/it]\n",
      "Embedding extraction: 0it [00:00, ?it/s]\n",
      "Embedding extraction: 1it [00:04,  4.51s/it]\n",
      "                                                               \r"
     ]
    },
    {
     "name": "stdout",
     "output_type": "stream",
     "text": [
      "... frame 66: \n"
     ]
    },
    {
     "name": "stderr",
     "output_type": "stream",
     "text": [
      "Processing...:  18%|█▊        | 66/361 [08:35<37:30,  7.63s/it]\n",
      "Embedding extraction: 0it [00:00, ?it/s]\n",
      "Embedding extraction: 1it [00:04,  4.73s/it]\n",
      "                                                               \r"
     ]
    },
    {
     "name": "stdout",
     "output_type": "stream",
     "text": [
      "... frame 67: \n"
     ]
    },
    {
     "name": "stderr",
     "output_type": "stream",
     "text": [
      "Processing...:  19%|█▊        | 67/361 [08:42<36:50,  7.52s/it]\n",
      "Embedding extraction: 0it [00:00, ?it/s]\n",
      "Embedding extraction: 1it [00:04,  4.80s/it]\n",
      "                                                               \r"
     ]
    },
    {
     "name": "stdout",
     "output_type": "stream",
     "text": [
      "... frame 68: \n"
     ]
    },
    {
     "name": "stderr",
     "output_type": "stream",
     "text": [
      "Processing...:  19%|█▉        | 68/361 [08:50<36:22,  7.45s/it]\n",
      "Embedding extraction: 0it [00:00, ?it/s]\n",
      "Embedding extraction: 1it [00:04,  4.42s/it]\n",
      "                                                               \r"
     ]
    },
    {
     "name": "stdout",
     "output_type": "stream",
     "text": [
      "... frame 69: \n"
     ]
    },
    {
     "name": "stderr",
     "output_type": "stream",
     "text": [
      "Processing...:  19%|█▉        | 69/361 [08:56<35:10,  7.23s/it]\n",
      "Embedding extraction: 0it [00:00, ?it/s]\n",
      "Embedding extraction: 1it [00:04,  4.72s/it]\n",
      "                                                               \r"
     ]
    },
    {
     "name": "stdout",
     "output_type": "stream",
     "text": [
      "... frame 70: \n"
     ]
    },
    {
     "name": "stderr",
     "output_type": "stream",
     "text": [
      "Processing...:  19%|█▉        | 70/361 [09:03<34:41,  7.15s/it]\n",
      "Embedding extraction: 0it [00:00, ?it/s]\n",
      "Embedding extraction: 1it [00:04,  4.63s/it]\n",
      "                                                               \r"
     ]
    },
    {
     "name": "stdout",
     "output_type": "stream",
     "text": [
      "... frame 71: \n"
     ]
    },
    {
     "name": "stderr",
     "output_type": "stream",
     "text": [
      "Processing...:  20%|█▉        | 71/361 [09:10<34:13,  7.08s/it]\n",
      "Embedding extraction: 0it [00:00, ?it/s]\n",
      "Embedding extraction: 1it [00:04,  4.84s/it]\n",
      "                                                               \r"
     ]
    },
    {
     "name": "stdout",
     "output_type": "stream",
     "text": [
      "... frame 72: \n"
     ]
    },
    {
     "name": "stderr",
     "output_type": "stream",
     "text": [
      "Processing...:  20%|█▉        | 72/361 [09:18<34:36,  7.19s/it]\n",
      "Embedding extraction: 0it [00:00, ?it/s]\n",
      "Embedding extraction: 1it [00:04,  4.94s/it]\n",
      "                                                               \r"
     ]
    },
    {
     "name": "stdout",
     "output_type": "stream",
     "text": [
      "... frame 73: \n"
     ]
    },
    {
     "name": "stderr",
     "output_type": "stream",
     "text": [
      "Processing...:  20%|██        | 73/361 [09:25<34:42,  7.23s/it]\n",
      "Embedding extraction: 0it [00:00, ?it/s]\n",
      "Embedding extraction: 1it [00:04,  4.59s/it]\n",
      "                                                               \r"
     ]
    },
    {
     "name": "stdout",
     "output_type": "stream",
     "text": [
      "... frame 74: \n"
     ]
    },
    {
     "name": "stderr",
     "output_type": "stream",
     "text": [
      "Processing...:  20%|██        | 74/361 [09:32<34:13,  7.16s/it]\n",
      "Embedding extraction: 0it [00:00, ?it/s]\n",
      "Embedding extraction: 1it [00:04,  4.80s/it]\n",
      "                                                               \r"
     ]
    },
    {
     "name": "stdout",
     "output_type": "stream",
     "text": [
      "... frame 75: \n"
     ]
    },
    {
     "name": "stderr",
     "output_type": "stream",
     "text": [
      "Processing...:  21%|██        | 75/361 [09:39<34:00,  7.13s/it]\n",
      "Embedding extraction: 0it [00:00, ?it/s]\n",
      "Embedding extraction: 1it [00:04,  4.89s/it]\n",
      "                                                               \r"
     ]
    },
    {
     "name": "stdout",
     "output_type": "stream",
     "text": [
      "... frame 76: \n"
     ]
    },
    {
     "name": "stderr",
     "output_type": "stream",
     "text": [
      "Processing...:  21%|██        | 76/361 [09:46<34:00,  7.16s/it]\n",
      "Embedding extraction: 0it [00:00, ?it/s]\n",
      "Embedding extraction: 1it [00:04,  4.65s/it]\n",
      "                                                               \r"
     ]
    },
    {
     "name": "stdout",
     "output_type": "stream",
     "text": [
      "... frame 77: \n"
     ]
    },
    {
     "name": "stderr",
     "output_type": "stream",
     "text": [
      "Processing...:  21%|██▏       | 77/361 [09:53<33:38,  7.11s/it]\n",
      "Embedding extraction: 0it [00:00, ?it/s]\n",
      "Embedding extraction: 1it [00:04,  4.38s/it]\n",
      "                                                               \r"
     ]
    },
    {
     "name": "stdout",
     "output_type": "stream",
     "text": [
      "... frame 78: \n"
     ]
    },
    {
     "name": "stderr",
     "output_type": "stream",
     "text": [
      "Processing...:  22%|██▏       | 78/361 [10:00<32:53,  6.97s/it]\n",
      "Embedding extraction: 0it [00:00, ?it/s]\n",
      "Embedding extraction: 1it [00:04,  4.66s/it]\n",
      "                                                               \r"
     ]
    },
    {
     "name": "stdout",
     "output_type": "stream",
     "text": [
      "... frame 79: \n"
     ]
    },
    {
     "name": "stderr",
     "output_type": "stream",
     "text": [
      "Processing...:  22%|██▏       | 79/361 [10:07<32:43,  6.96s/it]\n",
      "Embedding extraction: 0it [00:00, ?it/s]\n",
      "Embedding extraction: 1it [00:04,  4.55s/it]\n",
      "                                                               \r"
     ]
    },
    {
     "name": "stdout",
     "output_type": "stream",
     "text": [
      "... frame 80: \n"
     ]
    },
    {
     "name": "stderr",
     "output_type": "stream",
     "text": [
      "Processing...:  22%|██▏       | 80/361 [10:14<32:31,  6.94s/it]\n",
      "Embedding extraction: 0it [00:00, ?it/s]\n",
      "Embedding extraction: 1it [00:04,  4.41s/it]\n",
      "                                                               \r"
     ]
    },
    {
     "name": "stdout",
     "output_type": "stream",
     "text": [
      "... frame 81: \n"
     ]
    },
    {
     "name": "stderr",
     "output_type": "stream",
     "text": [
      "Processing...:  22%|██▏       | 81/361 [10:20<32:10,  6.89s/it]\n",
      "Embedding extraction: 0it [00:00, ?it/s]\n",
      "Embedding extraction: 1it [00:04,  4.28s/it]\n",
      "                                                               \r"
     ]
    },
    {
     "name": "stdout",
     "output_type": "stream",
     "text": [
      "... frame 82: \n"
     ]
    },
    {
     "name": "stderr",
     "output_type": "stream",
     "text": [
      "Processing...:  23%|██▎       | 82/361 [10:27<31:38,  6.80s/it]\n",
      "Embedding extraction: 0it [00:00, ?it/s]\n",
      "Embedding extraction: 1it [00:04,  4.25s/it]\n",
      "                                                               \r"
     ]
    },
    {
     "name": "stdout",
     "output_type": "stream",
     "text": [
      "... frame 83: \n"
     ]
    },
    {
     "name": "stderr",
     "output_type": "stream",
     "text": [
      "Processing...:  23%|██▎       | 83/361 [10:34<31:23,  6.77s/it]\n",
      "Embedding extraction: 0it [00:00, ?it/s]\n",
      "Embedding extraction: 1it [00:04,  4.41s/it]\n",
      "                                                               \r"
     ]
    },
    {
     "name": "stdout",
     "output_type": "stream",
     "text": [
      "... frame 84: \n"
     ]
    },
    {
     "name": "stderr",
     "output_type": "stream",
     "text": [
      "Processing...:  23%|██▎       | 84/361 [10:41<31:21,  6.79s/it]\n",
      "Embedding extraction: 0it [00:00, ?it/s]\n",
      "Embedding extraction: 1it [00:04,  4.94s/it]\n",
      "                                                               \r"
     ]
    },
    {
     "name": "stdout",
     "output_type": "stream",
     "text": [
      "... frame 85: \n"
     ]
    },
    {
     "name": "stderr",
     "output_type": "stream",
     "text": [
      "Processing...:  24%|██▎       | 85/361 [10:48<32:24,  7.04s/it]\n",
      "Embedding extraction: 0it [00:00, ?it/s]\n",
      "Embedding extraction: 1it [00:04,  4.80s/it]\n",
      "                                                               \r"
     ]
    },
    {
     "name": "stdout",
     "output_type": "stream",
     "text": [
      "... frame 86: \n"
     ]
    },
    {
     "name": "stderr",
     "output_type": "stream",
     "text": [
      "Processing...:  24%|██▍       | 86/361 [10:56<32:37,  7.12s/it]\n",
      "Embedding extraction: 0it [00:00, ?it/s]\n",
      "Embedding extraction: 1it [00:04,  4.22s/it]\n",
      "                                                               \r"
     ]
    },
    {
     "name": "stdout",
     "output_type": "stream",
     "text": [
      "... frame 87: \n"
     ]
    },
    {
     "name": "stderr",
     "output_type": "stream",
     "text": [
      "Processing...:  24%|██▍       | 87/361 [11:02<31:52,  6.98s/it]\n",
      "Embedding extraction: 0it [00:00, ?it/s]\n",
      "Embedding extraction: 1it [00:04,  4.35s/it]\n",
      "                                                               \r"
     ]
    },
    {
     "name": "stdout",
     "output_type": "stream",
     "text": [
      "... frame 88: \n"
     ]
    },
    {
     "name": "stderr",
     "output_type": "stream",
     "text": [
      "Processing...:  24%|██▍       | 88/361 [11:09<31:20,  6.89s/it]\n",
      "Embedding extraction: 0it [00:00, ?it/s]\n",
      "Embedding extraction: 1it [00:04,  4.27s/it]\n",
      "                                                               \r"
     ]
    },
    {
     "name": "stdout",
     "output_type": "stream",
     "text": [
      "... frame 89: \n"
     ]
    },
    {
     "name": "stderr",
     "output_type": "stream",
     "text": [
      "Processing...:  25%|██▍       | 89/361 [11:15<30:46,  6.79s/it]\n",
      "Embedding extraction: 0it [00:00, ?it/s]\n",
      "Embedding extraction: 1it [00:04,  4.30s/it]\n",
      "                                                               \r"
     ]
    },
    {
     "name": "stdout",
     "output_type": "stream",
     "text": [
      "... frame 90: \n"
     ]
    },
    {
     "name": "stderr",
     "output_type": "stream",
     "text": [
      "Processing...:  25%|██▍       | 90/361 [11:22<30:25,  6.74s/it]\n",
      "Embedding extraction: 0it [00:00, ?it/s]\n",
      "Embedding extraction: 1it [00:04,  4.25s/it]\n",
      "                                                               \r"
     ]
    },
    {
     "name": "stdout",
     "output_type": "stream",
     "text": [
      "... frame 91: \n"
     ]
    },
    {
     "name": "stderr",
     "output_type": "stream",
     "text": [
      "Processing...:  25%|██▌       | 91/361 [11:29<30:10,  6.71s/it]\n",
      "Embedding extraction: 0it [00:00, ?it/s]\n",
      "Embedding extraction: 1it [00:04,  4.63s/it]\n",
      "                                                               \r"
     ]
    },
    {
     "name": "stdout",
     "output_type": "stream",
     "text": [
      "... frame 92: \n"
     ]
    },
    {
     "name": "stderr",
     "output_type": "stream",
     "text": [
      "Processing...:  25%|██▌       | 92/361 [11:36<30:22,  6.78s/it]\n",
      "Embedding extraction: 0it [00:00, ?it/s]\n",
      "Embedding extraction: 1it [00:04,  4.11s/it]\n",
      "                                                               \r"
     ]
    },
    {
     "name": "stdout",
     "output_type": "stream",
     "text": [
      "... frame 93: \n"
     ]
    },
    {
     "name": "stderr",
     "output_type": "stream",
     "text": [
      "Processing...:  26%|██▌       | 93/361 [11:42<29:40,  6.64s/it]\n",
      "Embedding extraction: 0it [00:00, ?it/s]\n",
      "Embedding extraction: 1it [00:04,  4.34s/it]\n",
      "                                                               \r"
     ]
    },
    {
     "name": "stdout",
     "output_type": "stream",
     "text": [
      "... frame 94: \n"
     ]
    },
    {
     "name": "stderr",
     "output_type": "stream",
     "text": [
      "Processing...:  26%|██▌       | 94/361 [11:49<29:31,  6.63s/it]\n",
      "Embedding extraction: 0it [00:00, ?it/s]\n",
      "Embedding extraction: 1it [00:04,  4.66s/it]\n",
      "                                                               \r"
     ]
    },
    {
     "name": "stdout",
     "output_type": "stream",
     "text": [
      "... frame 95: \n"
     ]
    },
    {
     "name": "stderr",
     "output_type": "stream",
     "text": [
      "Processing...:  26%|██▋       | 95/361 [11:56<30:13,  6.82s/it]\n",
      "Embedding extraction: 0it [00:00, ?it/s]\n",
      "Embedding extraction: 1it [00:04,  4.89s/it]\n",
      "                                                               \r"
     ]
    },
    {
     "name": "stdout",
     "output_type": "stream",
     "text": [
      "... frame 96: \n"
     ]
    },
    {
     "name": "stderr",
     "output_type": "stream",
     "text": [
      "Processing...:  27%|██▋       | 96/361 [12:03<30:54,  7.00s/it]\n",
      "Embedding extraction: 0it [00:00, ?it/s]\n",
      "Embedding extraction: 1it [00:04,  4.02s/it]\n",
      "                                                               \r"
     ]
    },
    {
     "name": "stdout",
     "output_type": "stream",
     "text": [
      "... frame 97: \n"
     ]
    },
    {
     "name": "stderr",
     "output_type": "stream",
     "text": [
      "Processing...:  27%|██▋       | 97/361 [12:10<29:55,  6.80s/it]\n",
      "Embedding extraction: 0it [00:00, ?it/s]\n",
      "Embedding extraction: 1it [00:04,  4.27s/it]\n",
      "                                                               \r"
     ]
    },
    {
     "name": "stdout",
     "output_type": "stream",
     "text": [
      "... frame 98: \n"
     ]
    },
    {
     "name": "stderr",
     "output_type": "stream",
     "text": [
      "Processing...:  27%|██▋       | 98/361 [12:16<29:42,  6.78s/it]\n",
      "Embedding extraction: 0it [00:00, ?it/s]\n",
      "Embedding extraction: 1it [00:04,  4.38s/it]\n",
      "                                                               \r"
     ]
    },
    {
     "name": "stdout",
     "output_type": "stream",
     "text": [
      "... frame 99: \n"
     ]
    },
    {
     "name": "stderr",
     "output_type": "stream",
     "text": [
      "Processing...:  27%|██▋       | 99/361 [12:23<29:55,  6.85s/it]\n",
      "Embedding extraction: 0it [00:00, ?it/s]\n",
      "Embedding extraction: 1it [00:04,  4.84s/it]\n",
      "                                                                \r"
     ]
    },
    {
     "name": "stdout",
     "output_type": "stream",
     "text": [
      "... frame 100: \n"
     ]
    },
    {
     "name": "stderr",
     "output_type": "stream",
     "text": [
      "Processing...:  28%|██▊       | 100/361 [12:30<30:11,  6.94s/it]\n",
      "Embedding extraction: 0it [00:00, ?it/s]\n",
      "Embedding extraction: 1it [00:05,  5.18s/it]\n",
      "                                                                \r"
     ]
    },
    {
     "name": "stdout",
     "output_type": "stream",
     "text": [
      "... frame 101: \n"
     ]
    },
    {
     "name": "stderr",
     "output_type": "stream",
     "text": [
      "Processing...:  28%|██▊       | 101/361 [12:38<31:08,  7.19s/it]\n",
      "Embedding extraction: 0it [00:00, ?it/s]\n",
      "Embedding extraction: 1it [00:04,  4.80s/it]\n",
      "                                                                \r"
     ]
    },
    {
     "name": "stdout",
     "output_type": "stream",
     "text": [
      "... frame 102: \n"
     ]
    },
    {
     "name": "stderr",
     "output_type": "stream",
     "text": [
      "Processing...:  28%|██▊       | 102/361 [12:45<31:05,  7.20s/it]\n",
      "Embedding extraction: 0it [00:00, ?it/s]\n",
      "Embedding extraction: 1it [00:04,  4.81s/it]\n",
      "                                                                \r"
     ]
    },
    {
     "name": "stdout",
     "output_type": "stream",
     "text": [
      "... frame 103: \n"
     ]
    },
    {
     "name": "stderr",
     "output_type": "stream",
     "text": [
      "Processing...:  29%|██▊       | 103/361 [12:53<30:59,  7.21s/it]\n",
      "Embedding extraction: 0it [00:00, ?it/s]\n",
      "Embedding extraction: 1it [00:04,  4.57s/it]\n",
      "                                                                \r"
     ]
    },
    {
     "name": "stdout",
     "output_type": "stream",
     "text": [
      "... frame 104: \n"
     ]
    },
    {
     "name": "stderr",
     "output_type": "stream",
     "text": [
      "Processing...:  29%|██▉       | 104/361 [13:00<30:35,  7.14s/it]\n",
      "Embedding extraction: 0it [00:00, ?it/s]\n",
      "Embedding extraction: 1it [00:04,  4.60s/it]\n",
      "                                                                \r"
     ]
    },
    {
     "name": "stdout",
     "output_type": "stream",
     "text": [
      "... frame 105: \n"
     ]
    },
    {
     "name": "stderr",
     "output_type": "stream",
     "text": [
      "Processing...:  29%|██▉       | 105/361 [13:07<30:09,  7.07s/it]\n",
      "Embedding extraction: 0it [00:00, ?it/s]\n",
      "Embedding extraction: 1it [00:04,  4.93s/it]\n",
      "                                                                \r"
     ]
    },
    {
     "name": "stdout",
     "output_type": "stream",
     "text": [
      "... frame 106: \n"
     ]
    },
    {
     "name": "stderr",
     "output_type": "stream",
     "text": [
      "Processing...:  29%|██▉       | 106/361 [13:14<30:35,  7.20s/it]\n",
      "Embedding extraction: 0it [00:00, ?it/s]\n",
      "Embedding extraction: 1it [00:04,  4.71s/it]\n",
      "                                                                \r"
     ]
    },
    {
     "name": "stdout",
     "output_type": "stream",
     "text": [
      "... frame 107: \n"
     ]
    },
    {
     "name": "stderr",
     "output_type": "stream",
     "text": [
      "Processing...:  30%|██▉       | 107/361 [13:21<30:14,  7.15s/it]\n",
      "Embedding extraction: 0it [00:00, ?it/s]\n",
      "Embedding extraction: 1it [00:04,  4.50s/it]\n",
      "                                                                \r"
     ]
    },
    {
     "name": "stdout",
     "output_type": "stream",
     "text": [
      "... frame 108: \n"
     ]
    },
    {
     "name": "stderr",
     "output_type": "stream",
     "text": [
      "Processing...:  30%|██▉       | 108/361 [13:28<29:43,  7.05s/it]\n",
      "Embedding extraction: 0it [00:00, ?it/s]\n",
      "Embedding extraction: 1it [00:04,  4.35s/it]\n",
      "                                                                \r"
     ]
    },
    {
     "name": "stdout",
     "output_type": "stream",
     "text": [
      "... frame 109: \n"
     ]
    },
    {
     "name": "stderr",
     "output_type": "stream",
     "text": [
      "Processing...:  30%|███       | 109/361 [13:35<29:09,  6.94s/it]\n",
      "Embedding extraction: 0it [00:00, ?it/s]\n",
      "Embedding extraction: 1it [00:04,  4.20s/it]\n",
      "                                                                \r"
     ]
    },
    {
     "name": "stdout",
     "output_type": "stream",
     "text": [
      "... frame 110: \n"
     ]
    },
    {
     "name": "stderr",
     "output_type": "stream",
     "text": [
      "Processing...:  30%|███       | 110/361 [13:41<28:43,  6.87s/it]\n",
      "Embedding extraction: 0it [00:00, ?it/s]\n",
      "Embedding extraction: 1it [00:04,  4.30s/it]\n",
      "                                                                \r"
     ]
    },
    {
     "name": "stdout",
     "output_type": "stream",
     "text": [
      "... frame 111: \n"
     ]
    },
    {
     "name": "stderr",
     "output_type": "stream",
     "text": [
      "Processing...:  31%|███       | 111/361 [13:48<28:11,  6.77s/it]\n",
      "Embedding extraction: 0it [00:00, ?it/s]\n",
      "Embedding extraction: 1it [00:04,  4.94s/it]\n",
      "                                                                \r"
     ]
    },
    {
     "name": "stdout",
     "output_type": "stream",
     "text": [
      "... frame 112: \n"
     ]
    },
    {
     "name": "stderr",
     "output_type": "stream",
     "text": [
      "Processing...:  31%|███       | 112/361 [13:55<28:41,  6.91s/it]\n",
      "Embedding extraction: 0it [00:00, ?it/s]\n",
      "Embedding extraction: 1it [00:04,  4.54s/it]\n",
      "                                                                \r"
     ]
    },
    {
     "name": "stdout",
     "output_type": "stream",
     "text": [
      "... frame 113: \n"
     ]
    },
    {
     "name": "stderr",
     "output_type": "stream",
     "text": [
      "Processing...:  31%|███▏      | 113/361 [14:02<28:33,  6.91s/it]\n",
      "Embedding extraction: 0it [00:00, ?it/s]\n",
      "Embedding extraction: 1it [00:04,  4.45s/it]\n",
      "                                                                \r"
     ]
    },
    {
     "name": "stdout",
     "output_type": "stream",
     "text": [
      "... frame 114: \n"
     ]
    },
    {
     "name": "stderr",
     "output_type": "stream",
     "text": [
      "Processing...:  32%|███▏      | 114/361 [14:09<28:12,  6.85s/it]\n",
      "Embedding extraction: 0it [00:00, ?it/s]\n",
      "Embedding extraction: 1it [00:04,  4.79s/it]\n",
      "                                                                \r"
     ]
    },
    {
     "name": "stdout",
     "output_type": "stream",
     "text": [
      "... frame 115: \n"
     ]
    },
    {
     "name": "stderr",
     "output_type": "stream",
     "text": [
      "Processing...:  32%|███▏      | 115/361 [14:16<28:45,  7.01s/it]\n",
      "Embedding extraction: 0it [00:00, ?it/s]\n",
      "Embedding extraction: 1it [00:04,  4.89s/it]\n",
      "                                                                \r"
     ]
    },
    {
     "name": "stdout",
     "output_type": "stream",
     "text": [
      "... frame 116: \n"
     ]
    },
    {
     "name": "stderr",
     "output_type": "stream",
     "text": [
      "Processing...:  32%|███▏      | 116/361 [14:24<29:20,  7.19s/it]\n",
      "Embedding extraction: 0it [00:00, ?it/s]\n",
      "Embedding extraction: 1it [00:04,  4.71s/it]\n",
      "                                                                \r"
     ]
    },
    {
     "name": "stdout",
     "output_type": "stream",
     "text": [
      "... frame 117: \n"
     ]
    },
    {
     "name": "stderr",
     "output_type": "stream",
     "text": [
      "Processing...:  32%|███▏      | 117/361 [14:31<29:10,  7.17s/it]\n",
      "Embedding extraction: 0it [00:00, ?it/s]\n",
      "Embedding extraction: 1it [00:04,  4.31s/it]\n",
      "                                                                \r"
     ]
    },
    {
     "name": "stdout",
     "output_type": "stream",
     "text": [
      "... frame 118: \n"
     ]
    },
    {
     "name": "stderr",
     "output_type": "stream",
     "text": [
      "Processing...:  33%|███▎      | 118/361 [14:38<28:31,  7.04s/it]\n",
      "Embedding extraction: 0it [00:00, ?it/s]\n",
      "Embedding extraction: 1it [00:04,  4.26s/it]\n",
      "                                                                \r"
     ]
    },
    {
     "name": "stdout",
     "output_type": "stream",
     "text": [
      "... frame 119: \n"
     ]
    },
    {
     "name": "stderr",
     "output_type": "stream",
     "text": [
      "Processing...:  33%|███▎      | 119/361 [14:44<28:09,  6.98s/it]\n",
      "Embedding extraction: 0it [00:00, ?it/s]\n",
      "Embedding extraction: 1it [00:04,  4.45s/it]\n",
      "                                                                \r"
     ]
    },
    {
     "name": "stdout",
     "output_type": "stream",
     "text": [
      "... frame 120: \n"
     ]
    },
    {
     "name": "stderr",
     "output_type": "stream",
     "text": [
      "Processing...:  33%|███▎      | 120/361 [14:51<27:54,  6.95s/it]\n",
      "Embedding extraction: 0it [00:00, ?it/s]\n",
      "Embedding extraction: 1it [00:05,  5.05s/it]\n",
      "                                                                \r"
     ]
    },
    {
     "name": "stdout",
     "output_type": "stream",
     "text": [
      "... frame 121: \n"
     ]
    },
    {
     "name": "stderr",
     "output_type": "stream",
     "text": [
      "Processing...:  34%|███▎      | 121/361 [14:59<28:31,  7.13s/it]\n",
      "Embedding extraction: 0it [00:00, ?it/s]\n",
      "Embedding extraction: 1it [00:04,  4.98s/it]\n",
      "                                                                \r"
     ]
    },
    {
     "name": "stdout",
     "output_type": "stream",
     "text": [
      "... frame 122: \n"
     ]
    },
    {
     "name": "stderr",
     "output_type": "stream",
     "text": [
      "Processing...:  34%|███▍      | 122/361 [15:06<28:56,  7.27s/it]\n",
      "Embedding extraction: 0it [00:00, ?it/s]\n",
      "Embedding extraction: 1it [00:04,  4.80s/it]\n",
      "                                                                \r"
     ]
    },
    {
     "name": "stdout",
     "output_type": "stream",
     "text": [
      "... frame 123: \n"
     ]
    },
    {
     "name": "stderr",
     "output_type": "stream",
     "text": [
      "Processing...:  34%|███▍      | 123/361 [15:14<28:46,  7.25s/it]\n",
      "Embedding extraction: 0it [00:00, ?it/s]\n",
      "Embedding extraction: 1it [00:04,  4.98s/it]\n",
      "                                                                \r"
     ]
    },
    {
     "name": "stdout",
     "output_type": "stream",
     "text": [
      "... frame 124: \n"
     ]
    },
    {
     "name": "stderr",
     "output_type": "stream",
     "text": [
      "Processing...:  34%|███▍      | 124/361 [15:21<28:55,  7.32s/it]\n",
      "Embedding extraction: 0it [00:00, ?it/s]\n",
      "Embedding extraction: 1it [00:05,  5.27s/it]\n",
      "                                                                \r"
     ]
    },
    {
     "name": "stdout",
     "output_type": "stream",
     "text": [
      "... frame 125: \n"
     ]
    },
    {
     "name": "stderr",
     "output_type": "stream",
     "text": [
      "Processing...:  35%|███▍      | 125/361 [15:29<29:17,  7.45s/it]\n",
      "Embedding extraction: 0it [00:00, ?it/s]\n",
      "Embedding extraction: 1it [00:05,  5.23s/it]\n",
      "                                                                \r"
     ]
    },
    {
     "name": "stdout",
     "output_type": "stream",
     "text": [
      "... frame 126: \n"
     ]
    },
    {
     "name": "stderr",
     "output_type": "stream",
     "text": [
      "Processing...:  35%|███▍      | 126/361 [15:37<29:35,  7.56s/it]\n",
      "Embedding extraction: 0it [00:00, ?it/s]\n",
      "Embedding extraction: 1it [00:05,  5.44s/it]\n",
      "                                                                \r"
     ]
    },
    {
     "name": "stdout",
     "output_type": "stream",
     "text": [
      "... frame 127: \n"
     ]
    },
    {
     "name": "stderr",
     "output_type": "stream",
     "text": [
      "Processing...:  35%|███▌      | 127/361 [15:45<30:09,  7.73s/it]\n",
      "Embedding extraction: 0it [00:00, ?it/s]\n",
      "Embedding extraction: 1it [00:05,  5.34s/it]\n",
      "                                                                \r"
     ]
    },
    {
     "name": "stdout",
     "output_type": "stream",
     "text": [
      "... frame 128: \n"
     ]
    },
    {
     "name": "stderr",
     "output_type": "stream",
     "text": [
      "Processing...:  35%|███▌      | 128/361 [15:53<30:06,  7.75s/it]\n",
      "Embedding extraction: 0it [00:00, ?it/s]\n",
      "Embedding extraction: 1it [00:05,  5.75s/it]\n",
      "                                                                \r"
     ]
    },
    {
     "name": "stdout",
     "output_type": "stream",
     "text": [
      "... frame 129: \n"
     ]
    },
    {
     "name": "stderr",
     "output_type": "stream",
     "text": [
      "Processing...:  36%|███▌      | 129/361 [16:01<30:49,  7.97s/it]\n",
      "Embedding extraction: 0it [00:00, ?it/s]\n",
      "Embedding extraction: 1it [00:05,  5.26s/it]\n",
      "                                                                \r"
     ]
    },
    {
     "name": "stdout",
     "output_type": "stream",
     "text": [
      "... frame 130: \n"
     ]
    },
    {
     "name": "stderr",
     "output_type": "stream",
     "text": [
      "Processing...:  36%|███▌      | 130/361 [16:09<30:27,  7.91s/it]\n",
      "Embedding extraction: 0it [00:00, ?it/s]\n",
      "Embedding extraction: 1it [00:05,  5.30s/it]\n",
      "                                                                \r"
     ]
    },
    {
     "name": "stdout",
     "output_type": "stream",
     "text": [
      "... frame 131: \n"
     ]
    },
    {
     "name": "stderr",
     "output_type": "stream",
     "text": [
      "Processing...:  36%|███▋      | 131/361 [16:17<30:11,  7.88s/it]\n",
      "Embedding extraction: 0it [00:00, ?it/s]\n",
      "Embedding extraction: 1it [00:05,  5.06s/it]\n",
      "                                                                \r"
     ]
    },
    {
     "name": "stdout",
     "output_type": "stream",
     "text": [
      "... frame 132: \n"
     ]
    },
    {
     "name": "stderr",
     "output_type": "stream",
     "text": [
      "Processing...:  37%|███▋      | 132/361 [16:24<29:35,  7.75s/it]\n",
      "Embedding extraction: 0it [00:00, ?it/s]\n",
      "Embedding extraction: 1it [00:05,  5.63s/it]\n",
      "                                                                \r"
     ]
    },
    {
     "name": "stdout",
     "output_type": "stream",
     "text": [
      "... frame 133: \n"
     ]
    },
    {
     "name": "stderr",
     "output_type": "stream",
     "text": [
      "Processing...:  37%|███▋      | 133/361 [16:32<29:48,  7.84s/it]\n",
      "Embedding extraction: 0it [00:00, ?it/s]\n",
      "Embedding extraction: 1it [00:05,  5.22s/it]\n",
      "                                                                \r"
     ]
    },
    {
     "name": "stdout",
     "output_type": "stream",
     "text": [
      "... frame 134: \n"
     ]
    },
    {
     "name": "stderr",
     "output_type": "stream",
     "text": [
      "Processing...:  37%|███▋      | 134/361 [16:40<29:28,  7.79s/it]\n",
      "Embedding extraction: 0it [00:00, ?it/s]\n",
      "Embedding extraction: 1it [00:05,  5.47s/it]\n",
      "                                                                \r"
     ]
    },
    {
     "name": "stdout",
     "output_type": "stream",
     "text": [
      "... frame 135: \n"
     ]
    },
    {
     "name": "stderr",
     "output_type": "stream",
     "text": [
      "Processing...:  37%|███▋      | 135/361 [16:48<29:32,  7.84s/it]\n",
      "Embedding extraction: 0it [00:00, ?it/s]\n",
      "Embedding extraction: 1it [00:05,  5.88s/it]\n",
      "                                                                \r"
     ]
    },
    {
     "name": "stdout",
     "output_type": "stream",
     "text": [
      "... frame 136: \n"
     ]
    },
    {
     "name": "stderr",
     "output_type": "stream",
     "text": [
      "Processing...:  38%|███▊      | 136/361 [16:56<30:03,  8.01s/it]\n",
      "Embedding extraction: 0it [00:00, ?it/s]\n",
      "Embedding extraction: 1it [00:05,  5.13s/it]\n",
      "                                                                \r"
     ]
    },
    {
     "name": "stdout",
     "output_type": "stream",
     "text": [
      "... frame 137: \n"
     ]
    },
    {
     "name": "stderr",
     "output_type": "stream",
     "text": [
      "Processing...:  38%|███▊      | 137/361 [17:04<29:39,  7.94s/it]\n",
      "Embedding extraction: 0it [00:00, ?it/s]\n",
      "Embedding extraction: 1it [00:05,  5.01s/it]\n",
      "                                                                \r"
     ]
    },
    {
     "name": "stdout",
     "output_type": "stream",
     "text": [
      "... frame 138: \n"
     ]
    },
    {
     "name": "stderr",
     "output_type": "stream",
     "text": [
      "Processing...:  38%|███▊      | 138/361 [17:11<28:58,  7.79s/it]\n",
      "Embedding extraction: 0it [00:00, ?it/s]\n",
      "Embedding extraction: 1it [00:04,  4.93s/it]\n",
      "                                                                \r"
     ]
    },
    {
     "name": "stdout",
     "output_type": "stream",
     "text": [
      "... frame 139: \n"
     ]
    },
    {
     "name": "stderr",
     "output_type": "stream",
     "text": [
      "Processing...:  39%|███▊      | 139/361 [17:19<28:27,  7.69s/it]\n",
      "Embedding extraction: 0it [00:00, ?it/s]\n",
      "Embedding extraction: 1it [00:05,  5.13s/it]\n",
      "                                                                \r"
     ]
    },
    {
     "name": "stdout",
     "output_type": "stream",
     "text": [
      "... frame 140: \n"
     ]
    },
    {
     "name": "stderr",
     "output_type": "stream",
     "text": [
      "Processing...:  39%|███▉      | 140/361 [17:26<28:09,  7.65s/it]\n",
      "Embedding extraction: 0it [00:00, ?it/s]\n",
      "Embedding extraction: 1it [00:05,  5.25s/it]\n",
      "                                                                \r"
     ]
    },
    {
     "name": "stdout",
     "output_type": "stream",
     "text": [
      "... frame 141: \n"
     ]
    },
    {
     "name": "stderr",
     "output_type": "stream",
     "text": [
      "Processing...:  39%|███▉      | 141/361 [17:34<28:05,  7.66s/it]\n",
      "Embedding extraction: 0it [00:00, ?it/s]\n",
      "Embedding extraction: 1it [00:04,  4.94s/it]\n",
      "                                                                \r"
     ]
    },
    {
     "name": "stdout",
     "output_type": "stream",
     "text": [
      "... frame 142: \n"
     ]
    },
    {
     "name": "stderr",
     "output_type": "stream",
     "text": [
      "Processing...:  39%|███▉      | 142/361 [17:42<27:41,  7.59s/it]\n",
      "Embedding extraction: 0it [00:00, ?it/s]\n",
      "Embedding extraction: 1it [00:04,  4.81s/it]\n",
      "                                                                \r"
     ]
    },
    {
     "name": "stdout",
     "output_type": "stream",
     "text": [
      "... frame 143: \n"
     ]
    },
    {
     "name": "stderr",
     "output_type": "stream",
     "text": [
      "Processing...:  40%|███▉      | 143/361 [17:49<27:07,  7.47s/it]\n",
      "Embedding extraction: 0it [00:00, ?it/s]\n",
      "Embedding extraction: 1it [00:05,  5.09s/it]\n",
      "                                                                \r"
     ]
    },
    {
     "name": "stdout",
     "output_type": "stream",
     "text": [
      "... frame 144: \n"
     ]
    },
    {
     "name": "stderr",
     "output_type": "stream",
     "text": [
      "Processing...:  40%|███▉      | 144/361 [17:56<26:57,  7.45s/it]\n",
      "Embedding extraction: 0it [00:00, ?it/s]\n",
      "Embedding extraction: 1it [00:04,  4.79s/it]\n",
      "                                                                \r"
     ]
    },
    {
     "name": "stdout",
     "output_type": "stream",
     "text": [
      "... frame 145: \n"
     ]
    },
    {
     "name": "stderr",
     "output_type": "stream",
     "text": [
      "Processing...:  40%|████      | 145/361 [18:03<26:37,  7.40s/it]\n",
      "Embedding extraction: 0it [00:00, ?it/s]\n",
      "Embedding extraction: 1it [00:04,  4.62s/it]\n",
      "                                                                \r"
     ]
    },
    {
     "name": "stdout",
     "output_type": "stream",
     "text": [
      "... frame 146: \n"
     ]
    },
    {
     "name": "stderr",
     "output_type": "stream",
     "text": [
      "Processing...:  40%|████      | 146/361 [18:10<25:57,  7.24s/it]\n",
      "Embedding extraction: 0it [00:00, ?it/s]\n",
      "Embedding extraction: 1it [00:05,  5.22s/it]\n",
      "                                                                \r"
     ]
    },
    {
     "name": "stdout",
     "output_type": "stream",
     "text": [
      "... frame 147: \n"
     ]
    },
    {
     "name": "stderr",
     "output_type": "stream",
     "text": [
      "Processing...:  41%|████      | 147/361 [18:18<26:10,  7.34s/it]\n",
      "Embedding extraction: 0it [00:00, ?it/s]\n",
      "Embedding extraction: 1it [00:05,  5.06s/it]\n",
      "                                                                \r"
     ]
    },
    {
     "name": "stdout",
     "output_type": "stream",
     "text": [
      "... frame 148: \n"
     ]
    },
    {
     "name": "stderr",
     "output_type": "stream",
     "text": [
      "Processing...:  41%|████      | 148/361 [18:25<26:12,  7.38s/it]\n",
      "Embedding extraction: 0it [00:00, ?it/s]\n",
      "Embedding extraction: 1it [00:04,  4.94s/it]\n",
      "                                                                \r"
     ]
    },
    {
     "name": "stdout",
     "output_type": "stream",
     "text": [
      "... frame 149: \n"
     ]
    },
    {
     "name": "stderr",
     "output_type": "stream",
     "text": [
      "Processing...:  41%|████▏     | 149/361 [18:33<26:03,  7.37s/it]\n",
      "Embedding extraction: 0it [00:00, ?it/s]\n",
      "Embedding extraction: 1it [00:04,  4.78s/it]\n",
      "                                                                \r"
     ]
    },
    {
     "name": "stdout",
     "output_type": "stream",
     "text": [
      "... frame 150: \n"
     ]
    },
    {
     "name": "stderr",
     "output_type": "stream",
     "text": [
      "Processing...:  42%|████▏     | 150/361 [18:40<25:58,  7.39s/it]\n",
      "Embedding extraction: 0it [00:00, ?it/s]\n",
      "Embedding extraction: 1it [00:05,  5.32s/it]\n",
      "                                                                \r"
     ]
    },
    {
     "name": "stdout",
     "output_type": "stream",
     "text": [
      "... frame 151: \n"
     ]
    },
    {
     "name": "stderr",
     "output_type": "stream",
     "text": [
      "Processing...:  42%|████▏     | 151/361 [18:48<26:16,  7.51s/it]\n",
      "Embedding extraction: 0it [00:00, ?it/s]\n",
      "Embedding extraction: 1it [00:04,  4.80s/it]\n",
      "                                                                \r"
     ]
    },
    {
     "name": "stdout",
     "output_type": "stream",
     "text": [
      "... frame 152: \n"
     ]
    },
    {
     "name": "stderr",
     "output_type": "stream",
     "text": [
      "Processing...:  42%|████▏     | 152/361 [18:55<26:04,  7.48s/it]\n",
      "Embedding extraction: 0it [00:00, ?it/s]\n",
      "Embedding extraction: 1it [00:04,  4.58s/it]\n",
      "                                                                \r"
     ]
    },
    {
     "name": "stdout",
     "output_type": "stream",
     "text": [
      "... frame 153: \n"
     ]
    },
    {
     "name": "stderr",
     "output_type": "stream",
     "text": [
      "Processing...:  42%|████▏     | 153/361 [19:02<25:19,  7.30s/it]\n",
      "Embedding extraction: 0it [00:00, ?it/s]\n",
      "Embedding extraction: 1it [00:04,  4.60s/it]\n",
      "                                                                \r"
     ]
    },
    {
     "name": "stdout",
     "output_type": "stream",
     "text": [
      "... frame 154: \n"
     ]
    },
    {
     "name": "stderr",
     "output_type": "stream",
     "text": [
      "Processing...:  43%|████▎     | 154/361 [19:09<24:50,  7.20s/it]\n",
      "Embedding extraction: 0it [00:00, ?it/s]\n",
      "Embedding extraction: 1it [00:04,  4.49s/it]\n",
      "                                                                \r"
     ]
    },
    {
     "name": "stdout",
     "output_type": "stream",
     "text": [
      "... frame 155: \n"
     ]
    },
    {
     "name": "stderr",
     "output_type": "stream",
     "text": [
      "Processing...:  43%|████▎     | 155/361 [19:16<24:20,  7.09s/it]\n",
      "Embedding extraction: 0it [00:00, ?it/s]\n",
      "Embedding extraction: 1it [00:04,  4.66s/it]\n",
      "                                                                \r"
     ]
    },
    {
     "name": "stdout",
     "output_type": "stream",
     "text": [
      "... frame 156: \n"
     ]
    },
    {
     "name": "stderr",
     "output_type": "stream",
     "text": [
      "Processing...:  43%|████▎     | 156/361 [19:23<24:05,  7.05s/it]\n",
      "Embedding extraction: 0it [00:00, ?it/s]\n",
      "Embedding extraction: 1it [00:04,  4.47s/it]\n",
      "                                                                \r"
     ]
    },
    {
     "name": "stdout",
     "output_type": "stream",
     "text": [
      "... frame 157: \n"
     ]
    },
    {
     "name": "stderr",
     "output_type": "stream",
     "text": [
      "Processing...:  43%|████▎     | 157/361 [19:30<23:38,  6.95s/it]\n",
      "Embedding extraction: 0it [00:00, ?it/s]\n",
      "Embedding extraction: 1it [00:04,  4.82s/it]\n",
      "                                                                \r"
     ]
    },
    {
     "name": "stdout",
     "output_type": "stream",
     "text": [
      "... frame 158: \n"
     ]
    },
    {
     "name": "stderr",
     "output_type": "stream",
     "text": [
      "Processing...:  44%|████▍     | 158/361 [19:37<23:41,  7.00s/it]\n",
      "Embedding extraction: 0it [00:00, ?it/s]\n",
      "Embedding extraction: 1it [00:04,  4.51s/it]\n",
      "                                                                \r"
     ]
    },
    {
     "name": "stdout",
     "output_type": "stream",
     "text": [
      "... frame 159: \n"
     ]
    },
    {
     "name": "stderr",
     "output_type": "stream",
     "text": [
      "Processing...:  44%|████▍     | 159/361 [19:44<23:39,  7.03s/it]\n",
      "Embedding extraction: 0it [00:00, ?it/s]\n",
      "Embedding extraction: 1it [00:04,  4.33s/it]\n",
      "                                                                \r"
     ]
    },
    {
     "name": "stdout",
     "output_type": "stream",
     "text": [
      "... frame 160: \n"
     ]
    },
    {
     "name": "stderr",
     "output_type": "stream",
     "text": [
      "Processing...:  44%|████▍     | 160/361 [19:51<23:09,  6.91s/it]\n",
      "Embedding extraction: 0it [00:00, ?it/s]\n",
      "Embedding extraction: 1it [00:04,  4.30s/it]\n",
      "                                                                \r"
     ]
    },
    {
     "name": "stdout",
     "output_type": "stream",
     "text": [
      "... frame 161: \n"
     ]
    },
    {
     "name": "stderr",
     "output_type": "stream",
     "text": [
      "Processing...:  45%|████▍     | 161/361 [19:57<22:41,  6.81s/it]\n",
      "Embedding extraction: 0it [00:00, ?it/s]\n",
      "Embedding extraction: 1it [00:04,  4.22s/it]\n",
      "                                                                \r"
     ]
    },
    {
     "name": "stdout",
     "output_type": "stream",
     "text": [
      "... frame 162: \n"
     ]
    },
    {
     "name": "stderr",
     "output_type": "stream",
     "text": [
      "Processing...:  45%|████▍     | 162/361 [20:04<22:25,  6.76s/it]\n",
      "Embedding extraction: 0it [00:00, ?it/s]\n",
      "Embedding extraction: 1it [00:04,  4.16s/it]\n",
      "                                                                \r"
     ]
    },
    {
     "name": "stdout",
     "output_type": "stream",
     "text": [
      "... frame 163: \n"
     ]
    },
    {
     "name": "stderr",
     "output_type": "stream",
     "text": [
      "Processing...:  45%|████▌     | 163/361 [20:10<22:09,  6.71s/it]\n",
      "Embedding extraction: 0it [00:00, ?it/s]\n",
      "Embedding extraction: 1it [00:04,  4.53s/it]\n",
      "                                                                \r"
     ]
    },
    {
     "name": "stdout",
     "output_type": "stream",
     "text": [
      "... frame 164: \n"
     ]
    },
    {
     "name": "stderr",
     "output_type": "stream",
     "text": [
      "Processing...:  45%|████▌     | 164/361 [20:17<22:18,  6.80s/it]\n",
      "Embedding extraction: 0it [00:00, ?it/s]\n",
      "Embedding extraction: 1it [00:04,  4.62s/it]\n",
      "                                                                \r"
     ]
    },
    {
     "name": "stdout",
     "output_type": "stream",
     "text": [
      "... frame 165: \n"
     ]
    },
    {
     "name": "stderr",
     "output_type": "stream",
     "text": [
      "Processing...:  46%|████▌     | 165/361 [20:24<22:23,  6.86s/it]\n",
      "Embedding extraction: 0it [00:00, ?it/s]\n",
      "Embedding extraction: 1it [00:04,  4.39s/it]\n",
      "                                                                \r"
     ]
    },
    {
     "name": "stdout",
     "output_type": "stream",
     "text": [
      "... frame 166: \n"
     ]
    },
    {
     "name": "stderr",
     "output_type": "stream",
     "text": [
      "Processing...:  46%|████▌     | 166/361 [20:31<22:23,  6.89s/it]\n",
      "Embedding extraction: 0it [00:00, ?it/s]\n",
      "Embedding extraction: 1it [00:04,  4.45s/it]\n",
      "                                                                \r"
     ]
    },
    {
     "name": "stdout",
     "output_type": "stream",
     "text": [
      "... frame 167: \n"
     ]
    },
    {
     "name": "stderr",
     "output_type": "stream",
     "text": [
      "Processing...:  46%|████▋     | 167/361 [20:39<22:43,  7.03s/it]\n",
      "Embedding extraction: 0it [00:00, ?it/s]\n",
      "Embedding extraction: 1it [00:05,  5.26s/it]\n",
      "                                                                \r"
     ]
    },
    {
     "name": "stdout",
     "output_type": "stream",
     "text": [
      "... frame 168: \n"
     ]
    },
    {
     "name": "stderr",
     "output_type": "stream",
     "text": [
      "Processing...:  47%|████▋     | 168/361 [20:47<24:15,  7.54s/it]\n",
      "Embedding extraction: 0it [00:00, ?it/s]\n",
      "Embedding extraction: 1it [00:04,  4.99s/it]\n",
      "                                                                \r"
     ]
    },
    {
     "name": "stdout",
     "output_type": "stream",
     "text": [
      "... frame 169: \n"
     ]
    },
    {
     "name": "stderr",
     "output_type": "stream",
     "text": [
      "Processing...:  47%|████▋     | 169/361 [20:55<24:14,  7.58s/it]\n",
      "Embedding extraction: 0it [00:00, ?it/s]\n",
      "Embedding extraction: 1it [00:04,  5.00s/it]\n",
      "                                                                \r"
     ]
    },
    {
     "name": "stdout",
     "output_type": "stream",
     "text": [
      "... frame 170: \n"
     ]
    },
    {
     "name": "stderr",
     "output_type": "stream",
     "text": [
      "Processing...:  47%|████▋     | 170/361 [21:03<24:14,  7.62s/it]\n",
      "Embedding extraction: 0it [00:00, ?it/s]\n",
      "Embedding extraction: 1it [00:04,  4.80s/it]\n",
      "                                                                \r"
     ]
    },
    {
     "name": "stdout",
     "output_type": "stream",
     "text": [
      "... frame 171: \n"
     ]
    },
    {
     "name": "stderr",
     "output_type": "stream",
     "text": [
      "Processing...:  47%|████▋     | 171/361 [21:10<23:55,  7.55s/it]\n",
      "Embedding extraction: 0it [00:00, ?it/s]\n",
      "Embedding extraction: 1it [00:04,  4.38s/it]\n",
      "                                                                \r"
     ]
    },
    {
     "name": "stdout",
     "output_type": "stream",
     "text": [
      "... frame 172: \n"
     ]
    },
    {
     "name": "stderr",
     "output_type": "stream",
     "text": [
      "Processing...:  48%|████▊     | 172/361 [21:17<23:03,  7.32s/it]\n",
      "Embedding extraction: 0it [00:00, ?it/s]\n",
      "Embedding extraction: 1it [00:04,  4.49s/it]\n",
      "                                                                \r"
     ]
    },
    {
     "name": "stdout",
     "output_type": "stream",
     "text": [
      "... frame 173: \n"
     ]
    },
    {
     "name": "stderr",
     "output_type": "stream",
     "text": [
      "Processing...:  48%|████▊     | 173/361 [21:24<22:30,  7.18s/it]\n",
      "Embedding extraction: 0it [00:00, ?it/s]\n",
      "Embedding extraction: 1it [00:04,  4.46s/it]\n",
      "                                                                \r"
     ]
    },
    {
     "name": "stdout",
     "output_type": "stream",
     "text": [
      "... frame 174: \n"
     ]
    },
    {
     "name": "stderr",
     "output_type": "stream",
     "text": [
      "Processing...:  48%|████▊     | 174/361 [21:31<22:05,  7.09s/it]\n",
      "Embedding extraction: 0it [00:00, ?it/s]\n",
      "Embedding extraction: 1it [00:04,  4.59s/it]\n",
      "                                                                \r"
     ]
    },
    {
     "name": "stdout",
     "output_type": "stream",
     "text": [
      "... frame 175: \n"
     ]
    },
    {
     "name": "stderr",
     "output_type": "stream",
     "text": [
      "Processing...:  48%|████▊     | 175/361 [21:38<21:50,  7.05s/it]\n",
      "Embedding extraction: 0it [00:00, ?it/s]\n",
      "Embedding extraction: 1it [00:04,  4.34s/it]\n",
      "                                                                \r"
     ]
    },
    {
     "name": "stdout",
     "output_type": "stream",
     "text": [
      "... frame 176: \n"
     ]
    },
    {
     "name": "stderr",
     "output_type": "stream",
     "text": [
      "Processing...:  49%|████▉     | 176/361 [21:44<21:24,  6.94s/it]\n",
      "Embedding extraction: 0it [00:00, ?it/s]\n",
      "Embedding extraction: 1it [00:04,  4.27s/it]\n",
      "                                                                \r"
     ]
    },
    {
     "name": "stdout",
     "output_type": "stream",
     "text": [
      "... frame 177: \n"
     ]
    },
    {
     "name": "stderr",
     "output_type": "stream",
     "text": [
      "Processing...:  49%|████▉     | 177/361 [21:51<21:13,  6.92s/it]\n",
      "Embedding extraction: 0it [00:00, ?it/s]\n",
      "Embedding extraction: 1it [00:05,  5.20s/it]\n",
      "                                                                \r"
     ]
    },
    {
     "name": "stdout",
     "output_type": "stream",
     "text": [
      "... frame 178: \n"
     ]
    },
    {
     "name": "stderr",
     "output_type": "stream",
     "text": [
      "Processing...:  49%|████▉     | 178/361 [21:59<22:02,  7.23s/it]\n",
      "Embedding extraction: 0it [00:00, ?it/s]\n",
      "Embedding extraction: 1it [00:04,  4.24s/it]\n",
      "                                                                \r"
     ]
    },
    {
     "name": "stdout",
     "output_type": "stream",
     "text": [
      "... frame 179: \n"
     ]
    },
    {
     "name": "stderr",
     "output_type": "stream",
     "text": [
      "Processing...:  50%|████▉     | 179/361 [22:06<21:30,  7.09s/it]\n",
      "Embedding extraction: 0it [00:00, ?it/s]\n",
      "Embedding extraction: 1it [00:04,  4.15s/it]\n",
      "                                                                \r"
     ]
    },
    {
     "name": "stdout",
     "output_type": "stream",
     "text": [
      "... frame 180: \n"
     ]
    },
    {
     "name": "stderr",
     "output_type": "stream",
     "text": [
      "Processing...:  50%|████▉     | 180/361 [22:13<20:57,  6.95s/it]\n",
      "Embedding extraction: 0it [00:00, ?it/s]\n",
      "Embedding extraction: 1it [00:04,  4.41s/it]\n",
      "                                                                \r"
     ]
    },
    {
     "name": "stdout",
     "output_type": "stream",
     "text": [
      "... frame 181: \n"
     ]
    },
    {
     "name": "stderr",
     "output_type": "stream",
     "text": [
      "Processing...:  50%|█████     | 181/361 [22:19<20:47,  6.93s/it]\n",
      "Embedding extraction: 0it [00:00, ?it/s]\n",
      "Embedding extraction: 1it [00:04,  4.25s/it]\n",
      "                                                                \r"
     ]
    },
    {
     "name": "stdout",
     "output_type": "stream",
     "text": [
      "... frame 182: \n"
     ]
    },
    {
     "name": "stderr",
     "output_type": "stream",
     "text": [
      "Processing...:  50%|█████     | 182/361 [22:26<20:27,  6.86s/it]\n",
      "Embedding extraction: 0it [00:00, ?it/s]\n",
      "Embedding extraction: 1it [00:04,  4.44s/it]\n",
      "                                                                \r"
     ]
    },
    {
     "name": "stdout",
     "output_type": "stream",
     "text": [
      "... frame 183: \n"
     ]
    },
    {
     "name": "stderr",
     "output_type": "stream",
     "text": [
      "Processing...:  51%|█████     | 183/361 [22:33<20:31,  6.92s/it]\n",
      "Embedding extraction: 0it [00:00, ?it/s]\n",
      "Embedding extraction: 1it [00:04,  4.75s/it]\n",
      "                                                                \r"
     ]
    },
    {
     "name": "stdout",
     "output_type": "stream",
     "text": [
      "... frame 184: \n"
     ]
    },
    {
     "name": "stderr",
     "output_type": "stream",
     "text": [
      "Processing...:  51%|█████     | 184/361 [22:40<20:40,  7.01s/it]\n",
      "Embedding extraction: 0it [00:00, ?it/s]\n",
      "Embedding extraction: 1it [00:04,  4.68s/it]\n",
      "                                                                \r"
     ]
    },
    {
     "name": "stdout",
     "output_type": "stream",
     "text": [
      "... frame 185: \n"
     ]
    },
    {
     "name": "stderr",
     "output_type": "stream",
     "text": [
      "Processing...:  51%|█████     | 185/361 [22:48<20:48,  7.09s/it]\n",
      "Embedding extraction: 0it [00:00, ?it/s]\n",
      "Embedding extraction: 1it [00:04,  4.48s/it]\n",
      "                                                                \r"
     ]
    },
    {
     "name": "stdout",
     "output_type": "stream",
     "text": [
      "... frame 186: \n"
     ]
    },
    {
     "name": "stderr",
     "output_type": "stream",
     "text": [
      "Processing...:  52%|█████▏    | 186/361 [22:55<20:50,  7.15s/it]\n",
      "Embedding extraction: 0it [00:00, ?it/s]\n",
      "Embedding extraction: 1it [00:04,  4.50s/it]\n",
      "                                                                \r"
     ]
    },
    {
     "name": "stdout",
     "output_type": "stream",
     "text": [
      "... frame 187: \n"
     ]
    },
    {
     "name": "stderr",
     "output_type": "stream",
     "text": [
      "Processing...:  52%|█████▏    | 187/361 [23:02<20:27,  7.06s/it]\n",
      "Embedding extraction: 0it [00:00, ?it/s]\n",
      "Embedding extraction: 1it [00:04,  4.33s/it]\n",
      "                                                                \r"
     ]
    },
    {
     "name": "stdout",
     "output_type": "stream",
     "text": [
      "... frame 188: \n"
     ]
    },
    {
     "name": "stderr",
     "output_type": "stream",
     "text": [
      "Processing...:  52%|█████▏    | 188/361 [23:09<20:05,  6.97s/it]\n",
      "Embedding extraction: 0it [00:00, ?it/s]\n",
      "Embedding extraction: 1it [00:04,  4.61s/it]\n",
      "                                                                \r"
     ]
    },
    {
     "name": "stdout",
     "output_type": "stream",
     "text": [
      "... frame 189: \n"
     ]
    },
    {
     "name": "stderr",
     "output_type": "stream",
     "text": [
      "Processing...:  52%|█████▏    | 189/361 [23:16<20:18,  7.08s/it]\n",
      "Embedding extraction: 0it [00:00, ?it/s]\n",
      "Embedding extraction: 1it [00:04,  4.54s/it]\n",
      "                                                                \r"
     ]
    },
    {
     "name": "stdout",
     "output_type": "stream",
     "text": [
      "... frame 190: \n"
     ]
    },
    {
     "name": "stderr",
     "output_type": "stream",
     "text": [
      "Processing...:  53%|█████▎    | 190/361 [23:23<20:02,  7.03s/it]\n",
      "Embedding extraction: 0it [00:00, ?it/s]\n",
      "Embedding extraction: 1it [00:04,  4.54s/it]\n",
      "                                                                \r"
     ]
    },
    {
     "name": "stdout",
     "output_type": "stream",
     "text": [
      "... frame 191: \n"
     ]
    },
    {
     "name": "stderr",
     "output_type": "stream",
     "text": [
      "Processing...:  53%|█████▎    | 191/361 [23:30<19:51,  7.01s/it]\n",
      "Embedding extraction: 0it [00:00, ?it/s]\n",
      "Embedding extraction: 1it [00:04,  4.54s/it]\n",
      "                                                                \r"
     ]
    },
    {
     "name": "stdout",
     "output_type": "stream",
     "text": [
      "... frame 192: \n"
     ]
    },
    {
     "name": "stderr",
     "output_type": "stream",
     "text": [
      "Processing...:  53%|█████▎    | 192/361 [23:37<19:41,  6.99s/it]\n",
      "Embedding extraction: 0it [00:00, ?it/s]\n",
      "Embedding extraction: 1it [00:05,  5.13s/it]\n",
      "                                                                \r"
     ]
    },
    {
     "name": "stdout",
     "output_type": "stream",
     "text": [
      "... frame 193: \n"
     ]
    },
    {
     "name": "stderr",
     "output_type": "stream",
     "text": [
      "Processing...:  53%|█████▎    | 193/361 [23:45<20:13,  7.22s/it]\n",
      "Embedding extraction: 0it [00:00, ?it/s]\n",
      "Embedding extraction: 1it [00:04,  4.73s/it]\n",
      "                                                                \r"
     ]
    },
    {
     "name": "stdout",
     "output_type": "stream",
     "text": [
      "... frame 194: \n"
     ]
    },
    {
     "name": "stderr",
     "output_type": "stream",
     "text": [
      "Processing...:  54%|█████▎    | 194/361 [23:52<20:02,  7.20s/it]\n",
      "Embedding extraction: 0it [00:00, ?it/s]\n",
      "Embedding extraction: 1it [00:04,  4.43s/it]\n",
      "                                                                \r"
     ]
    },
    {
     "name": "stdout",
     "output_type": "stream",
     "text": [
      "... frame 195: \n"
     ]
    },
    {
     "name": "stderr",
     "output_type": "stream",
     "text": [
      "Processing...:  54%|█████▍    | 195/361 [23:58<19:36,  7.09s/it]\n",
      "Embedding extraction: 0it [00:00, ?it/s]\n",
      "Embedding extraction: 1it [00:04,  4.48s/it]\n",
      "                                                                \r"
     ]
    },
    {
     "name": "stdout",
     "output_type": "stream",
     "text": [
      "... frame 196: \n"
     ]
    },
    {
     "name": "stderr",
     "output_type": "stream",
     "text": [
      "Processing...:  54%|█████▍    | 196/361 [24:05<19:16,  7.01s/it]\n",
      "Embedding extraction: 0it [00:00, ?it/s]\n",
      "Embedding extraction: 1it [00:05,  5.00s/it]\n",
      "                                                                \r"
     ]
    },
    {
     "name": "stdout",
     "output_type": "stream",
     "text": [
      "... frame 197: \n"
     ]
    },
    {
     "name": "stderr",
     "output_type": "stream",
     "text": [
      "Processing...:  55%|█████▍    | 197/361 [24:13<19:34,  7.16s/it]\n",
      "Embedding extraction: 0it [00:00, ?it/s]\n",
      "Embedding extraction: 1it [00:04,  4.88s/it]\n",
      "                                                                \r"
     ]
    },
    {
     "name": "stdout",
     "output_type": "stream",
     "text": [
      "... frame 198: \n"
     ]
    },
    {
     "name": "stderr",
     "output_type": "stream",
     "text": [
      "Processing...:  55%|█████▍    | 198/361 [24:20<19:36,  7.22s/it]\n",
      "Embedding extraction: 0it [00:00, ?it/s]\n",
      "Embedding extraction: 1it [00:04,  4.84s/it]\n",
      "                                                                \r"
     ]
    },
    {
     "name": "stdout",
     "output_type": "stream",
     "text": [
      "... frame 199: \n"
     ]
    },
    {
     "name": "stderr",
     "output_type": "stream",
     "text": [
      "Processing...:  55%|█████▌    | 199/361 [24:27<19:31,  7.23s/it]\n",
      "Embedding extraction: 0it [00:00, ?it/s]\n",
      "Embedding extraction: 1it [00:04,  4.72s/it]\n",
      "                                                                \r"
     ]
    },
    {
     "name": "stdout",
     "output_type": "stream",
     "text": [
      "... frame 200: \n"
     ]
    },
    {
     "name": "stderr",
     "output_type": "stream",
     "text": [
      "Processing...:  55%|█████▌    | 200/361 [24:35<19:31,  7.27s/it]\n",
      "Embedding extraction: 0it [00:00, ?it/s]\n",
      "Embedding extraction: 1it [00:04,  4.74s/it]\n",
      "                                                                \r"
     ]
    },
    {
     "name": "stdout",
     "output_type": "stream",
     "text": [
      "... frame 201: \n"
     ]
    },
    {
     "name": "stderr",
     "output_type": "stream",
     "text": [
      "Processing...:  56%|█████▌    | 201/361 [24:42<19:15,  7.22s/it]\n",
      "Embedding extraction: 0it [00:00, ?it/s]\n",
      "Embedding extraction: 1it [00:05,  5.44s/it]\n",
      "                                                                \r"
     ]
    },
    {
     "name": "stdout",
     "output_type": "stream",
     "text": [
      "... frame 202: \n"
     ]
    },
    {
     "name": "stderr",
     "output_type": "stream",
     "text": [
      "Processing...:  56%|█████▌    | 202/361 [24:50<20:00,  7.55s/it]\n",
      "Embedding extraction: 0it [00:00, ?it/s]\n",
      "Embedding extraction: 1it [00:04,  4.33s/it]\n",
      "                                                                \r"
     ]
    },
    {
     "name": "stdout",
     "output_type": "stream",
     "text": [
      "... frame 203: \n"
     ]
    },
    {
     "name": "stderr",
     "output_type": "stream",
     "text": [
      "Processing...:  56%|█████▌    | 203/361 [24:57<19:29,  7.40s/it]\n",
      "Embedding extraction: 0it [00:00, ?it/s]\n",
      "Embedding extraction: 1it [00:04,  4.73s/it]\n",
      "                                                                \r"
     ]
    },
    {
     "name": "stdout",
     "output_type": "stream",
     "text": [
      "... frame 204: \n"
     ]
    },
    {
     "name": "stderr",
     "output_type": "stream",
     "text": [
      "Processing...:  57%|█████▋    | 204/361 [25:05<19:15,  7.36s/it]\n",
      "Embedding extraction: 0it [00:00, ?it/s]\n",
      "Embedding extraction: 1it [00:04,  4.43s/it]\n",
      "                                                                \r"
     ]
    },
    {
     "name": "stdout",
     "output_type": "stream",
     "text": [
      "... frame 205: \n"
     ]
    },
    {
     "name": "stderr",
     "output_type": "stream",
     "text": [
      "Processing...:  57%|█████▋    | 205/361 [25:11<18:39,  7.18s/it]\n",
      "Embedding extraction: 0it [00:00, ?it/s]\n",
      "Embedding extraction: 1it [00:04,  4.39s/it]\n",
      "                                                                \r"
     ]
    },
    {
     "name": "stdout",
     "output_type": "stream",
     "text": [
      "... frame 206: \n"
     ]
    },
    {
     "name": "stderr",
     "output_type": "stream",
     "text": [
      "Processing...:  57%|█████▋    | 206/361 [25:18<18:18,  7.09s/it]\n",
      "Embedding extraction: 0it [00:00, ?it/s]\n",
      "Embedding extraction: 1it [00:04,  4.19s/it]\n",
      "                                                                \r"
     ]
    },
    {
     "name": "stdout",
     "output_type": "stream",
     "text": [
      "... frame 207: \n"
     ]
    },
    {
     "name": "stderr",
     "output_type": "stream",
     "text": [
      "Processing...:  57%|█████▋    | 207/361 [25:25<17:46,  6.92s/it]\n",
      "Embedding extraction: 0it [00:00, ?it/s]\n",
      "Embedding extraction: 1it [00:04,  4.04s/it]\n",
      "                                                                \r"
     ]
    },
    {
     "name": "stdout",
     "output_type": "stream",
     "text": [
      "... frame 208: \n"
     ]
    },
    {
     "name": "stderr",
     "output_type": "stream",
     "text": [
      "Processing...:  58%|█████▊    | 208/361 [25:31<17:12,  6.75s/it]\n",
      "Embedding extraction: 0it [00:00, ?it/s]\n",
      "Embedding extraction: 1it [00:04,  4.03s/it]\n",
      "                                                                \r"
     ]
    },
    {
     "name": "stdout",
     "output_type": "stream",
     "text": [
      "... frame 209: \n"
     ]
    },
    {
     "name": "stderr",
     "output_type": "stream",
     "text": [
      "Processing...:  58%|█████▊    | 209/361 [25:37<16:46,  6.62s/it]\n",
      "Embedding extraction: 0it [00:00, ?it/s]\n",
      "Embedding extraction: 1it [00:04,  4.12s/it]\n",
      "                                                                \r"
     ]
    },
    {
     "name": "stdout",
     "output_type": "stream",
     "text": [
      "... frame 210: \n"
     ]
    },
    {
     "name": "stderr",
     "output_type": "stream",
     "text": [
      "Processing...:  58%|█████▊    | 210/361 [25:44<16:47,  6.68s/it]\n",
      "Embedding extraction: 0it [00:00, ?it/s]\n",
      "Embedding extraction: 1it [00:04,  4.46s/it]\n",
      "                                                                \r"
     ]
    },
    {
     "name": "stdout",
     "output_type": "stream",
     "text": [
      "... frame 211: \n"
     ]
    },
    {
     "name": "stderr",
     "output_type": "stream",
     "text": [
      "Processing...:  58%|█████▊    | 211/361 [25:51<17:01,  6.81s/it]\n",
      "Embedding extraction: 0it [00:00, ?it/s]\n",
      "Embedding extraction: 1it [00:04,  4.95s/it]\n",
      "                                                                \r"
     ]
    },
    {
     "name": "stdout",
     "output_type": "stream",
     "text": [
      "... frame 212: \n"
     ]
    },
    {
     "name": "stderr",
     "output_type": "stream",
     "text": [
      "Processing...:  59%|█████▊    | 212/361 [25:59<17:33,  7.07s/it]\n",
      "Embedding extraction: 0it [00:00, ?it/s]\n",
      "Embedding extraction: 1it [00:05,  5.01s/it]\n",
      "                                                                \r"
     ]
    },
    {
     "name": "stdout",
     "output_type": "stream",
     "text": [
      "... frame 213: \n"
     ]
    },
    {
     "name": "stderr",
     "output_type": "stream",
     "text": [
      "Processing...:  59%|█████▉    | 213/361 [26:07<17:59,  7.29s/it]\n",
      "Embedding extraction: 0it [00:00, ?it/s]\n",
      "Embedding extraction: 1it [00:04,  4.35s/it]\n",
      "                                                                \r"
     ]
    },
    {
     "name": "stdout",
     "output_type": "stream",
     "text": [
      "... frame 214: \n"
     ]
    },
    {
     "name": "stderr",
     "output_type": "stream",
     "text": [
      "Processing...:  59%|█████▉    | 214/361 [26:13<17:25,  7.12s/it]\n",
      "Embedding extraction: 0it [00:00, ?it/s]\n",
      "Embedding extraction: 1it [00:04,  4.36s/it]\n",
      "                                                                \r"
     ]
    },
    {
     "name": "stdout",
     "output_type": "stream",
     "text": [
      "... frame 215: \n"
     ]
    },
    {
     "name": "stderr",
     "output_type": "stream",
     "text": [
      "Processing...:  60%|█████▉    | 215/361 [26:20<17:05,  7.02s/it]\n",
      "Embedding extraction: 0it [00:00, ?it/s]\n",
      "Embedding extraction: 1it [00:04,  4.19s/it]\n",
      "                                                                \r"
     ]
    },
    {
     "name": "stdout",
     "output_type": "stream",
     "text": [
      "... frame 216: \n"
     ]
    },
    {
     "name": "stderr",
     "output_type": "stream",
     "text": [
      "Processing...:  60%|█████▉    | 216/361 [26:27<16:46,  6.94s/it]\n",
      "Embedding extraction: 0it [00:00, ?it/s]\n",
      "Embedding extraction: 1it [00:04,  4.33s/it]\n",
      "                                                                \r"
     ]
    },
    {
     "name": "stdout",
     "output_type": "stream",
     "text": [
      "... frame 217: \n"
     ]
    },
    {
     "name": "stderr",
     "output_type": "stream",
     "text": [
      "Processing...:  60%|██████    | 217/361 [26:34<16:38,  6.93s/it]\n",
      "Embedding extraction: 0it [00:00, ?it/s]\n",
      "Embedding extraction: 1it [00:04,  4.13s/it]\n",
      "                                                                \r"
     ]
    },
    {
     "name": "stdout",
     "output_type": "stream",
     "text": [
      "... frame 218: \n"
     ]
    },
    {
     "name": "stderr",
     "output_type": "stream",
     "text": [
      "Processing...:  60%|██████    | 218/361 [26:40<16:12,  6.80s/it]\n",
      "Embedding extraction: 0it [00:00, ?it/s]\n",
      "Embedding extraction: 1it [00:03,  3.90s/it]\n",
      "                                                                \r"
     ]
    },
    {
     "name": "stdout",
     "output_type": "stream",
     "text": [
      "... frame 219: \n"
     ]
    },
    {
     "name": "stderr",
     "output_type": "stream",
     "text": [
      "Processing...:  61%|██████    | 219/361 [26:47<15:44,  6.65s/it]\n",
      "Embedding extraction: 0it [00:00, ?it/s]\n",
      "Embedding extraction: 1it [00:03,  3.88s/it]\n",
      "                                                                \r"
     ]
    },
    {
     "name": "stdout",
     "output_type": "stream",
     "text": [
      "... frame 220: \n"
     ]
    },
    {
     "name": "stderr",
     "output_type": "stream",
     "text": [
      "Processing...:  61%|██████    | 220/361 [26:53<15:29,  6.59s/it]\n",
      "Embedding extraction: 0it [00:00, ?it/s]\n",
      "Embedding extraction: 1it [00:04,  4.15s/it]\n",
      "                                                                \r"
     ]
    },
    {
     "name": "stdout",
     "output_type": "stream",
     "text": [
      "... frame 221: \n"
     ]
    },
    {
     "name": "stderr",
     "output_type": "stream",
     "text": [
      "Processing...:  61%|██████    | 221/361 [27:00<15:43,  6.74s/it]\n",
      "Embedding extraction: 0it [00:00, ?it/s]\n",
      "Embedding extraction: 1it [00:08,  8.38s/it]\n",
      "                                                                \r"
     ]
    },
    {
     "name": "stdout",
     "output_type": "stream",
     "text": [
      "... frame 222: \n"
     ]
    },
    {
     "name": "stderr",
     "output_type": "stream",
     "text": [
      "Processing...:  61%|██████▏   | 222/361 [27:13<20:05,  8.68s/it]\n",
      "Embedding extraction: 0it [00:00, ?it/s]\n",
      "Embedding extraction: 1it [00:07,  7.76s/it]\n",
      "                                                                \r"
     ]
    },
    {
     "name": "stdout",
     "output_type": "stream",
     "text": [
      "... frame 223: \n"
     ]
    },
    {
     "name": "stderr",
     "output_type": "stream",
     "text": [
      "Processing...:  62%|██████▏   | 223/361 [27:26<22:22,  9.73s/it]\n",
      "Embedding extraction: 0it [00:00, ?it/s]\n",
      "Embedding extraction: 1it [00:06,  6.80s/it]\n",
      "                                                                \r"
     ]
    },
    {
     "name": "stdout",
     "output_type": "stream",
     "text": [
      "... frame 224: \n"
     ]
    },
    {
     "name": "stderr",
     "output_type": "stream",
     "text": [
      "Processing...:  62%|██████▏   | 224/361 [27:36<22:45,  9.97s/it]\n",
      "Embedding extraction: 0it [00:00, ?it/s]\n",
      "Embedding extraction: 1it [00:05,  5.56s/it]\n",
      "                                                                \r"
     ]
    },
    {
     "name": "stdout",
     "output_type": "stream",
     "text": [
      "... frame 225: \n"
     ]
    },
    {
     "name": "stderr",
     "output_type": "stream",
     "text": [
      "Processing...:  62%|██████▏   | 225/361 [27:45<22:00,  9.71s/it]\n",
      "Embedding extraction: 0it [00:00, ?it/s]\n",
      "Embedding extraction: 1it [00:04,  4.67s/it]\n",
      "                                                                \r"
     ]
    },
    {
     "name": "stdout",
     "output_type": "stream",
     "text": [
      "... frame 226: \n"
     ]
    },
    {
     "name": "stderr",
     "output_type": "stream",
     "text": [
      "Processing...:  63%|██████▎   | 226/361 [27:53<20:13,  8.99s/it]\n",
      "Embedding extraction: 0it [00:00, ?it/s]\n",
      "Embedding extraction: 1it [00:04,  4.37s/it]\n",
      "                                                                \r"
     ]
    },
    {
     "name": "stdout",
     "output_type": "stream",
     "text": [
      "... frame 227: \n"
     ]
    },
    {
     "name": "stderr",
     "output_type": "stream",
     "text": [
      "Processing...:  63%|██████▎   | 227/361 [28:00<18:41,  8.37s/it]\n",
      "Embedding extraction: 0it [00:00, ?it/s]\n",
      "Embedding extraction: 1it [00:04,  4.55s/it]\n",
      "                                                                \r"
     ]
    },
    {
     "name": "stdout",
     "output_type": "stream",
     "text": [
      "... frame 228: \n"
     ]
    },
    {
     "name": "stderr",
     "output_type": "stream",
     "text": [
      "Processing...:  63%|██████▎   | 228/361 [28:07<17:41,  7.98s/it]\n",
      "Embedding extraction: 0it [00:00, ?it/s]\n",
      "Embedding extraction: 1it [00:05,  5.64s/it]\n",
      "                                                                \r"
     ]
    },
    {
     "name": "stdout",
     "output_type": "stream",
     "text": [
      "... frame 229: \n"
     ]
    },
    {
     "name": "stderr",
     "output_type": "stream",
     "text": [
      "Processing...:  63%|██████▎   | 229/361 [28:15<17:45,  8.07s/it]\n",
      "Embedding extraction: 0it [00:00, ?it/s]\n",
      "Embedding extraction: 1it [00:04,  4.91s/it]\n",
      "                                                                \r"
     ]
    },
    {
     "name": "stdout",
     "output_type": "stream",
     "text": [
      "... frame 230: \n"
     ]
    },
    {
     "name": "stderr",
     "output_type": "stream",
     "text": [
      "Processing...:  64%|██████▎   | 230/361 [28:23<17:28,  8.01s/it]\n",
      "Embedding extraction: 0it [00:00, ?it/s]\n",
      "Embedding extraction: 1it [00:04,  4.93s/it]\n",
      "                                                                \r"
     ]
    },
    {
     "name": "stdout",
     "output_type": "stream",
     "text": [
      "... frame 231: \n"
     ]
    },
    {
     "name": "stderr",
     "output_type": "stream",
     "text": [
      "Processing...:  64%|██████▍   | 231/361 [28:30<17:04,  7.88s/it]\n",
      "Embedding extraction: 0it [00:00, ?it/s]\n",
      "Embedding extraction: 1it [00:06,  6.71s/it]\n",
      "                                                                \r"
     ]
    },
    {
     "name": "stdout",
     "output_type": "stream",
     "text": [
      "... frame 232: \n"
     ]
    },
    {
     "name": "stderr",
     "output_type": "stream",
     "text": [
      "Processing...:  64%|██████▍   | 232/361 [28:41<18:41,  8.69s/it]\n",
      "Embedding extraction: 0it [00:00, ?it/s]\n",
      "Embedding extraction: 1it [00:08,  8.40s/it]\n",
      "                                                                \r"
     ]
    },
    {
     "name": "stdout",
     "output_type": "stream",
     "text": [
      "... frame 233: \n"
     ]
    },
    {
     "name": "stderr",
     "output_type": "stream",
     "text": [
      "Processing...:  65%|██████▍   | 233/361 [28:56<22:40, 10.63s/it]\n",
      "Embedding extraction: 0it [00:00, ?it/s]\n",
      "Embedding extraction: 1it [00:08,  8.61s/it]\n",
      "                                                                \r"
     ]
    },
    {
     "name": "stdout",
     "output_type": "stream",
     "text": [
      "... frame 234: \n"
     ]
    },
    {
     "name": "stderr",
     "output_type": "stream",
     "text": [
      "Processing...:  65%|██████▍   | 234/361 [29:09<24:15, 11.46s/it]\n",
      "Embedding extraction: 0it [00:00, ?it/s]\n",
      "Embedding extraction: 1it [00:06,  6.00s/it]\n",
      "                                                                \r"
     ]
    },
    {
     "name": "stdout",
     "output_type": "stream",
     "text": [
      "... frame 235: \n"
     ]
    },
    {
     "name": "stderr",
     "output_type": "stream",
     "text": [
      "Processing...:  65%|██████▌   | 235/361 [29:20<23:31, 11.20s/it]\n",
      "Embedding extraction: 0it [00:00, ?it/s]\n",
      "Embedding extraction: 1it [00:04,  4.75s/it]\n",
      "                                                                \r"
     ]
    },
    {
     "name": "stdout",
     "output_type": "stream",
     "text": [
      "... frame 236: \n"
     ]
    },
    {
     "name": "stderr",
     "output_type": "stream",
     "text": [
      "Processing...:  65%|██████▌   | 236/361 [29:27<20:52, 10.02s/it]\n",
      "Embedding extraction: 0it [00:00, ?it/s]\n",
      "Embedding extraction: 1it [00:04,  4.82s/it]\n",
      "                                                                \r"
     ]
    },
    {
     "name": "stdout",
     "output_type": "stream",
     "text": [
      "... frame 237: \n"
     ]
    },
    {
     "name": "stderr",
     "output_type": "stream",
     "text": [
      "Processing...:  66%|██████▌   | 237/361 [29:35<19:01,  9.21s/it]\n",
      "Embedding extraction: 0it [00:00, ?it/s]\n",
      "Embedding extraction: 1it [00:04,  4.61s/it]\n",
      "                                                                \r"
     ]
    },
    {
     "name": "stdout",
     "output_type": "stream",
     "text": [
      "... frame 238: \n"
     ]
    },
    {
     "name": "stderr",
     "output_type": "stream",
     "text": [
      "Processing...:  66%|██████▌   | 238/361 [29:42<17:36,  8.59s/it]\n",
      "Embedding extraction: 0it [00:00, ?it/s]\n",
      "Embedding extraction: 1it [00:06,  6.17s/it]\n",
      "                                                                \r"
     ]
    },
    {
     "name": "stdout",
     "output_type": "stream",
     "text": [
      "... frame 239: \n"
     ]
    },
    {
     "name": "stderr",
     "output_type": "stream",
     "text": [
      "Processing...:  66%|██████▌   | 239/361 [29:51<18:04,  8.89s/it]\n",
      "Embedding extraction: 0it [00:00, ?it/s]\n",
      "Embedding extraction: 1it [00:05,  5.55s/it]\n",
      "                                                                \r"
     ]
    },
    {
     "name": "stdout",
     "output_type": "stream",
     "text": [
      "... frame 240: \n"
     ]
    },
    {
     "name": "stderr",
     "output_type": "stream",
     "text": [
      "Processing...:  66%|██████▋   | 240/361 [30:00<17:51,  8.85s/it]\n",
      "Embedding extraction: 0it [00:00, ?it/s]\n",
      "Embedding extraction: 1it [00:05,  5.38s/it]\n",
      "                                                                \r"
     ]
    },
    {
     "name": "stdout",
     "output_type": "stream",
     "text": [
      "... frame 241: \n"
     ]
    },
    {
     "name": "stderr",
     "output_type": "stream",
     "text": [
      "Processing...:  67%|██████▋   | 241/361 [30:09<17:30,  8.75s/it]\n",
      "Embedding extraction: 0it [00:00, ?it/s]\n",
      "Embedding extraction: 1it [00:05,  5.40s/it]\n",
      "                                                                \r"
     ]
    },
    {
     "name": "stdout",
     "output_type": "stream",
     "text": [
      "... frame 242: \n"
     ]
    },
    {
     "name": "stderr",
     "output_type": "stream",
     "text": [
      "Processing...:  67%|██████▋   | 242/361 [30:17<17:23,  8.77s/it]\n",
      "Embedding extraction: 0it [00:00, ?it/s]\n",
      "Embedding extraction: 1it [00:04,  4.78s/it]\n",
      "                                                                \r"
     ]
    },
    {
     "name": "stdout",
     "output_type": "stream",
     "text": [
      "... frame 243: \n"
     ]
    },
    {
     "name": "stderr",
     "output_type": "stream",
     "text": [
      "Processing...:  67%|██████▋   | 243/361 [30:25<16:43,  8.51s/it]\n",
      "Embedding extraction: 0it [00:00, ?it/s]\n",
      "Embedding extraction: 1it [00:05,  5.17s/it]\n",
      "                                                                \r"
     ]
    },
    {
     "name": "stdout",
     "output_type": "stream",
     "text": [
      "... frame 244: \n"
     ]
    },
    {
     "name": "stderr",
     "output_type": "stream",
     "text": [
      "Processing...:  68%|██████▊   | 244/361 [30:34<16:23,  8.41s/it]\n",
      "Embedding extraction: 0it [00:00, ?it/s]\n",
      "Embedding extraction: 1it [00:04,  4.99s/it]\n",
      "                                                                \r"
     ]
    },
    {
     "name": "stdout",
     "output_type": "stream",
     "text": [
      "... frame 245: \n"
     ]
    },
    {
     "name": "stderr",
     "output_type": "stream",
     "text": [
      "Processing...:  68%|██████▊   | 245/361 [30:42<16:01,  8.29s/it]\n",
      "Embedding extraction: 0it [00:00, ?it/s]\n",
      "Embedding extraction: 1it [00:05,  5.38s/it]\n",
      "                                                                \r"
     ]
    },
    {
     "name": "stdout",
     "output_type": "stream",
     "text": [
      "... frame 246: \n"
     ]
    },
    {
     "name": "stderr",
     "output_type": "stream",
     "text": [
      "Processing...:  68%|██████▊   | 246/361 [30:50<15:51,  8.28s/it]\n",
      "Embedding extraction: 0it [00:00, ?it/s]\n",
      "Embedding extraction: 1it [00:06,  6.61s/it]\n",
      "                                                                \r"
     ]
    },
    {
     "name": "stdout",
     "output_type": "stream",
     "text": [
      "... frame 247: \n"
     ]
    },
    {
     "name": "stderr",
     "output_type": "stream",
     "text": [
      "Processing...:  68%|██████▊   | 247/361 [31:00<16:49,  8.85s/it]\n",
      "Embedding extraction: 0it [00:00, ?it/s]\n",
      "Embedding extraction: 1it [00:05,  5.79s/it]\n",
      "                                                                \r"
     ]
    },
    {
     "name": "stdout",
     "output_type": "stream",
     "text": [
      "... frame 248: \n"
     ]
    },
    {
     "name": "stderr",
     "output_type": "stream",
     "text": [
      "Processing...:  69%|██████▊   | 248/361 [31:09<16:46,  8.91s/it]\n",
      "Embedding extraction: 0it [00:00, ?it/s]\n",
      "Embedding extraction: 1it [00:05,  5.25s/it]\n",
      "                                                                \r"
     ]
    },
    {
     "name": "stdout",
     "output_type": "stream",
     "text": [
      "... frame 249: \n"
     ]
    },
    {
     "name": "stderr",
     "output_type": "stream",
     "text": [
      "Processing...:  69%|██████▉   | 249/361 [31:17<16:05,  8.62s/it]\n",
      "Embedding extraction: 0it [00:00, ?it/s]\n",
      "Embedding extraction: 1it [00:04,  4.53s/it]\n",
      "                                                                \r"
     ]
    },
    {
     "name": "stdout",
     "output_type": "stream",
     "text": [
      "... frame 250: \n"
     ]
    },
    {
     "name": "stderr",
     "output_type": "stream",
     "text": [
      "Processing...:  69%|██████▉   | 250/361 [31:24<15:12,  8.22s/it]\n",
      "Embedding extraction: 0it [00:00, ?it/s]\n",
      "Embedding extraction: 1it [00:04,  4.70s/it]\n",
      "                                                                \r"
     ]
    },
    {
     "name": "stdout",
     "output_type": "stream",
     "text": [
      "... frame 251: \n"
     ]
    },
    {
     "name": "stderr",
     "output_type": "stream",
     "text": [
      "Processing...:  70%|██████▉   | 251/361 [31:32<14:35,  7.96s/it]\n",
      "Embedding extraction: 0it [00:00, ?it/s]\n",
      "Embedding extraction: 1it [00:04,  4.34s/it]\n",
      "                                                                \r"
     ]
    },
    {
     "name": "stdout",
     "output_type": "stream",
     "text": [
      "... frame 252: \n"
     ]
    },
    {
     "name": "stderr",
     "output_type": "stream",
     "text": [
      "Processing...:  70%|██████▉   | 252/361 [31:39<13:54,  7.66s/it]\n",
      "Embedding extraction: 0it [00:00, ?it/s]\n",
      "Embedding extraction: 1it [00:05,  5.45s/it]\n",
      "                                                                \r"
     ]
    },
    {
     "name": "stdout",
     "output_type": "stream",
     "text": [
      "... frame 253: \n"
     ]
    },
    {
     "name": "stderr",
     "output_type": "stream",
     "text": [
      "Processing...:  70%|███████   | 253/361 [31:47<14:08,  7.86s/it]\n",
      "Embedding extraction: 0it [00:00, ?it/s]\n",
      "Embedding extraction: 1it [00:05,  5.64s/it]\n",
      "                                                                \r"
     ]
    },
    {
     "name": "stdout",
     "output_type": "stream",
     "text": [
      "... frame 254: \n"
     ]
    },
    {
     "name": "stderr",
     "output_type": "stream",
     "text": [
      "Processing...:  70%|███████   | 254/361 [31:56<14:30,  8.14s/it]\n",
      "Embedding extraction: 0it [00:00, ?it/s]\n",
      "Embedding extraction: 1it [00:05,  5.85s/it]\n",
      "                                                                \r"
     ]
    },
    {
     "name": "stdout",
     "output_type": "stream",
     "text": [
      "... frame 255: \n"
     ]
    },
    {
     "name": "stderr",
     "output_type": "stream",
     "text": [
      "Processing...:  71%|███████   | 255/361 [32:05<14:57,  8.47s/it]\n",
      "Embedding extraction: 0it [00:00, ?it/s]\n",
      "Embedding extraction: 1it [00:04,  4.65s/it]\n",
      "                                                                \r"
     ]
    },
    {
     "name": "stdout",
     "output_type": "stream",
     "text": [
      "... frame 256: \n"
     ]
    },
    {
     "name": "stderr",
     "output_type": "stream",
     "text": [
      "Processing...:  71%|███████   | 256/361 [32:12<14:06,  8.06s/it]\n",
      "Embedding extraction: 0it [00:00, ?it/s]\n",
      "Embedding extraction: 1it [00:04,  4.67s/it]\n",
      "                                                                \r"
     ]
    },
    {
     "name": "stdout",
     "output_type": "stream",
     "text": [
      "... frame 257: \n"
     ]
    },
    {
     "name": "stderr",
     "output_type": "stream",
     "text": [
      "Processing...:  71%|███████   | 257/361 [32:20<13:46,  7.94s/it]\n",
      "Embedding extraction: 0it [00:00, ?it/s]\n",
      "Embedding extraction: 1it [00:05,  5.26s/it]\n",
      "                                                                \r"
     ]
    },
    {
     "name": "stdout",
     "output_type": "stream",
     "text": [
      "... frame 258: \n"
     ]
    },
    {
     "name": "stderr",
     "output_type": "stream",
     "text": [
      "Processing...:  71%|███████▏  | 258/361 [32:28<13:45,  8.02s/it]\n",
      "Embedding extraction: 0it [00:00, ?it/s]\n",
      "Embedding extraction: 1it [00:04,  4.93s/it]\n",
      "                                                                \r"
     ]
    },
    {
     "name": "stdout",
     "output_type": "stream",
     "text": [
      "... frame 259: \n"
     ]
    },
    {
     "name": "stderr",
     "output_type": "stream",
     "text": [
      "Processing...:  72%|███████▏  | 259/361 [32:36<13:32,  7.96s/it]\n",
      "Embedding extraction: 0it [00:00, ?it/s]\n",
      "Embedding extraction: 1it [00:04,  4.88s/it]\n",
      "                                                                \r"
     ]
    },
    {
     "name": "stdout",
     "output_type": "stream",
     "text": [
      "... frame 260: \n"
     ]
    },
    {
     "name": "stderr",
     "output_type": "stream",
     "text": [
      "Processing...:  72%|███████▏  | 260/361 [32:43<13:16,  7.88s/it]\n",
      "Embedding extraction: 0it [00:00, ?it/s]\n",
      "Embedding extraction: 1it [00:04,  4.91s/it]\n",
      "                                                                \r"
     ]
    },
    {
     "name": "stdout",
     "output_type": "stream",
     "text": [
      "... frame 261: \n"
     ]
    },
    {
     "name": "stderr",
     "output_type": "stream",
     "text": [
      "Processing...:  72%|███████▏  | 261/361 [32:51<12:58,  7.78s/it]\n",
      "Embedding extraction: 0it [00:00, ?it/s]\n",
      "Embedding extraction: 1it [00:05,  5.60s/it]\n",
      "                                                                \r"
     ]
    },
    {
     "name": "stdout",
     "output_type": "stream",
     "text": [
      "... frame 262: \n"
     ]
    },
    {
     "name": "stderr",
     "output_type": "stream",
     "text": [
      "Processing...:  73%|███████▎  | 262/361 [32:59<13:05,  7.94s/it]\n",
      "Embedding extraction: 0it [00:00, ?it/s]\n",
      "Embedding extraction: 1it [00:04,  4.70s/it]\n",
      "                                                                \r"
     ]
    },
    {
     "name": "stdout",
     "output_type": "stream",
     "text": [
      "... frame 263: \n"
     ]
    },
    {
     "name": "stderr",
     "output_type": "stream",
     "text": [
      "Processing...:  73%|███████▎  | 263/361 [33:07<12:47,  7.83s/it]\n",
      "Embedding extraction: 0it [00:00, ?it/s]\n",
      "Embedding extraction: 1it [00:05,  5.25s/it]\n",
      "                                                                \r"
     ]
    },
    {
     "name": "stdout",
     "output_type": "stream",
     "text": [
      "... frame 264: \n"
     ]
    },
    {
     "name": "stderr",
     "output_type": "stream",
     "text": [
      "Processing...:  73%|███████▎  | 264/361 [33:15<13:01,  8.06s/it]\n",
      "Embedding extraction: 0it [00:00, ?it/s]\n",
      "Embedding extraction: 1it [00:06,  6.48s/it]\n",
      "                                                                \r"
     ]
    },
    {
     "name": "stdout",
     "output_type": "stream",
     "text": [
      "... frame 265: \n"
     ]
    },
    {
     "name": "stderr",
     "output_type": "stream",
     "text": [
      "Processing...:  73%|███████▎  | 265/361 [33:25<13:33,  8.47s/it]\n",
      "Embedding extraction: 0it [00:00, ?it/s]\n",
      "Embedding extraction: 1it [00:04,  4.83s/it]\n",
      "                                                                \r"
     ]
    },
    {
     "name": "stdout",
     "output_type": "stream",
     "text": [
      "... frame 266: \n"
     ]
    },
    {
     "name": "stderr",
     "output_type": "stream",
     "text": [
      "Processing...:  74%|███████▎  | 266/361 [33:32<12:57,  8.18s/it]\n",
      "Embedding extraction: 0it [00:00, ?it/s]\n",
      "Embedding extraction: 1it [00:04,  4.55s/it]\n",
      "                                                                \r"
     ]
    },
    {
     "name": "stdout",
     "output_type": "stream",
     "text": [
      "... frame 267: \n"
     ]
    },
    {
     "name": "stderr",
     "output_type": "stream",
     "text": [
      "Processing...:  74%|███████▍  | 267/361 [33:40<12:22,  7.90s/it]\n",
      "Embedding extraction: 0it [00:00, ?it/s]\n",
      "Embedding extraction: 1it [00:05,  5.06s/it]\n",
      "                                                                \r"
     ]
    },
    {
     "name": "stdout",
     "output_type": "stream",
     "text": [
      "... frame 268: \n"
     ]
    },
    {
     "name": "stderr",
     "output_type": "stream",
     "text": [
      "Processing...:  74%|███████▍  | 268/361 [33:47<12:07,  7.82s/it]\n",
      "Embedding extraction: 0it [00:00, ?it/s]\n",
      "Embedding extraction: 1it [00:04,  4.94s/it]\n",
      "                                                                \r"
     ]
    },
    {
     "name": "stdout",
     "output_type": "stream",
     "text": [
      "... frame 269: \n"
     ]
    },
    {
     "name": "stderr",
     "output_type": "stream",
     "text": [
      "Processing...:  75%|███████▍  | 269/361 [33:55<12:01,  7.85s/it]\n",
      "Embedding extraction: 0it [00:00, ?it/s]\n",
      "Embedding extraction: 1it [00:05,  5.06s/it]\n",
      "                                                                \r"
     ]
    },
    {
     "name": "stdout",
     "output_type": "stream",
     "text": [
      "... frame 270: \n"
     ]
    },
    {
     "name": "stderr",
     "output_type": "stream",
     "text": [
      "Processing...:  75%|███████▍  | 270/361 [34:03<12:00,  7.91s/it]\n",
      "Embedding extraction: 0it [00:00, ?it/s]\n",
      "Embedding extraction: 1it [00:04,  4.85s/it]\n",
      "                                                                \r"
     ]
    },
    {
     "name": "stdout",
     "output_type": "stream",
     "text": [
      "... frame 271: \n"
     ]
    },
    {
     "name": "stderr",
     "output_type": "stream",
     "text": [
      "Processing...:  75%|███████▌  | 271/361 [34:11<11:42,  7.80s/it]\n",
      "Embedding extraction: 0it [00:00, ?it/s]\n",
      "Embedding extraction: 1it [00:05,  5.02s/it]\n",
      "                                                                \r"
     ]
    },
    {
     "name": "stdout",
     "output_type": "stream",
     "text": [
      "... frame 272: \n"
     ]
    },
    {
     "name": "stderr",
     "output_type": "stream",
     "text": [
      "Processing...:  75%|███████▌  | 272/361 [34:18<11:30,  7.75s/it]\n",
      "Embedding extraction: 0it [00:00, ?it/s]\n",
      "Embedding extraction: 1it [00:05,  5.05s/it]\n",
      "                                                                \r"
     ]
    },
    {
     "name": "stdout",
     "output_type": "stream",
     "text": [
      "... frame 273: \n"
     ]
    },
    {
     "name": "stderr",
     "output_type": "stream",
     "text": [
      "Processing...:  76%|███████▌  | 273/361 [34:26<11:21,  7.75s/it]\n",
      "Embedding extraction: 0it [00:00, ?it/s]\n",
      "Embedding extraction: 1it [00:05,  5.60s/it]\n",
      "                                                                \r"
     ]
    },
    {
     "name": "stdout",
     "output_type": "stream",
     "text": [
      "... frame 274: \n"
     ]
    },
    {
     "name": "stderr",
     "output_type": "stream",
     "text": [
      "Processing...:  76%|███████▌  | 274/361 [34:34<11:25,  7.88s/it]\n",
      "Embedding extraction: 0it [00:00, ?it/s]\n",
      "Embedding extraction: 1it [00:04,  4.79s/it]\n",
      "                                                                \r"
     ]
    },
    {
     "name": "stdout",
     "output_type": "stream",
     "text": [
      "... frame 275: \n"
     ]
    },
    {
     "name": "stderr",
     "output_type": "stream",
     "text": [
      "Processing...:  76%|███████▌  | 275/361 [34:42<11:05,  7.74s/it]\n",
      "Embedding extraction: 0it [00:00, ?it/s]\n",
      "Embedding extraction: 1it [00:05,  5.07s/it]\n",
      "                                                                \r"
     ]
    },
    {
     "name": "stdout",
     "output_type": "stream",
     "text": [
      "... frame 276: \n"
     ]
    },
    {
     "name": "stderr",
     "output_type": "stream",
     "text": [
      "Processing...:  76%|███████▋  | 276/361 [34:49<10:57,  7.73s/it]\n",
      "Embedding extraction: 0it [00:00, ?it/s]\n",
      "Embedding extraction: 1it [00:05,  5.18s/it]\n",
      "                                                                \r"
     ]
    },
    {
     "name": "stdout",
     "output_type": "stream",
     "text": [
      "... frame 277: \n"
     ]
    },
    {
     "name": "stderr",
     "output_type": "stream",
     "text": [
      "Processing...:  77%|███████▋  | 277/361 [34:57<10:55,  7.80s/it]\n",
      "Embedding extraction: 0it [00:00, ?it/s]\n",
      "Embedding extraction: 1it [00:04,  4.85s/it]\n",
      "                                                                \r"
     ]
    },
    {
     "name": "stdout",
     "output_type": "stream",
     "text": [
      "... frame 278: \n"
     ]
    },
    {
     "name": "stderr",
     "output_type": "stream",
     "text": [
      "Processing...:  77%|███████▋  | 278/361 [35:05<10:38,  7.69s/it]\n",
      "Embedding extraction: 0it [00:00, ?it/s]\n",
      "Embedding extraction: 1it [00:04,  4.87s/it]\n",
      "                                                                \r"
     ]
    },
    {
     "name": "stdout",
     "output_type": "stream",
     "text": [
      "... frame 279: \n"
     ]
    },
    {
     "name": "stderr",
     "output_type": "stream",
     "text": [
      "Processing...:  77%|███████▋  | 279/361 [35:12<10:25,  7.63s/it]\n",
      "Embedding extraction: 0it [00:00, ?it/s]\n",
      "Embedding extraction: 1it [00:05,  5.01s/it]\n",
      "                                                                \r"
     ]
    },
    {
     "name": "stdout",
     "output_type": "stream",
     "text": [
      "... frame 280: \n"
     ]
    },
    {
     "name": "stderr",
     "output_type": "stream",
     "text": [
      "Processing...:  78%|███████▊  | 280/361 [35:20<10:20,  7.66s/it]\n",
      "Embedding extraction: 0it [00:00, ?it/s]\n",
      "Embedding extraction: 1it [00:05,  5.02s/it]\n",
      "                                                                \r"
     ]
    },
    {
     "name": "stdout",
     "output_type": "stream",
     "text": [
      "... frame 281: \n"
     ]
    },
    {
     "name": "stderr",
     "output_type": "stream",
     "text": [
      "Processing...:  78%|███████▊  | 281/361 [35:28<10:10,  7.63s/it]\n",
      "Embedding extraction: 0it [00:00, ?it/s]\n",
      "Embedding extraction: 1it [00:04,  4.85s/it]\n",
      "                                                                \r"
     ]
    },
    {
     "name": "stdout",
     "output_type": "stream",
     "text": [
      "... frame 282: \n"
     ]
    },
    {
     "name": "stderr",
     "output_type": "stream",
     "text": [
      "Processing...:  78%|███████▊  | 282/361 [35:35<10:04,  7.65s/it]\n",
      "Embedding extraction: 0it [00:00, ?it/s]\n",
      "Embedding extraction: 1it [00:05,  5.64s/it]\n",
      "                                                                \r"
     ]
    },
    {
     "name": "stdout",
     "output_type": "stream",
     "text": [
      "... frame 283: \n"
     ]
    },
    {
     "name": "stderr",
     "output_type": "stream",
     "text": [
      "Processing...:  78%|███████▊  | 283/361 [35:44<10:23,  8.00s/it]\n",
      "Embedding extraction: 0it [00:00, ?it/s]\n",
      "Embedding extraction: 1it [00:05,  5.82s/it]\n",
      "                                                                \r"
     ]
    },
    {
     "name": "stdout",
     "output_type": "stream",
     "text": [
      "... frame 284: \n"
     ]
    },
    {
     "name": "stderr",
     "output_type": "stream",
     "text": [
      "Processing...:  79%|███████▊  | 284/361 [35:53<10:32,  8.21s/it]\n",
      "Embedding extraction: 0it [00:00, ?it/s]\n",
      "Embedding extraction: 1it [00:05,  5.33s/it]\n",
      "                                                                \r"
     ]
    },
    {
     "name": "stdout",
     "output_type": "stream",
     "text": [
      "... frame 285: \n"
     ]
    },
    {
     "name": "stderr",
     "output_type": "stream",
     "text": [
      "Processing...:  79%|███████▉  | 285/361 [36:01<10:23,  8.20s/it]\n",
      "Embedding extraction: 0it [00:00, ?it/s]\n",
      "Embedding extraction: 1it [00:04,  4.85s/it]\n",
      "                                                                \r"
     ]
    },
    {
     "name": "stdout",
     "output_type": "stream",
     "text": [
      "... frame 286: \n"
     ]
    },
    {
     "name": "stderr",
     "output_type": "stream",
     "text": [
      "Processing...:  79%|███████▉  | 286/361 [36:08<09:57,  7.97s/it]\n",
      "Embedding extraction: 0it [00:00, ?it/s]\n",
      "Embedding extraction: 1it [00:04,  4.62s/it]\n",
      "                                                                \r"
     ]
    },
    {
     "name": "stdout",
     "output_type": "stream",
     "text": [
      "... frame 287: \n"
     ]
    },
    {
     "name": "stderr",
     "output_type": "stream",
     "text": [
      "Processing...:  80%|███████▉  | 287/361 [36:16<09:34,  7.77s/it]\n",
      "Embedding extraction: 0it [00:00, ?it/s]\n",
      "Embedding extraction: 1it [00:04,  4.82s/it]\n",
      "                                                                \r"
     ]
    },
    {
     "name": "stdout",
     "output_type": "stream",
     "text": [
      "... frame 288: \n"
     ]
    },
    {
     "name": "stderr",
     "output_type": "stream",
     "text": [
      "Processing...:  80%|███████▉  | 288/361 [36:23<09:25,  7.74s/it]\n",
      "Embedding extraction: 0it [00:00, ?it/s]\n",
      "Embedding extraction: 1it [00:05,  5.34s/it]\n",
      "                                                                \r"
     ]
    },
    {
     "name": "stdout",
     "output_type": "stream",
     "text": [
      "... frame 289: \n"
     ]
    },
    {
     "name": "stderr",
     "output_type": "stream",
     "text": [
      "Processing...:  80%|████████  | 289/361 [36:32<09:24,  7.84s/it]\n",
      "Embedding extraction: 0it [00:00, ?it/s]\n",
      "Embedding extraction: 1it [00:04,  4.60s/it]\n",
      "                                                                \r"
     ]
    },
    {
     "name": "stdout",
     "output_type": "stream",
     "text": [
      "... frame 290: \n"
     ]
    },
    {
     "name": "stderr",
     "output_type": "stream",
     "text": [
      "Processing...:  80%|████████  | 290/361 [36:39<09:06,  7.70s/it]\n",
      "Embedding extraction: 0it [00:00, ?it/s]\n",
      "Embedding extraction: 1it [00:04,  4.98s/it]\n",
      "                                                                \r"
     ]
    },
    {
     "name": "stdout",
     "output_type": "stream",
     "text": [
      "... frame 291: \n"
     ]
    },
    {
     "name": "stderr",
     "output_type": "stream",
     "text": [
      "Processing...:  81%|████████  | 291/361 [36:46<08:55,  7.66s/it]\n",
      "Embedding extraction: 0it [00:00, ?it/s]\n",
      "Embedding extraction: 1it [00:06,  6.23s/it]\n",
      "                                                                \r"
     ]
    },
    {
     "name": "stdout",
     "output_type": "stream",
     "text": [
      "... frame 292: \n"
     ]
    },
    {
     "name": "stderr",
     "output_type": "stream",
     "text": [
      "Processing...:  81%|████████  | 292/361 [36:57<09:51,  8.57s/it]\n",
      "Embedding extraction: 0it [00:00, ?it/s]\n",
      "Embedding extraction: 1it [00:07,  7.03s/it]\n",
      "                                                                \r"
     ]
    },
    {
     "name": "stdout",
     "output_type": "stream",
     "text": [
      "... frame 293: \n"
     ]
    },
    {
     "name": "stderr",
     "output_type": "stream",
     "text": [
      "Processing...:  81%|████████  | 293/361 [37:08<10:26,  9.21s/it]\n",
      "Embedding extraction: 0it [00:00, ?it/s]\n",
      "Embedding extraction: 1it [00:05,  5.24s/it]\n",
      "                                                                \r"
     ]
    },
    {
     "name": "stdout",
     "output_type": "stream",
     "text": [
      "... frame 294: \n"
     ]
    },
    {
     "name": "stderr",
     "output_type": "stream",
     "text": [
      "Processing...:  81%|████████▏ | 294/361 [37:16<10:01,  8.97s/it]\n",
      "Embedding extraction: 0it [00:00, ?it/s]\n",
      "Embedding extraction: 1it [00:04,  4.86s/it]\n",
      "                                                                \r"
     ]
    },
    {
     "name": "stdout",
     "output_type": "stream",
     "text": [
      "... frame 295: \n"
     ]
    },
    {
     "name": "stderr",
     "output_type": "stream",
     "text": [
      "Processing...:  82%|████████▏ | 295/361 [37:24<09:25,  8.57s/it]\n",
      "Embedding extraction: 0it [00:00, ?it/s]\n",
      "Embedding extraction: 1it [00:04,  4.67s/it]\n",
      "                                                                \r"
     ]
    },
    {
     "name": "stdout",
     "output_type": "stream",
     "text": [
      "... frame 296: \n"
     ]
    },
    {
     "name": "stderr",
     "output_type": "stream",
     "text": [
      "Processing...:  82%|████████▏ | 296/361 [37:31<08:51,  8.17s/it]\n",
      "Embedding extraction: 0it [00:00, ?it/s]\n",
      "Embedding extraction: 1it [00:04,  4.51s/it]\n",
      "                                                                \r"
     ]
    },
    {
     "name": "stdout",
     "output_type": "stream",
     "text": [
      "... frame 297: \n"
     ]
    },
    {
     "name": "stderr",
     "output_type": "stream",
     "text": [
      "Processing...:  82%|████████▏ | 297/361 [37:38<08:26,  7.91s/it]\n",
      "Embedding extraction: 0it [00:00, ?it/s]\n",
      "Embedding extraction: 1it [00:04,  4.81s/it]\n",
      "                                                                \r"
     ]
    },
    {
     "name": "stdout",
     "output_type": "stream",
     "text": [
      "... frame 298: \n"
     ]
    },
    {
     "name": "stderr",
     "output_type": "stream",
     "text": [
      "Processing...:  83%|████████▎ | 298/361 [37:46<08:14,  7.84s/it]\n",
      "Embedding extraction: 0it [00:00, ?it/s]\n",
      "Embedding extraction: 1it [00:05,  5.77s/it]\n",
      "                                                                \r"
     ]
    },
    {
     "name": "stdout",
     "output_type": "stream",
     "text": [
      "... frame 299: \n"
     ]
    },
    {
     "name": "stderr",
     "output_type": "stream",
     "text": [
      "Processing...:  83%|████████▎ | 299/361 [37:55<08:26,  8.17s/it]\n",
      "Embedding extraction: 0it [00:00, ?it/s]\n",
      "Embedding extraction: 1it [00:05,  5.15s/it]\n",
      "                                                                \r"
     ]
    },
    {
     "name": "stdout",
     "output_type": "stream",
     "text": [
      "... frame 300: \n"
     ]
    },
    {
     "name": "stderr",
     "output_type": "stream",
     "text": [
      "Processing...:  83%|████████▎ | 300/361 [38:03<08:19,  8.20s/it]\n",
      "Embedding extraction: 0it [00:00, ?it/s]\n",
      "Embedding extraction: 1it [00:04,  5.00s/it]\n",
      "                                                                \r"
     ]
    },
    {
     "name": "stdout",
     "output_type": "stream",
     "text": [
      "... frame 301: \n"
     ]
    },
    {
     "name": "stderr",
     "output_type": "stream",
     "text": [
      "Processing...:  83%|████████▎ | 301/361 [38:11<08:04,  8.07s/it]\n",
      "Embedding extraction: 0it [00:00, ?it/s]\n",
      "Embedding extraction: 1it [00:05,  5.09s/it]\n",
      "                                                                \r"
     ]
    },
    {
     "name": "stdout",
     "output_type": "stream",
     "text": [
      "... frame 302: \n"
     ]
    },
    {
     "name": "stderr",
     "output_type": "stream",
     "text": [
      "Processing...:  84%|████████▎ | 302/361 [38:19<07:52,  8.00s/it]\n",
      "Embedding extraction: 0it [00:00, ?it/s]\n",
      "Embedding extraction: 1it [00:04,  4.91s/it]\n",
      "                                                                \r"
     ]
    },
    {
     "name": "stdout",
     "output_type": "stream",
     "text": [
      "... frame 303: \n"
     ]
    },
    {
     "name": "stderr",
     "output_type": "stream",
     "text": [
      "Processing...:  84%|████████▍ | 303/361 [38:27<07:39,  7.92s/it]\n",
      "Embedding extraction: 0it [00:00, ?it/s]\n",
      "Embedding extraction: 1it [00:05,  5.06s/it]\n",
      "                                                                \r"
     ]
    },
    {
     "name": "stdout",
     "output_type": "stream",
     "text": [
      "... frame 304: \n"
     ]
    },
    {
     "name": "stderr",
     "output_type": "stream",
     "text": [
      "Processing...:  84%|████████▍ | 304/361 [38:34<07:27,  7.85s/it]\n",
      "Embedding extraction: 0it [00:00, ?it/s]\n",
      "Embedding extraction: 1it [00:04,  4.85s/it]\n",
      "                                                                \r"
     ]
    },
    {
     "name": "stdout",
     "output_type": "stream",
     "text": [
      "... frame 305: \n"
     ]
    },
    {
     "name": "stderr",
     "output_type": "stream",
     "text": [
      "Processing...:  84%|████████▍ | 305/361 [38:42<07:20,  7.87s/it]\n",
      "Embedding extraction: 0it [00:00, ?it/s]\n",
      "Embedding extraction: 1it [00:05,  5.35s/it]\n",
      "                                                                \r"
     ]
    },
    {
     "name": "stdout",
     "output_type": "stream",
     "text": [
      "... frame 306: \n"
     ]
    },
    {
     "name": "stderr",
     "output_type": "stream",
     "text": [
      "Processing...:  85%|████████▍ | 306/361 [38:51<07:19,  7.98s/it]\n",
      "Embedding extraction: 0it [00:00, ?it/s]\n",
      "Embedding extraction: 1it [00:05,  5.92s/it]\n",
      "                                                                \r"
     ]
    },
    {
     "name": "stdout",
     "output_type": "stream",
     "text": [
      "... frame 307: \n"
     ]
    },
    {
     "name": "stderr",
     "output_type": "stream",
     "text": [
      "Processing...:  85%|████████▌ | 307/361 [38:59<07:24,  8.22s/it]\n",
      "Embedding extraction: 0it [00:00, ?it/s]\n",
      "Embedding extraction: 1it [00:05,  5.33s/it]\n",
      "                                                                \r"
     ]
    },
    {
     "name": "stdout",
     "output_type": "stream",
     "text": [
      "... frame 308: \n"
     ]
    },
    {
     "name": "stderr",
     "output_type": "stream",
     "text": [
      "Processing...:  85%|████████▌ | 308/361 [39:07<07:13,  8.18s/it]\n",
      "Embedding extraction: 0it [00:00, ?it/s]\n",
      "Embedding extraction: 1it [00:04,  4.92s/it]\n",
      "                                                                \r"
     ]
    },
    {
     "name": "stdout",
     "output_type": "stream",
     "text": [
      "... frame 309: \n"
     ]
    },
    {
     "name": "stderr",
     "output_type": "stream",
     "text": [
      "Processing...:  86%|████████▌ | 309/361 [39:15<06:56,  8.01s/it]\n",
      "Embedding extraction: 0it [00:00, ?it/s]\n",
      "Embedding extraction: 1it [00:05,  5.17s/it]\n",
      "                                                                \r"
     ]
    },
    {
     "name": "stdout",
     "output_type": "stream",
     "text": [
      "... frame 310: \n"
     ]
    },
    {
     "name": "stderr",
     "output_type": "stream",
     "text": [
      "Processing...:  86%|████████▌ | 310/361 [39:23<06:42,  7.89s/it]\n",
      "Embedding extraction: 0it [00:00, ?it/s]\n",
      "Embedding extraction: 1it [00:04,  4.78s/it]\n",
      "                                                                \r"
     ]
    },
    {
     "name": "stdout",
     "output_type": "stream",
     "text": [
      "... frame 311: \n"
     ]
    },
    {
     "name": "stderr",
     "output_type": "stream",
     "text": [
      "Processing...:  86%|████████▌ | 311/361 [39:30<06:29,  7.80s/it]\n",
      "Embedding extraction: 0it [00:00, ?it/s]\n",
      "Embedding extraction: 1it [00:05,  5.13s/it]\n",
      "                                                                \r"
     ]
    },
    {
     "name": "stdout",
     "output_type": "stream",
     "text": [
      "... frame 312: \n"
     ]
    },
    {
     "name": "stderr",
     "output_type": "stream",
     "text": [
      "Processing...:  86%|████████▋ | 312/361 [39:38<06:20,  7.77s/it]\n",
      "Embedding extraction: 0it [00:00, ?it/s]\n",
      "Embedding extraction: 1it [00:05,  5.07s/it]\n",
      "                                                                \r"
     ]
    },
    {
     "name": "stdout",
     "output_type": "stream",
     "text": [
      "... frame 313: \n"
     ]
    },
    {
     "name": "stderr",
     "output_type": "stream",
     "text": [
      "Processing...:  87%|████████▋ | 313/361 [39:46<06:13,  7.78s/it]\n",
      "Embedding extraction: 0it [00:00, ?it/s]\n",
      "Embedding extraction: 1it [00:04,  4.92s/it]\n",
      "                                                                \r"
     ]
    },
    {
     "name": "stdout",
     "output_type": "stream",
     "text": [
      "... frame 314: \n"
     ]
    },
    {
     "name": "stderr",
     "output_type": "stream",
     "text": [
      "Processing...:  87%|████████▋ | 314/361 [39:53<06:02,  7.71s/it]\n",
      "Embedding extraction: 0it [00:00, ?it/s]\n",
      "Embedding extraction: 1it [00:05,  5.46s/it]\n",
      "                                                                \r"
     ]
    },
    {
     "name": "stdout",
     "output_type": "stream",
     "text": [
      "... frame 315: \n"
     ]
    },
    {
     "name": "stderr",
     "output_type": "stream",
     "text": [
      "Processing...:  87%|████████▋ | 315/361 [40:01<06:01,  7.85s/it]\n",
      "Embedding extraction: 0it [00:00, ?it/s]\n",
      "Embedding extraction: 1it [00:04,  4.84s/it]\n",
      "                                                                \r"
     ]
    },
    {
     "name": "stdout",
     "output_type": "stream",
     "text": [
      "... frame 316: \n"
     ]
    },
    {
     "name": "stderr",
     "output_type": "stream",
     "text": [
      "Processing...:  88%|████████▊ | 316/361 [40:09<05:48,  7.74s/it]\n",
      "Embedding extraction: 0it [00:00, ?it/s]\n",
      "Embedding extraction: 1it [00:04,  4.89s/it]\n",
      "                                                                \r"
     ]
    },
    {
     "name": "stdout",
     "output_type": "stream",
     "text": [
      "... frame 317: \n"
     ]
    },
    {
     "name": "stderr",
     "output_type": "stream",
     "text": [
      "Processing...:  88%|████████▊ | 317/361 [40:17<05:43,  7.80s/it]\n",
      "Embedding extraction: 0it [00:00, ?it/s]\n",
      "Embedding extraction: 1it [00:05,  5.40s/it]\n",
      "                                                                \r"
     ]
    },
    {
     "name": "stdout",
     "output_type": "stream",
     "text": [
      "... frame 318: \n"
     ]
    },
    {
     "name": "stderr",
     "output_type": "stream",
     "text": [
      "Processing...:  88%|████████▊ | 318/361 [40:25<05:39,  7.91s/it]\n",
      "Embedding extraction: 0it [00:00, ?it/s]\n",
      "Embedding extraction: 1it [00:05,  5.32s/it]\n",
      "                                                                \r"
     ]
    },
    {
     "name": "stdout",
     "output_type": "stream",
     "text": [
      "... frame 319: \n"
     ]
    },
    {
     "name": "stderr",
     "output_type": "stream",
     "text": [
      "Processing...:  88%|████████▊ | 319/361 [40:33<05:34,  7.95s/it]\n",
      "Embedding extraction: 0it [00:00, ?it/s]\n",
      "Embedding extraction: 1it [00:05,  5.01s/it]\n",
      "                                                                \r"
     ]
    },
    {
     "name": "stdout",
     "output_type": "stream",
     "text": [
      "... frame 320: \n"
     ]
    },
    {
     "name": "stderr",
     "output_type": "stream",
     "text": [
      "Processing...:  89%|████████▊ | 320/361 [40:41<05:20,  7.83s/it]\n",
      "Embedding extraction: 0it [00:00, ?it/s]\n",
      "Embedding extraction: 1it [00:05,  5.13s/it]\n",
      "                                                                \r"
     ]
    },
    {
     "name": "stdout",
     "output_type": "stream",
     "text": [
      "... frame 321: \n"
     ]
    },
    {
     "name": "stderr",
     "output_type": "stream",
     "text": [
      "Processing...:  89%|████████▉ | 321/361 [40:49<05:16,  7.90s/it]\n",
      "Embedding extraction: 0it [00:00, ?it/s]\n",
      "Embedding extraction: 1it [00:05,  5.07s/it]\n",
      "                                                                \r"
     ]
    },
    {
     "name": "stdout",
     "output_type": "stream",
     "text": [
      "... frame 322: \n"
     ]
    },
    {
     "name": "stderr",
     "output_type": "stream",
     "text": [
      "Processing...:  89%|████████▉ | 322/361 [40:57<05:14,  8.07s/it]\n",
      "Embedding extraction: 0it [00:00, ?it/s]\n",
      "Embedding extraction: 1it [00:06,  6.68s/it]\n",
      "                                                                \r"
     ]
    },
    {
     "name": "stdout",
     "output_type": "stream",
     "text": [
      "... frame 323: \n"
     ]
    },
    {
     "name": "stderr",
     "output_type": "stream",
     "text": [
      "Processing...:  89%|████████▉ | 323/361 [41:07<05:27,  8.62s/it]\n",
      "Embedding extraction: 0it [00:00, ?it/s]\n",
      "Embedding extraction: 1it [00:05,  5.31s/it]\n",
      "                                                                \r"
     ]
    },
    {
     "name": "stdout",
     "output_type": "stream",
     "text": [
      "... frame 324: \n"
     ]
    },
    {
     "name": "stderr",
     "output_type": "stream",
     "text": [
      "Processing...:  90%|████████▉ | 324/361 [41:16<05:21,  8.68s/it]\n",
      "Embedding extraction: 0it [00:00, ?it/s]\n",
      "Embedding extraction: 1it [00:05,  5.88s/it]\n",
      "                                                                \r"
     ]
    },
    {
     "name": "stdout",
     "output_type": "stream",
     "text": [
      "... frame 325: \n"
     ]
    },
    {
     "name": "stderr",
     "output_type": "stream",
     "text": [
      "Processing...:  90%|█████████ | 325/361 [41:25<05:12,  8.69s/it]\n",
      "Embedding extraction: 0it [00:00, ?it/s]\n",
      "Embedding extraction: 1it [00:05,  5.21s/it]\n",
      "                                                                \r"
     ]
    },
    {
     "name": "stdout",
     "output_type": "stream",
     "text": [
      "... frame 326: \n"
     ]
    },
    {
     "name": "stderr",
     "output_type": "stream",
     "text": [
      "Processing...:  90%|█████████ | 326/361 [41:33<04:58,  8.54s/it]\n",
      "Embedding extraction: 0it [00:00, ?it/s]\n",
      "Embedding extraction: 1it [00:05,  5.20s/it]\n",
      "                                                                \r"
     ]
    },
    {
     "name": "stdout",
     "output_type": "stream",
     "text": [
      "... frame 327: \n"
     ]
    },
    {
     "name": "stderr",
     "output_type": "stream",
     "text": [
      "Processing...:  91%|█████████ | 327/361 [41:41<04:42,  8.32s/it]\n",
      "Embedding extraction: 0it [00:00, ?it/s]\n",
      "Embedding extraction: 1it [00:05,  5.34s/it]\n",
      "                                                                \r"
     ]
    },
    {
     "name": "stdout",
     "output_type": "stream",
     "text": [
      "... frame 328: \n"
     ]
    },
    {
     "name": "stderr",
     "output_type": "stream",
     "text": [
      "Processing...:  91%|█████████ | 328/361 [41:49<04:32,  8.26s/it]\n",
      "Embedding extraction: 0it [00:00, ?it/s]\n",
      "Embedding extraction: 1it [00:05,  5.99s/it]\n",
      "                                                                \r"
     ]
    },
    {
     "name": "stdout",
     "output_type": "stream",
     "text": [
      "... frame 329: \n"
     ]
    },
    {
     "name": "stderr",
     "output_type": "stream",
     "text": [
      "Processing...:  91%|█████████ | 329/361 [41:58<04:31,  8.47s/it]\n",
      "Embedding extraction: 0it [00:00, ?it/s]\n",
      "Embedding extraction: 1it [00:05,  5.04s/it]\n",
      "                                                                \r"
     ]
    },
    {
     "name": "stdout",
     "output_type": "stream",
     "text": [
      "... frame 330: \n"
     ]
    },
    {
     "name": "stderr",
     "output_type": "stream",
     "text": [
      "Processing...:  91%|█████████▏| 330/361 [42:05<04:15,  8.23s/it]\n",
      "Embedding extraction: 0it [00:00, ?it/s]\n",
      "Embedding extraction: 1it [00:05,  5.56s/it]\n",
      "                                                                \r"
     ]
    },
    {
     "name": "stdout",
     "output_type": "stream",
     "text": [
      "... frame 331: \n"
     ]
    },
    {
     "name": "stderr",
     "output_type": "stream",
     "text": [
      "Processing...:  92%|█████████▏| 331/361 [42:14<04:08,  8.27s/it]\n",
      "Embedding extraction: 0it [00:00, ?it/s]\n",
      "Embedding extraction: 1it [00:05,  5.48s/it]\n",
      "                                                                \r"
     ]
    },
    {
     "name": "stdout",
     "output_type": "stream",
     "text": [
      "... frame 332: \n"
     ]
    },
    {
     "name": "stderr",
     "output_type": "stream",
     "text": [
      "Processing...:  92%|█████████▏| 332/361 [42:22<03:59,  8.25s/it]\n",
      "Embedding extraction: 0it [00:00, ?it/s]\n",
      "Embedding extraction: 1it [00:05,  5.11s/it]\n",
      "                                                                \r"
     ]
    },
    {
     "name": "stdout",
     "output_type": "stream",
     "text": [
      "... frame 333: \n"
     ]
    },
    {
     "name": "stderr",
     "output_type": "stream",
     "text": [
      "Processing...:  92%|█████████▏| 333/361 [42:30<03:46,  8.10s/it]\n",
      "Embedding extraction: 0it [00:00, ?it/s]\n",
      "Embedding extraction: 1it [00:05,  5.42s/it]\n",
      "                                                                \r"
     ]
    },
    {
     "name": "stdout",
     "output_type": "stream",
     "text": [
      "... frame 334: \n"
     ]
    },
    {
     "name": "stderr",
     "output_type": "stream",
     "text": [
      "Processing...:  93%|█████████▎| 334/361 [42:38<03:42,  8.24s/it]\n",
      "Embedding extraction: 0it [00:00, ?it/s]\n",
      "Embedding extraction: 1it [00:05,  5.06s/it]\n",
      "                                                                \r"
     ]
    },
    {
     "name": "stdout",
     "output_type": "stream",
     "text": [
      "... frame 335: \n"
     ]
    },
    {
     "name": "stderr",
     "output_type": "stream",
     "text": [
      "Processing...:  93%|█████████▎| 335/361 [42:46<03:29,  8.06s/it]\n",
      "Embedding extraction: 0it [00:00, ?it/s]\n",
      "Embedding extraction: 1it [00:04,  4.93s/it]\n",
      "                                                                \r"
     ]
    },
    {
     "name": "stdout",
     "output_type": "stream",
     "text": [
      "... frame 336: \n"
     ]
    },
    {
     "name": "stderr",
     "output_type": "stream",
     "text": [
      "Processing...:  93%|█████████▎| 336/361 [42:53<03:17,  7.88s/it]\n",
      "Embedding extraction: 0it [00:00, ?it/s]\n",
      "Embedding extraction: 1it [00:05,  5.66s/it]\n",
      "                                                                \r"
     ]
    },
    {
     "name": "stdout",
     "output_type": "stream",
     "text": [
      "... frame 337: \n"
     ]
    },
    {
     "name": "stderr",
     "output_type": "stream",
     "text": [
      "Processing...:  93%|█████████▎| 337/361 [43:02<03:12,  8.04s/it]\n",
      "Embedding extraction: 0it [00:00, ?it/s]\n",
      "Embedding extraction: 1it [00:05,  5.18s/it]\n",
      "                                                                \r"
     ]
    },
    {
     "name": "stdout",
     "output_type": "stream",
     "text": [
      "... frame 338: \n"
     ]
    },
    {
     "name": "stderr",
     "output_type": "stream",
     "text": [
      "Processing...:  94%|█████████▎| 338/361 [43:10<03:03,  7.99s/it]\n",
      "Embedding extraction: 0it [00:00, ?it/s]\n",
      "Embedding extraction: 1it [00:05,  5.22s/it]\n",
      "                                                                \r"
     ]
    },
    {
     "name": "stdout",
     "output_type": "stream",
     "text": [
      "... frame 339: \n"
     ]
    },
    {
     "name": "stderr",
     "output_type": "stream",
     "text": [
      "Processing...:  94%|█████████▍| 339/361 [43:17<02:54,  7.94s/it]\n",
      "Embedding extraction: 0it [00:00, ?it/s]\n",
      "Embedding extraction: 1it [00:05,  5.73s/it]\n",
      "                                                                \r"
     ]
    },
    {
     "name": "stdout",
     "output_type": "stream",
     "text": [
      "... frame 340: \n"
     ]
    },
    {
     "name": "stderr",
     "output_type": "stream",
     "text": [
      "Processing...:  94%|█████████▍| 340/361 [43:26<02:49,  8.09s/it]\n",
      "Embedding extraction: 0it [00:00, ?it/s]\n",
      "Embedding extraction: 1it [00:05,  5.70s/it]\n",
      "                                                                \r"
     ]
    },
    {
     "name": "stdout",
     "output_type": "stream",
     "text": [
      "... frame 341: \n"
     ]
    },
    {
     "name": "stderr",
     "output_type": "stream",
     "text": [
      "Processing...:  94%|█████████▍| 341/361 [43:34<02:43,  8.19s/it]\n",
      "Embedding extraction: 0it [00:00, ?it/s]\n",
      "Embedding extraction: 1it [00:05,  5.14s/it]\n",
      "                                                                \r"
     ]
    },
    {
     "name": "stdout",
     "output_type": "stream",
     "text": [
      "... frame 342: \n"
     ]
    },
    {
     "name": "stderr",
     "output_type": "stream",
     "text": [
      "Processing...:  95%|█████████▍| 342/361 [43:42<02:32,  8.03s/it]\n",
      "Embedding extraction: 0it [00:00, ?it/s]\n",
      "Embedding extraction: 1it [00:05,  5.25s/it]\n",
      "                                                                \r"
     ]
    },
    {
     "name": "stdout",
     "output_type": "stream",
     "text": [
      "... frame 343: \n"
     ]
    },
    {
     "name": "stderr",
     "output_type": "stream",
     "text": [
      "Processing...:  95%|█████████▌| 343/361 [43:50<02:24,  8.01s/it]\n",
      "Embedding extraction: 0it [00:00, ?it/s]\n",
      "Embedding extraction: 1it [00:05,  5.39s/it]\n",
      "                                                                \r"
     ]
    },
    {
     "name": "stdout",
     "output_type": "stream",
     "text": [
      "... frame 344: \n"
     ]
    },
    {
     "name": "stderr",
     "output_type": "stream",
     "text": [
      "Processing...:  95%|█████████▌| 344/361 [43:58<02:16,  8.05s/it]\n",
      "Embedding extraction: 0it [00:00, ?it/s]\n",
      "Embedding extraction: 1it [00:05,  5.34s/it]\n",
      "                                                                \r"
     ]
    },
    {
     "name": "stdout",
     "output_type": "stream",
     "text": [
      "... frame 345: \n"
     ]
    },
    {
     "name": "stderr",
     "output_type": "stream",
     "text": [
      "Processing...:  96%|█████████▌| 345/361 [44:06<02:09,  8.06s/it]\n",
      "Embedding extraction: 0it [00:00, ?it/s]\n",
      "Embedding extraction: 1it [00:05,  5.25s/it]\n",
      "                                                                \r"
     ]
    },
    {
     "name": "stdout",
     "output_type": "stream",
     "text": [
      "... frame 346: \n"
     ]
    },
    {
     "name": "stderr",
     "output_type": "stream",
     "text": [
      "Processing...:  96%|█████████▌| 346/361 [44:14<02:00,  8.03s/it]\n",
      "Embedding extraction: 0it [00:00, ?it/s]\n",
      "Embedding extraction: 1it [00:06,  6.42s/it]\n",
      "                                                                \r"
     ]
    },
    {
     "name": "stdout",
     "output_type": "stream",
     "text": [
      "... frame 347: \n"
     ]
    },
    {
     "name": "stderr",
     "output_type": "stream",
     "text": [
      "Processing...:  96%|█████████▌| 347/361 [44:24<01:58,  8.44s/it]\n",
      "Embedding extraction: 0it [00:00, ?it/s]\n",
      "Embedding extraction: 1it [00:05,  5.46s/it]\n",
      "                                                                \r"
     ]
    },
    {
     "name": "stdout",
     "output_type": "stream",
     "text": [
      "... frame 348: \n"
     ]
    },
    {
     "name": "stderr",
     "output_type": "stream",
     "text": [
      "Processing...:  96%|█████████▋| 348/361 [44:32<01:49,  8.40s/it]\n",
      "Embedding extraction: 0it [00:00, ?it/s]\n",
      "Embedding extraction: 1it [00:05,  5.43s/it]\n",
      "                                                                \r"
     ]
    },
    {
     "name": "stdout",
     "output_type": "stream",
     "text": [
      "... frame 349: \n"
     ]
    },
    {
     "name": "stderr",
     "output_type": "stream",
     "text": [
      "Processing...:  97%|█████████▋| 349/361 [44:40<01:39,  8.30s/it]\n",
      "Embedding extraction: 0it [00:00, ?it/s]\n",
      "Embedding extraction: 1it [00:05,  5.19s/it]\n",
      "                                                                \r"
     ]
    },
    {
     "name": "stdout",
     "output_type": "stream",
     "text": [
      "... frame 350: \n"
     ]
    },
    {
     "name": "stderr",
     "output_type": "stream",
     "text": [
      "Processing...:  97%|█████████▋| 350/361 [44:48<01:29,  8.13s/it]\n",
      "Embedding extraction: 0it [00:00, ?it/s]\n",
      "Embedding extraction: 1it [00:06,  6.39s/it]\n",
      "                                                                \r"
     ]
    },
    {
     "name": "stdout",
     "output_type": "stream",
     "text": [
      "... frame 351: \n"
     ]
    },
    {
     "name": "stderr",
     "output_type": "stream",
     "text": [
      "Processing...:  97%|█████████▋| 351/361 [44:57<01:26,  8.63s/it]\n",
      "Embedding extraction: 0it [00:00, ?it/s]\n",
      "Embedding extraction: 1it [00:05,  5.99s/it]\n",
      "                                                                \r"
     ]
    },
    {
     "name": "stdout",
     "output_type": "stream",
     "text": [
      "... frame 352: \n"
     ]
    },
    {
     "name": "stderr",
     "output_type": "stream",
     "text": [
      "Processing...:  98%|█████████▊| 352/361 [45:06<01:18,  8.74s/it]\n",
      "Embedding extraction: 0it [00:00, ?it/s]\n",
      "Embedding extraction: 1it [00:05,  5.19s/it]\n",
      "                                                                \r"
     ]
    },
    {
     "name": "stdout",
     "output_type": "stream",
     "text": [
      "... frame 353: \n"
     ]
    },
    {
     "name": "stderr",
     "output_type": "stream",
     "text": [
      "Processing...:  98%|█████████▊| 353/361 [45:14<01:07,  8.47s/it]\n",
      "Embedding extraction: 0it [00:00, ?it/s]\n",
      "Embedding extraction: 1it [00:04,  4.94s/it]\n",
      "                                                                \r"
     ]
    },
    {
     "name": "stdout",
     "output_type": "stream",
     "text": [
      "... frame 354: \n"
     ]
    },
    {
     "name": "stderr",
     "output_type": "stream",
     "text": [
      "Processing...:  98%|█████████▊| 354/361 [45:22<00:57,  8.23s/it]\n",
      "Embedding extraction: 0it [00:00, ?it/s]\n",
      "Embedding extraction: 1it [00:05,  5.40s/it]\n",
      "                                                                \r"
     ]
    },
    {
     "name": "stdout",
     "output_type": "stream",
     "text": [
      "... frame 355: \n"
     ]
    },
    {
     "name": "stderr",
     "output_type": "stream",
     "text": [
      "Processing...:  98%|█████████▊| 355/361 [45:30<00:48,  8.15s/it]\n",
      "Embedding extraction: 0it [00:00, ?it/s]\n",
      "Embedding extraction: 1it [00:05,  5.04s/it]\n",
      "                                                                \r"
     ]
    },
    {
     "name": "stdout",
     "output_type": "stream",
     "text": [
      "... frame 356: \n"
     ]
    },
    {
     "name": "stderr",
     "output_type": "stream",
     "text": [
      "Processing...:  99%|█████████▊| 356/361 [45:38<00:40,  8.02s/it]\n",
      "Embedding extraction: 0it [00:00, ?it/s]\n",
      "Embedding extraction: 1it [00:05,  5.08s/it]\n",
      "                                                                \r"
     ]
    },
    {
     "name": "stdout",
     "output_type": "stream",
     "text": [
      "... frame 357: \n"
     ]
    },
    {
     "name": "stderr",
     "output_type": "stream",
     "text": [
      "Processing...:  99%|█████████▉| 357/361 [45:45<00:31,  7.89s/it]\n",
      "Embedding extraction: 0it [00:00, ?it/s]\n",
      "Embedding extraction: 1it [00:05,  5.82s/it]\n",
      "                                                                \r"
     ]
    },
    {
     "name": "stdout",
     "output_type": "stream",
     "text": [
      "... frame 358: \n"
     ]
    },
    {
     "name": "stderr",
     "output_type": "stream",
     "text": [
      "Processing...:  99%|█████████▉| 358/361 [45:54<00:24,  8.07s/it]\n",
      "Embedding extraction: 0it [00:00, ?it/s]\n",
      "Embedding extraction: 1it [00:06,  6.48s/it]\n",
      "                                                                \r"
     ]
    },
    {
     "name": "stdout",
     "output_type": "stream",
     "text": [
      "... frame 359: \n"
     ]
    },
    {
     "name": "stderr",
     "output_type": "stream",
     "text": [
      "Processing...:  99%|█████████▉| 359/361 [46:03<00:16,  8.49s/it]\n",
      "Embedding extraction: 0it [00:00, ?it/s]\n",
      "Embedding extraction: 1it [00:05,  5.75s/it]\n",
      "                                                                \r"
     ]
    },
    {
     "name": "stdout",
     "output_type": "stream",
     "text": [
      "... frame 360: \n"
     ]
    },
    {
     "name": "stderr",
     "output_type": "stream",
     "text": [
      "Processing...: 100%|█████████▉| 360/361 [46:12<00:08,  8.56s/it]\n",
      "Embedding extraction: 0it [00:00, ?it/s]\n",
      "Embedding extraction: 1it [00:05,  5.57s/it]\n",
      "Processing...: 100%|██████████| 361/361 [46:20<00:00,  7.70s/it]\n"
     ]
    }
   ],
   "source": [
    "#Full tracking\n",
    "import supervision as sv\n",
    "from utils.viewtransformer import ViewTransformer\n",
    "from utils.drawpitch import draw_pitch, draw_points_on_pitch\n",
    "\n",
    "BALL_ID = 0\n",
    "PLAYER_ID = 2\n",
    "GOALKEEPER_ID = 1\n",
    "\n",
    "pitch_frames = []\n",
    "\n",
    "ball_coords = []\n",
    "gk_t1_coords = []\n",
    "gk_t2_coords = []\n",
    "\n",
    "player_coords_per_id = dict()\n",
    "player_team_per_id = {}\n",
    "\n",
    "# Tracker\n",
    "tracker = sv.ByteTrack()\n",
    "\n",
    "for frame_index, frame in enumerate(tqdm(frames, desc=\"Processing...\")):\n",
    "    tqdm.write(f\"... frame {frame_index}: \")\n",
    "    \n",
    "    # ball and players detections\n",
    "    result = PLAYER_DETECTION_MODEL.infer(frame, confidence=0.2)[0]\n",
    "    detections = sv.Detections.from_inference(result)\n",
    "\n",
    "    ball_detections = detections[detections.class_id == BALL_ID]\n",
    "    ball_detections.xyxy = sv.pad_boxes(xyxy=ball_detections.xyxy, px=10)\n",
    "    \n",
    "    all_detections = detections[detections.class_id != BALL_ID]\n",
    "    all_detections = all_detections.with_nms(threshold=0.5, class_agnostic=True)\n",
    "    all_detections = tracker.update_with_detections(detections=all_detections)\n",
    "\n",
    "    goalkeepers_detections = all_detections[all_detections.class_id == GOALKEEPER_ID]\n",
    "    players_detections = all_detections[all_detections.class_id == PLAYER_ID]\n",
    "\n",
    "    # team assignment\n",
    "    players_crops = [sv.crop_image(frame, xyxy) for xyxy in players_detections.xyxy]\n",
    "    players_detections.class_id = team_classifier.predict(players_crops)\n",
    "\n",
    "    if len(goalkeepers_detections.xyxy) > 0:\n",
    "        goalkeepers_detections.class_id = resolve_goalkeepers_team_id(\n",
    "            players_detections, goalkeepers_detections)\n",
    "    else:\n",
    "        #if no gk detected no need to resolve team id\n",
    "        goalkeepers_detections.class_id = np.array([])\n",
    "    \n",
    "    all_detections = sv.Detections.merge([players_detections, goalkeepers_detections])\n",
    "\n",
    "    # frame visualization\n",
    "    labels = []\n",
    "    for idx, tracker_id in enumerate(all_detections.tracker_id):\n",
    "        class_id = all_detections.class_id[idx]\n",
    "        if tracker_id in player_team_per_id:\n",
    "            team = player_team_per_id[tracker_id]\n",
    "        else:\n",
    "            team = class_id\n",
    "        labels.append(f\"id_{tracker_id}_t_{team}\")\n",
    "\n",
    "    all_detections.class_id = all_detections.class_id.astype(int)\n",
    "\n",
    "    annotated_frame = frame.copy()\n",
    "    annotated_frame = ellipse_annotator.annotate(\n",
    "        scene=annotated_frame,\n",
    "        detections=all_detections)\n",
    "    annotated_frame = label_annotator.annotate(\n",
    "        scene=annotated_frame,\n",
    "        detections=all_detections,\n",
    "        labels=labels)\n",
    "    annotated_frame = triangle_annotator.annotate(\n",
    "        scene=annotated_frame,\n",
    "        detections=ball_detections)\n",
    "\n",
    "    pitch_frames.append(annotated_frame.copy())\n",
    "    \n",
    "    players_detections = sv.Detections.merge([\n",
    "        players_detections, goalkeepers_detections\n",
    "    ])\n",
    "    \n",
    "    # Detect pitch key points\n",
    "    result = FIELD_DETECTION_MODEL.infer(frame, confidence=0.3)[0]\n",
    "    key_points = sv.KeyPoints.from_inference(result)\n",
    "    \n",
    "    # Ensure key_points is not None and contains valid data\n",
    "    if key_points is None or key_points.confidence is None:\n",
    "        print(f\"Skipping frame {frame_index} due to missing key points.\")\n",
    "        continue  # Skip this frame and move to the next one\n",
    "\n",
    "    # project ball, players and gk on pitch\n",
    "    filter = key_points.confidence[0] > 0.5\n",
    "    frame_reference_points = key_points.xy[0][filter]\n",
    "    pitch_reference_points = np.array(CONFIG.vertices)[filter]\n",
    "\n",
    "    # Ensure there are at least 4 points for homography calculation\n",
    "    if len(frame_reference_points) < 4 or len(pitch_reference_points) < 4:\n",
    "        print(f\"Skipping frame due to insufficient keypoints: {len(frame_reference_points)} found.\")\n",
    "        continue  # Skip this frame and move to the next one\n",
    "\n",
    "    # Proceed with homography calculation\n",
    "    transformer = ViewTransformer(\n",
    "        source = frame_reference_points,\n",
    "        target = pitch_reference_points\n",
    "    )\n",
    "\n",
    "    frame_ball_xy = ball_detections.get_anchors_coordinates(sv.Position.BOTTOM_CENTER)\n",
    "    pitch_ball_xy = transformer.transform_points(points=frame_ball_xy)\n",
    "\n",
    "    players_xy = players_detections.get_anchors_coordinates(sv.Position.BOTTOM_CENTER)\n",
    "    pitch_players_xy = transformer.transform_points(points=players_xy)\n",
    "    \n",
    "    # --- Save player coordinates per ID in pitch space ---\n",
    "    for idx, tracker_id in enumerate(players_detections.tracker_id):\n",
    "        if tracker_id is not None:\n",
    "            if tracker_id not in player_coords_per_id:\n",
    "                player_coords_per_id[tracker_id] = []\n",
    "                # Save the team assignment for this tracker_id\n",
    "                player_team_per_id[tracker_id] = int(players_detections.class_id[idx])\n",
    "            x, y = pitch_players_xy[idx]\n",
    "            player_coords_per_id[tracker_id].append((frame_index, x, y))\n",
    "\n",
    "    # --- Save ball coordinates in pitch space ---\n",
    "    if len(pitch_ball_xy) > 0:\n",
    "        x, y = pitch_ball_xy[0]\n",
    "        ball_coords.append((frame_index, x, y))\n",
    "    else:\n",
    "        ball_coords.append((frame_index, None, None))\n",
    "\n",
    "    # --- Save goalkeeper coordinates for each team in pitch space ---\n",
    "    # Find goalkeepers in players_detections (merged with goalkeepers)\n",
    "    gk_indices = np.where(players_detections.class_id == GOALKEEPER_ID)[0]\n",
    "    for idx in gk_indices:\n",
    "        x, y = pitch_players_xy[idx]\n",
    "        # Use the original team assignment for GKs\n",
    "        team_id = resolve_goalkeepers_team_id(players_detections, players_detections[idx:idx+1])[0]\n",
    "        if team_id == 0:\n",
    "            gk_t1_coords.append((frame_index, x, y))\n",
    "        elif team_id == 1:\n",
    "            gk_t2_coords.append((frame_index, x, y)) \n",
    "    \n",
    "    if frame_index > 30: #bytetrack memory is 30 frames\n",
    "        tracker.reset()"
   ]
  },
  {
   "cell_type": "code",
   "execution_count": 8,
   "id": "1de79c73",
   "metadata": {},
   "outputs": [],
   "source": [
    "#Save frames with detections to folder\n",
    "import cv2\n",
    "import numpy as np\n",
    "import os\n",
    "\n",
    "video_name = os.path.splitext(os.path.basename(SOURCE_VIDEO_PATH))[0]\n",
    "\n",
    "frames_len = len(frames)\n",
    "\n",
    "output_dir = f\"../../data/frames/{video_name}-{frames_len}f\"\n",
    "os.makedirs(output_dir, exist_ok=True)\n",
    "\n",
    "for idx, frame in enumerate(pitch_frames):\n",
    "    frame_path = os.path.join(output_dir, f\"frame_{idx:04d}.png\")\n",
    "    \n",
    "    cv2.imwrite(frame_path,np.array(frame))"
   ]
  },
  {
   "cell_type": "code",
   "execution_count": 9,
   "id": "25b4ef8a",
   "metadata": {},
   "outputs": [
    {
     "name": "stdout",
     "output_type": "stream",
     "text": [
      "Coordinates per frame saved to ../../data/raw-coords/1-first60s-361f.csv\n"
     ]
    }
   ],
   "source": [
    "#Save coordinates per frame to CSV\n",
    "import csv\n",
    "import numpy as np\n",
    "import os\n",
    "\n",
    "video_name = os.path.splitext(os.path.basename(SOURCE_VIDEO_PATH))[0]\n",
    "\n",
    "output_csv_path = f\"../../data/raw-coords/{video_name}-{frames_len}f.csv\" \n",
    "all_ids = sorted(player_coords_per_id.keys())\n",
    "\n",
    "# Build lookups\n",
    "frame_lookup = {}\n",
    "for tracker_id, coords in player_coords_per_id.items():\n",
    "    for frame_index, x, y in coords:\n",
    "        if frame_index not in frame_lookup:\n",
    "            frame_lookup[frame_index] = {}\n",
    "        frame_lookup[frame_index][tracker_id] = [x, y]\n",
    "\n",
    "ball_lookup = {f: [x, y] for f, x, y in ball_coords}\n",
    "\n",
    "header = (\n",
    "    [\"frame_index\", \"ball\"] +\n",
    "    [f\"id_{id}_team_{player_team_per_id[id]}\" for id in all_ids]\n",
    ")\n",
    "\n",
    "all_frames = sorted(set(\n",
    "    list(frame_lookup.keys()) +\n",
    "    list(ball_lookup.keys())\n",
    "))\n",
    "\n",
    "with open(output_csv_path, mode=\"w\", newline=\"\") as file:\n",
    "    writer = csv.writer(file)\n",
    "    writer.writerow(header)\n",
    "    for frame_index in all_frames:\n",
    "        row = [frame_index]\n",
    "        # Ball\n",
    "        ball = ball_lookup.get(frame_index, None)\n",
    "        if ball and None not in ball:\n",
    "            row.append(f\"{ball[0]:.2f},{ball[1]:.2f}\")\n",
    "        else:\n",
    "            row.append(\"\")\n",
    "        # Players by id\n",
    "        for id in all_ids:\n",
    "            coord = frame_lookup.get(frame_index, {}).get(id, None)\n",
    "            if coord and None not in coord:\n",
    "                row.append(f\"{coord[0]:.2f},{coord[1]:.2f}\")\n",
    "            else:\n",
    "                row.append(\"\")\n",
    "        writer.writerow(row)\n",
    "\n",
    "print(f\"Coordinates per frame saved to {output_csv_path}\")"
   ]
  }
 ],
 "metadata": {
  "kernelspec": {
   "display_name": "Python 3",
   "language": "python",
   "name": "python3"
  },
  "language_info": {
   "codemirror_mode": {
    "name": "ipython",
    "version": 3
   },
   "file_extension": ".py",
   "mimetype": "text/x-python",
   "name": "python",
   "nbconvert_exporter": "python",
   "pygments_lexer": "ipython3",
   "version": "3.12.6"
  }
 },
 "nbformat": 4,
 "nbformat_minor": 5
}
