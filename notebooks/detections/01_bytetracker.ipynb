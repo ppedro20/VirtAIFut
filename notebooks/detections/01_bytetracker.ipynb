{
 "cells": [
  {
   "cell_type": "markdown",
   "id": "8ce72010",
   "metadata": {},
   "source": [
    "01. ByteTracker \n",
    "- very easy to implement since its integrated to supervision - the open-source computer vision toolkit by Roboflow\n"
   ]
  },
  {
   "cell_type": "code",
   "execution_count": null,
   "id": "7689e3bb",
   "metadata": {},
   "outputs": [],
   "source": [
    "#imports and paths\n",
    "import os\n",
    "from inference import get_model\n",
    "import supervision as sv\n",
    "from ultralytics import YOLO\n",
    "import numpy as np\n",
    "import sys\n",
    "sys.path.append(os.getenv(\"PROJECT_PATH\"))\n",
    "\n",
    "VIDEO_PATH = \"../../data/videos/old10s.mp4\"\n",
    "PLAYER_DETECTION_MODEL_ID = 'football-players-detection-3zvbc/2'\n",
    "ROBOFLOW_API_KEY = os.getenv(\"ROBOFLOW_API_KEY\")\n",
    "PLAYER_DETECTION_MODEL = get_model(PLAYER_DETECTION_MODEL_ID, ROBOFLOW_API_KEY)\n",
    "tracker = sv.ByteTrack()\n"
   ]
  },
  {
   "cell_type": "markdown",
   "id": "0b2a3934",
   "metadata": {},
   "source": [
    "ByteTracker"
   ]
  },
  {
   "cell_type": "code",
   "execution_count": null,
   "id": "821a5aba",
   "metadata": {},
   "outputs": [],
   "source": [
    "#save results in video\n",
    "tracker = sv.ByteTrack()\n",
    "\n",
    "bounding_box_annotator = sv.BoundingBoxAnnotator()\n",
    "label_annotator = sv.LabelAnnotator()\n",
    "\n",
    "def callback(frame: np.ndarray, index: int) -> np.ndarray:\n",
    "    results = PLAYER_DETECTION_MODEL.infer(frame,confidence=0.3)[0]\n",
    "    detections = sv.Detections.from_inference(results)\n",
    "    \n",
    "    detections = tracker.update_with_detections(detections)\n",
    "\n",
    "    labels = [f\"#{tracker_id}\" for tracker_id in detections.tracker_id]\n",
    "\n",
    "    annotated_frame = bounding_box_annotator.annotate(\n",
    "        scene=frame.copy(), detections=detections)\n",
    "    annotated_frame = label_annotator.annotate(\n",
    "        scene=annotated_frame, detections=detections, labels=labels)\n",
    "    return annotated_frame\n",
    "\n",
    "sv.process_video(\n",
    "    source_path= VIDEO_PATH,\n",
    "    target_path= \"../../data/tracker_outputs/bytetracker.mp4\",\n",
    "    callback=callback\n",
    ")"
   ]
  },
  {
   "cell_type": "code",
   "execution_count": null,
   "id": "7cabdd74",
   "metadata": {},
   "outputs": [],
   "source": [
    "#save results in MOT format\n",
    "def save_mot_format(tracker, video_path, output_path):\n",
    "    os.makedirs(os.path.dirname(output_path), exist_ok=True)\n",
    "    with open(output_path, 'w') as f:\n",
    "        for frame_idx, frame in enumerate(sv.get_video_frames_generator(video_path)):\n",
    "            results = PLAYER_DETECTION_MODEL.infer(frame, confidence=0.3)[0]\n",
    "            detections = sv.Detections.from_inference(results)\n",
    "            detections = tracker.update_with_detections(detections)\n",
    "            for det, track_id in zip(detections.xyxy, detections.tracker_id):\n",
    "                x1, y1, x2, y2 = det\n",
    "                w, h = x2 - x1, y2 - y1\n",
    "                # MOT format: frame, id, x, y, w, h, 1, -1, -1, -1\n",
    "                f.write(f\"{frame_idx+1},{track_id},{x1:.2f},{y1:.2f},{w:.2f},{h:.2f},1,-1,-1,-1\\n\")\n",
    "\n",
    "save_mot_format(tracker, VIDEO_PATH, \"../../data/tracker_outputs/bytetracker_mot.txt\")"
   ]
  },
  {
   "cell_type": "code",
   "execution_count": null,
   "id": "63d2fe56",
   "metadata": {},
   "outputs": [],
   "source": [
    "#MOT Evaluation\n",
    "#todo"
   ]
  }
 ],
 "metadata": {
  "kernelspec": {
   "display_name": "Python 3",
   "language": "python",
   "name": "python3"
  },
  "language_info": {
   "codemirror_mode": {
    "name": "ipython",
    "version": 3
   },
   "file_extension": ".py",
   "mimetype": "text/x-python",
   "name": "python",
   "nbconvert_exporter": "python",
   "pygments_lexer": "ipython3",
   "version": "3.12.6"
  }
 },
 "nbformat": 4,
 "nbformat_minor": 5
}
